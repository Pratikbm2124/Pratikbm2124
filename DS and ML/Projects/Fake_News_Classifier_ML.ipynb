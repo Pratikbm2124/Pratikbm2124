{
 "cells": [
  {
   "cell_type": "code",
   "execution_count": 1,
   "metadata": {},
   "outputs": [],
   "source": [
    "import numpy as np\n",
    "import pandas as pd"
   ]
  },
  {
   "cell_type": "code",
   "execution_count": 2,
   "metadata": {},
   "outputs": [],
   "source": [
    "df = pd.read_csv('train.csv')         # loading the data"
   ]
  },
  {
   "cell_type": "code",
   "execution_count": 3,
   "metadata": {},
   "outputs": [
    {
     "data": {
      "text/html": [
       "<div>\n",
       "<style scoped>\n",
       "    .dataframe tbody tr th:only-of-type {\n",
       "        vertical-align: middle;\n",
       "    }\n",
       "\n",
       "    .dataframe tbody tr th {\n",
       "        vertical-align: top;\n",
       "    }\n",
       "\n",
       "    .dataframe thead th {\n",
       "        text-align: right;\n",
       "    }\n",
       "</style>\n",
       "<table border=\"1\" class=\"dataframe\">\n",
       "  <thead>\n",
       "    <tr style=\"text-align: right;\">\n",
       "      <th></th>\n",
       "      <th>id</th>\n",
       "      <th>title</th>\n",
       "      <th>author</th>\n",
       "      <th>text</th>\n",
       "      <th>label</th>\n",
       "    </tr>\n",
       "  </thead>\n",
       "  <tbody>\n",
       "    <tr>\n",
       "      <th>0</th>\n",
       "      <td>0</td>\n",
       "      <td>House Dem Aide: We Didn’t Even See Comey’s Let...</td>\n",
       "      <td>Darrell Lucus</td>\n",
       "      <td>House Dem Aide: We Didn’t Even See Comey’s Let...</td>\n",
       "      <td>1</td>\n",
       "    </tr>\n",
       "    <tr>\n",
       "      <th>1</th>\n",
       "      <td>1</td>\n",
       "      <td>FLYNN: Hillary Clinton, Big Woman on Campus - ...</td>\n",
       "      <td>Daniel J. Flynn</td>\n",
       "      <td>Ever get the feeling your life circles the rou...</td>\n",
       "      <td>0</td>\n",
       "    </tr>\n",
       "    <tr>\n",
       "      <th>2</th>\n",
       "      <td>2</td>\n",
       "      <td>Why the Truth Might Get You Fired</td>\n",
       "      <td>Consortiumnews.com</td>\n",
       "      <td>Why the Truth Might Get You Fired October 29, ...</td>\n",
       "      <td>1</td>\n",
       "    </tr>\n",
       "    <tr>\n",
       "      <th>3</th>\n",
       "      <td>3</td>\n",
       "      <td>15 Civilians Killed In Single US Airstrike Hav...</td>\n",
       "      <td>Jessica Purkiss</td>\n",
       "      <td>Videos 15 Civilians Killed In Single US Airstr...</td>\n",
       "      <td>1</td>\n",
       "    </tr>\n",
       "    <tr>\n",
       "      <th>4</th>\n",
       "      <td>4</td>\n",
       "      <td>Iranian woman jailed for fictional unpublished...</td>\n",
       "      <td>Howard Portnoy</td>\n",
       "      <td>Print \\nAn Iranian woman has been sentenced to...</td>\n",
       "      <td>1</td>\n",
       "    </tr>\n",
       "  </tbody>\n",
       "</table>\n",
       "</div>"
      ],
      "text/plain": [
       "   id                                              title              author  \\\n",
       "0   0  House Dem Aide: We Didn’t Even See Comey’s Let...       Darrell Lucus   \n",
       "1   1  FLYNN: Hillary Clinton, Big Woman on Campus - ...     Daniel J. Flynn   \n",
       "2   2                  Why the Truth Might Get You Fired  Consortiumnews.com   \n",
       "3   3  15 Civilians Killed In Single US Airstrike Hav...     Jessica Purkiss   \n",
       "4   4  Iranian woman jailed for fictional unpublished...      Howard Portnoy   \n",
       "\n",
       "                                                text  label  \n",
       "0  House Dem Aide: We Didn’t Even See Comey’s Let...      1  \n",
       "1  Ever get the feeling your life circles the rou...      0  \n",
       "2  Why the Truth Might Get You Fired October 29, ...      1  \n",
       "3  Videos 15 Civilians Killed In Single US Airstr...      1  \n",
       "4  Print \\nAn Iranian woman has been sentenced to...      1  "
      ]
     },
     "execution_count": 3,
     "metadata": {},
     "output_type": "execute_result"
    }
   ],
   "source": [
    "df.head()"
   ]
  },
  {
   "cell_type": "code",
   "execution_count": 4,
   "metadata": {},
   "outputs": [
    {
     "data": {
      "text/plain": [
       "id           0\n",
       "title      558\n",
       "author    1957\n",
       "text        39\n",
       "label        0\n",
       "dtype: int64"
      ]
     },
     "execution_count": 4,
     "metadata": {},
     "output_type": "execute_result"
    }
   ],
   "source": [
    "df.isnull().sum()"
   ]
  },
  {
   "cell_type": "code",
   "execution_count": 5,
   "metadata": {},
   "outputs": [],
   "source": [
    "news_data = df.copy()      # make a copy"
   ]
  },
  {
   "cell_type": "code",
   "execution_count": 6,
   "metadata": {},
   "outputs": [
    {
     "data": {
      "text/html": [
       "<div>\n",
       "<style scoped>\n",
       "    .dataframe tbody tr th:only-of-type {\n",
       "        vertical-align: middle;\n",
       "    }\n",
       "\n",
       "    .dataframe tbody tr th {\n",
       "        vertical-align: top;\n",
       "    }\n",
       "\n",
       "    .dataframe thead th {\n",
       "        text-align: right;\n",
       "    }\n",
       "</style>\n",
       "<table border=\"1\" class=\"dataframe\">\n",
       "  <thead>\n",
       "    <tr style=\"text-align: right;\">\n",
       "      <th></th>\n",
       "      <th>id</th>\n",
       "      <th>title</th>\n",
       "      <th>author</th>\n",
       "      <th>text</th>\n",
       "      <th>label</th>\n",
       "    </tr>\n",
       "  </thead>\n",
       "  <tbody>\n",
       "    <tr>\n",
       "      <th>0</th>\n",
       "      <td>0</td>\n",
       "      <td>House Dem Aide: We Didn’t Even See Comey’s Let...</td>\n",
       "      <td>Darrell Lucus</td>\n",
       "      <td>House Dem Aide: We Didn’t Even See Comey’s Let...</td>\n",
       "      <td>1</td>\n",
       "    </tr>\n",
       "    <tr>\n",
       "      <th>1</th>\n",
       "      <td>1</td>\n",
       "      <td>FLYNN: Hillary Clinton, Big Woman on Campus - ...</td>\n",
       "      <td>Daniel J. Flynn</td>\n",
       "      <td>Ever get the feeling your life circles the rou...</td>\n",
       "      <td>0</td>\n",
       "    </tr>\n",
       "    <tr>\n",
       "      <th>2</th>\n",
       "      <td>2</td>\n",
       "      <td>Why the Truth Might Get You Fired</td>\n",
       "      <td>Consortiumnews.com</td>\n",
       "      <td>Why the Truth Might Get You Fired October 29, ...</td>\n",
       "      <td>1</td>\n",
       "    </tr>\n",
       "    <tr>\n",
       "      <th>3</th>\n",
       "      <td>3</td>\n",
       "      <td>15 Civilians Killed In Single US Airstrike Hav...</td>\n",
       "      <td>Jessica Purkiss</td>\n",
       "      <td>Videos 15 Civilians Killed In Single US Airstr...</td>\n",
       "      <td>1</td>\n",
       "    </tr>\n",
       "    <tr>\n",
       "      <th>4</th>\n",
       "      <td>4</td>\n",
       "      <td>Iranian woman jailed for fictional unpublished...</td>\n",
       "      <td>Howard Portnoy</td>\n",
       "      <td>Print \\nAn Iranian woman has been sentenced to...</td>\n",
       "      <td>1</td>\n",
       "    </tr>\n",
       "  </tbody>\n",
       "</table>\n",
       "</div>"
      ],
      "text/plain": [
       "   id                                              title              author  \\\n",
       "0   0  House Dem Aide: We Didn’t Even See Comey’s Let...       Darrell Lucus   \n",
       "1   1  FLYNN: Hillary Clinton, Big Woman on Campus - ...     Daniel J. Flynn   \n",
       "2   2                  Why the Truth Might Get You Fired  Consortiumnews.com   \n",
       "3   3  15 Civilians Killed In Single US Airstrike Hav...     Jessica Purkiss   \n",
       "4   4  Iranian woman jailed for fictional unpublished...      Howard Portnoy   \n",
       "\n",
       "                                                text  label  \n",
       "0  House Dem Aide: We Didn’t Even See Comey’s Let...      1  \n",
       "1  Ever get the feeling your life circles the rou...      0  \n",
       "2  Why the Truth Might Get You Fired October 29, ...      1  \n",
       "3  Videos 15 Civilians Killed In Single US Airstr...      1  \n",
       "4  Print \\nAn Iranian woman has been sentenced to...      1  "
      ]
     },
     "execution_count": 6,
     "metadata": {},
     "output_type": "execute_result"
    }
   ],
   "source": [
    "news_data.head()"
   ]
  },
  {
   "cell_type": "code",
   "execution_count": 7,
   "metadata": {},
   "outputs": [],
   "source": [
    "news_data.dropna(inplace=True)       # drop all the na values/rows"
   ]
  },
  {
   "cell_type": "code",
   "execution_count": 8,
   "metadata": {},
   "outputs": [
    {
     "data": {
      "text/plain": [
       "id        0\n",
       "title     0\n",
       "author    0\n",
       "text      0\n",
       "label     0\n",
       "dtype: int64"
      ]
     },
     "execution_count": 8,
     "metadata": {},
     "output_type": "execute_result"
    }
   ],
   "source": [
    "news_data.isnull().sum()"
   ]
  },
  {
   "cell_type": "code",
   "execution_count": 9,
   "metadata": {},
   "outputs": [],
   "source": [
    "news_data.reset_index(inplace=True)   # reset index "
   ]
  },
  {
   "cell_type": "code",
   "execution_count": 10,
   "metadata": {},
   "outputs": [],
   "source": [
    "# Remove all the punctuations and special characters as they are not required\n",
    "news_data['text'].replace('[^a-zA-Z]',' ', regex=True, inplace=True)\n",
    "news_data['title'].replace('[^a-zA-Z]',' ', regex=True, inplace=True)"
   ]
  },
  {
   "cell_type": "code",
   "execution_count": 11,
   "metadata": {},
   "outputs": [
    {
     "data": {
      "text/html": [
       "<div>\n",
       "<style scoped>\n",
       "    .dataframe tbody tr th:only-of-type {\n",
       "        vertical-align: middle;\n",
       "    }\n",
       "\n",
       "    .dataframe tbody tr th {\n",
       "        vertical-align: top;\n",
       "    }\n",
       "\n",
       "    .dataframe thead th {\n",
       "        text-align: right;\n",
       "    }\n",
       "</style>\n",
       "<table border=\"1\" class=\"dataframe\">\n",
       "  <thead>\n",
       "    <tr style=\"text-align: right;\">\n",
       "      <th></th>\n",
       "      <th>index</th>\n",
       "      <th>id</th>\n",
       "      <th>title</th>\n",
       "      <th>author</th>\n",
       "      <th>text</th>\n",
       "      <th>label</th>\n",
       "    </tr>\n",
       "  </thead>\n",
       "  <tbody>\n",
       "    <tr>\n",
       "      <th>0</th>\n",
       "      <td>0</td>\n",
       "      <td>0</td>\n",
       "      <td>House Dem Aide  We Didn t Even See Comey s Let...</td>\n",
       "      <td>Darrell Lucus</td>\n",
       "      <td>House Dem Aide  We Didn t Even See Comey s Let...</td>\n",
       "      <td>1</td>\n",
       "    </tr>\n",
       "    <tr>\n",
       "      <th>1</th>\n",
       "      <td>1</td>\n",
       "      <td>1</td>\n",
       "      <td>FLYNN  Hillary Clinton  Big Woman on Campus   ...</td>\n",
       "      <td>Daniel J. Flynn</td>\n",
       "      <td>Ever get the feeling your life circles the rou...</td>\n",
       "      <td>0</td>\n",
       "    </tr>\n",
       "    <tr>\n",
       "      <th>2</th>\n",
       "      <td>2</td>\n",
       "      <td>2</td>\n",
       "      <td>Why the Truth Might Get You Fired</td>\n",
       "      <td>Consortiumnews.com</td>\n",
       "      <td>Why the Truth Might Get You Fired October     ...</td>\n",
       "      <td>1</td>\n",
       "    </tr>\n",
       "    <tr>\n",
       "      <th>3</th>\n",
       "      <td>3</td>\n",
       "      <td>3</td>\n",
       "      <td>Civilians Killed In Single US Airstrike Hav...</td>\n",
       "      <td>Jessica Purkiss</td>\n",
       "      <td>Videos    Civilians Killed In Single US Airstr...</td>\n",
       "      <td>1</td>\n",
       "    </tr>\n",
       "    <tr>\n",
       "      <th>4</th>\n",
       "      <td>4</td>\n",
       "      <td>4</td>\n",
       "      <td>Iranian woman jailed for fictional unpublished...</td>\n",
       "      <td>Howard Portnoy</td>\n",
       "      <td>Print  An Iranian woman has been sentenced to ...</td>\n",
       "      <td>1</td>\n",
       "    </tr>\n",
       "  </tbody>\n",
       "</table>\n",
       "</div>"
      ],
      "text/plain": [
       "   index  id                                              title  \\\n",
       "0      0   0  House Dem Aide  We Didn t Even See Comey s Let...   \n",
       "1      1   1  FLYNN  Hillary Clinton  Big Woman on Campus   ...   \n",
       "2      2   2                  Why the Truth Might Get You Fired   \n",
       "3      3   3     Civilians Killed In Single US Airstrike Hav...   \n",
       "4      4   4  Iranian woman jailed for fictional unpublished...   \n",
       "\n",
       "               author                                               text  \\\n",
       "0       Darrell Lucus  House Dem Aide  We Didn t Even See Comey s Let...   \n",
       "1     Daniel J. Flynn  Ever get the feeling your life circles the rou...   \n",
       "2  Consortiumnews.com  Why the Truth Might Get You Fired October     ...   \n",
       "3     Jessica Purkiss  Videos    Civilians Killed In Single US Airstr...   \n",
       "4      Howard Portnoy  Print  An Iranian woman has been sentenced to ...   \n",
       "\n",
       "   label  \n",
       "0      1  \n",
       "1      0  \n",
       "2      1  \n",
       "3      1  \n",
       "4      1  "
      ]
     },
     "execution_count": 11,
     "metadata": {},
     "output_type": "execute_result"
    }
   ],
   "source": [
    "news_data.head()"
   ]
  },
  {
   "cell_type": "code",
   "execution_count": 12,
   "metadata": {},
   "outputs": [],
   "source": [
    "# lower all the text so that there is no bias between words\n",
    "news_data['text'] = news_data['text'].apply(lambda x: x.lower())\n",
    "news_data['title'] = news_data['title'].apply(lambda x: x.lower())"
   ]
  },
  {
   "cell_type": "code",
   "execution_count": 13,
   "metadata": {},
   "outputs": [
    {
     "data": {
      "text/html": [
       "<div>\n",
       "<style scoped>\n",
       "    .dataframe tbody tr th:only-of-type {\n",
       "        vertical-align: middle;\n",
       "    }\n",
       "\n",
       "    .dataframe tbody tr th {\n",
       "        vertical-align: top;\n",
       "    }\n",
       "\n",
       "    .dataframe thead th {\n",
       "        text-align: right;\n",
       "    }\n",
       "</style>\n",
       "<table border=\"1\" class=\"dataframe\">\n",
       "  <thead>\n",
       "    <tr style=\"text-align: right;\">\n",
       "      <th></th>\n",
       "      <th>index</th>\n",
       "      <th>id</th>\n",
       "      <th>title</th>\n",
       "      <th>author</th>\n",
       "      <th>text</th>\n",
       "      <th>label</th>\n",
       "    </tr>\n",
       "  </thead>\n",
       "  <tbody>\n",
       "    <tr>\n",
       "      <th>0</th>\n",
       "      <td>0</td>\n",
       "      <td>0</td>\n",
       "      <td>house dem aide  we didn t even see comey s let...</td>\n",
       "      <td>Darrell Lucus</td>\n",
       "      <td>house dem aide  we didn t even see comey s let...</td>\n",
       "      <td>1</td>\n",
       "    </tr>\n",
       "    <tr>\n",
       "      <th>1</th>\n",
       "      <td>1</td>\n",
       "      <td>1</td>\n",
       "      <td>flynn  hillary clinton  big woman on campus   ...</td>\n",
       "      <td>Daniel J. Flynn</td>\n",
       "      <td>ever get the feeling your life circles the rou...</td>\n",
       "      <td>0</td>\n",
       "    </tr>\n",
       "    <tr>\n",
       "      <th>2</th>\n",
       "      <td>2</td>\n",
       "      <td>2</td>\n",
       "      <td>why the truth might get you fired</td>\n",
       "      <td>Consortiumnews.com</td>\n",
       "      <td>why the truth might get you fired october     ...</td>\n",
       "      <td>1</td>\n",
       "    </tr>\n",
       "    <tr>\n",
       "      <th>3</th>\n",
       "      <td>3</td>\n",
       "      <td>3</td>\n",
       "      <td>civilians killed in single us airstrike hav...</td>\n",
       "      <td>Jessica Purkiss</td>\n",
       "      <td>videos    civilians killed in single us airstr...</td>\n",
       "      <td>1</td>\n",
       "    </tr>\n",
       "    <tr>\n",
       "      <th>4</th>\n",
       "      <td>4</td>\n",
       "      <td>4</td>\n",
       "      <td>iranian woman jailed for fictional unpublished...</td>\n",
       "      <td>Howard Portnoy</td>\n",
       "      <td>print  an iranian woman has been sentenced to ...</td>\n",
       "      <td>1</td>\n",
       "    </tr>\n",
       "  </tbody>\n",
       "</table>\n",
       "</div>"
      ],
      "text/plain": [
       "   index  id                                              title  \\\n",
       "0      0   0  house dem aide  we didn t even see comey s let...   \n",
       "1      1   1  flynn  hillary clinton  big woman on campus   ...   \n",
       "2      2   2                  why the truth might get you fired   \n",
       "3      3   3     civilians killed in single us airstrike hav...   \n",
       "4      4   4  iranian woman jailed for fictional unpublished...   \n",
       "\n",
       "               author                                               text  \\\n",
       "0       Darrell Lucus  house dem aide  we didn t even see comey s let...   \n",
       "1     Daniel J. Flynn  ever get the feeling your life circles the rou...   \n",
       "2  Consortiumnews.com  why the truth might get you fired october     ...   \n",
       "3     Jessica Purkiss  videos    civilians killed in single us airstr...   \n",
       "4      Howard Portnoy  print  an iranian woman has been sentenced to ...   \n",
       "\n",
       "   label  \n",
       "0      1  \n",
       "1      0  \n",
       "2      1  \n",
       "3      1  \n",
       "4      1  "
      ]
     },
     "execution_count": 13,
     "metadata": {},
     "output_type": "execute_result"
    }
   ],
   "source": [
    "news_data.head()"
   ]
  },
  {
   "cell_type": "code",
   "execution_count": 14,
   "metadata": {},
   "outputs": [
    {
     "data": {
      "text/plain": [
       "'house dem aide  we didn t even see comey s letter until jason chaffetz tweeted it'"
      ]
     },
     "execution_count": 14,
     "metadata": {},
     "output_type": "execute_result"
    }
   ],
   "source": [
    "news_data['title'][0]"
   ]
  },
  {
   "cell_type": "code",
   "execution_count": 15,
   "metadata": {
    "scrolled": true
   },
   "outputs": [
    {
     "data": {
      "text/plain": [
       "'house dem aide  we didn t even see comey s letter until jason chaffetz tweeted it by darrell lucus on october          subscribe jason chaffetz on the stump in american fork  utah   image courtesy michael jolley  available under a creative commons by license   with apologies to keith olbermann  there is no doubt who the worst person in the world is this week fbi director james comey  but according to a house democratic aide  it looks like we also know who the second worst person is as well  it turns out that when comey sent his now infamous letter announcing that the fbi was looking into emails that may be related to hillary clinton s email server  the ranking democrats on the relevant committees didn t hear about it from comey  they found out via a tweet from one of the republican committee chairmen   as we now know  comey notified the republican chairmen and democratic ranking members of the house intelligence  judiciary  and oversight committees that his agency was reviewing emails it had recently discovered in order to see if they contained classified information  not long after this letter went out  oversight committee chairman jason chaffetz set the political world ablaze with this tweet  fbi dir just informed me   the fbi has learned of the existence of emails that appear to be pertinent to the investigation   case reopened    jason chaffetz   jasoninthehouse  october           of course  we now know that this was not the case   comey was actually saying that it was reviewing the emails in light of  an unrelated case  which we now know to be anthony weiner s sexting with a teenager  but apparently such little things as facts didn t matter to chaffetz  the utah republican had already vowed to initiate a raft of investigations if hillary wins at least two years  worth  and possibly an entire term s worth of them  apparently chaffetz thought the fbi was already doing his work for him resulting in a tweet that briefly roiled the nation before cooler heads realized it was a dud   but according to a senior house democratic aide  misreading that letter may have been the least of chaffetz  sins  that aide told shareblue that his boss and other democrats didn t even know about comey s letter at the time and only found out when they checked twitter   democratic ranking members on the relevant committees didn t receive comey s letter until after the republican chairmen  in fact  the democratic ranking members didn  receive it until after the chairman of the oversight and government reform committee  jason chaffetz  tweeted it out and made it public    so let s see if we ve got this right  the fbi director tells chaffetz and other gop committee chairmen about a major development in a potentially politically explosive investigation  and neither chaffetz nor his other colleagues had the courtesy to let their democratic counterparts know about it  instead  according to this aide  he made them find out about it on twitter   there has already been talk on daily kos that comey himself provided advance notice of this letter to chaffetz and other republicans  giving them time to turn on the spin machine  that may make for good theater  but there is nothing so far that even suggests this is the case  after all  there is nothing so far that suggests that comey was anything other than grossly incompetent and tone deaf   what it does suggest  however  is that chaffetz is acting in a way that makes dan burton and darrell issa look like models of responsibility and bipartisanship  he didn t even have the decency to notify ranking member elijah cummings about something this explosive  if that doesn t trample on basic standards of fairness  i don t know what does   granted  it s not likely that chaffetz will have to answer for this  he sits in a ridiculously republican district anchored in provo and orem  it has a cook partisan voting index of r     and gave mitt romney a punishing    percent of the vote in       moreover  the republican house leadership has given its full support to chaffetz  planned fishing expedition  but that doesn t mean we can t turn the hot lights on him  after all  he is a textbook example of what the house has become under republican control  and he is also the second worst person in the world  about darrell lucus  darrell is a    something graduate of the university of north carolina who considers himself a journalist of the old school  an attempt to turn him into a member of the religious right in college only succeeded in turning him into the religious right s worst nightmare  a charismatic christian who is an unapologetic liberal  his desire to stand up for those who have been scared into silence only increased when he survived an abusive three year marriage  you may know him on daily kos as christian dem in nc   follow him on twitter  darrelllucus or connect with him on facebook   click here to buy darrell a mello yello  connect'"
      ]
     },
     "execution_count": 15,
     "metadata": {},
     "output_type": "execute_result"
    }
   ],
   "source": [
    "news_data['text'][0]"
   ]
  },
  {
   "cell_type": "code",
   "execution_count": 16,
   "metadata": {},
   "outputs": [],
   "source": [
    "from nltk.corpus import stopwords\n",
    "from nltk.stem.porter import PorterStemmer\n",
    "ps = PorterStemmer()"
   ]
  },
  {
   "cell_type": "code",
   "execution_count": 17,
   "metadata": {},
   "outputs": [
    {
     "name": "stderr",
     "output_type": "stream",
     "text": [
      "[nltk_data] Downloading package stopwords to\n",
      "[nltk_data]     C:\\Users\\prati\\AppData\\Roaming\\nltk_data...\n",
      "[nltk_data]   Package stopwords is already up-to-date!\n"
     ]
    },
    {
     "data": {
      "text/plain": [
       "True"
      ]
     },
     "execution_count": 17,
     "metadata": {},
     "output_type": "execute_result"
    }
   ],
   "source": [
    "import nltk\n",
    "nltk.download('stopwords')"
   ]
  },
  {
   "cell_type": "code",
   "execution_count": 18,
   "metadata": {
    "scrolled": true
   },
   "outputs": [],
   "source": [
    "news_data['stem_text'] = news_data['text'].apply(lambda x:[ps.stem(word) for word in x.split() if not word in stopwords.words('english')])"
   ]
  },
  {
   "cell_type": "code",
   "execution_count": 19,
   "metadata": {},
   "outputs": [],
   "source": [
    "news_data['stem_title'] = news_data['title'].apply(lambda x:[ps.stem(word) for word in x.split() if not word in stopwords.words('english')])"
   ]
  },
  {
   "cell_type": "code",
   "execution_count": 20,
   "metadata": {},
   "outputs": [
    {
     "data": {
      "text/html": [
       "<div>\n",
       "<style scoped>\n",
       "    .dataframe tbody tr th:only-of-type {\n",
       "        vertical-align: middle;\n",
       "    }\n",
       "\n",
       "    .dataframe tbody tr th {\n",
       "        vertical-align: top;\n",
       "    }\n",
       "\n",
       "    .dataframe thead th {\n",
       "        text-align: right;\n",
       "    }\n",
       "</style>\n",
       "<table border=\"1\" class=\"dataframe\">\n",
       "  <thead>\n",
       "    <tr style=\"text-align: right;\">\n",
       "      <th></th>\n",
       "      <th>index</th>\n",
       "      <th>id</th>\n",
       "      <th>title</th>\n",
       "      <th>author</th>\n",
       "      <th>text</th>\n",
       "      <th>label</th>\n",
       "      <th>stem_text</th>\n",
       "      <th>stem_title</th>\n",
       "    </tr>\n",
       "  </thead>\n",
       "  <tbody>\n",
       "    <tr>\n",
       "      <th>0</th>\n",
       "      <td>0</td>\n",
       "      <td>0</td>\n",
       "      <td>house dem aide  we didn t even see comey s let...</td>\n",
       "      <td>Darrell Lucus</td>\n",
       "      <td>house dem aide  we didn t even see comey s let...</td>\n",
       "      <td>1</td>\n",
       "      <td>[hous, dem, aid, even, see, comey, letter, jas...</td>\n",
       "      <td>[hous, dem, aid, even, see, comey, letter, jas...</td>\n",
       "    </tr>\n",
       "    <tr>\n",
       "      <th>1</th>\n",
       "      <td>1</td>\n",
       "      <td>1</td>\n",
       "      <td>flynn  hillary clinton  big woman on campus   ...</td>\n",
       "      <td>Daniel J. Flynn</td>\n",
       "      <td>ever get the feeling your life circles the rou...</td>\n",
       "      <td>0</td>\n",
       "      <td>[ever, get, feel, life, circl, roundabout, rat...</td>\n",
       "      <td>[flynn, hillari, clinton, big, woman, campu, b...</td>\n",
       "    </tr>\n",
       "    <tr>\n",
       "      <th>2</th>\n",
       "      <td>2</td>\n",
       "      <td>2</td>\n",
       "      <td>why the truth might get you fired</td>\n",
       "      <td>Consortiumnews.com</td>\n",
       "      <td>why the truth might get you fired october     ...</td>\n",
       "      <td>1</td>\n",
       "      <td>[truth, might, get, fire, octob, tension, inte...</td>\n",
       "      <td>[truth, might, get, fire]</td>\n",
       "    </tr>\n",
       "    <tr>\n",
       "      <th>3</th>\n",
       "      <td>3</td>\n",
       "      <td>3</td>\n",
       "      <td>civilians killed in single us airstrike hav...</td>\n",
       "      <td>Jessica Purkiss</td>\n",
       "      <td>videos    civilians killed in single us airstr...</td>\n",
       "      <td>1</td>\n",
       "      <td>[video, civilian, kill, singl, us, airstrik, i...</td>\n",
       "      <td>[civilian, kill, singl, us, airstrik, identifi]</td>\n",
       "    </tr>\n",
       "    <tr>\n",
       "      <th>4</th>\n",
       "      <td>4</td>\n",
       "      <td>4</td>\n",
       "      <td>iranian woman jailed for fictional unpublished...</td>\n",
       "      <td>Howard Portnoy</td>\n",
       "      <td>print  an iranian woman has been sentenced to ...</td>\n",
       "      <td>1</td>\n",
       "      <td>[print, iranian, woman, sentenc, six, year, pr...</td>\n",
       "      <td>[iranian, woman, jail, fiction, unpublish, sto...</td>\n",
       "    </tr>\n",
       "  </tbody>\n",
       "</table>\n",
       "</div>"
      ],
      "text/plain": [
       "   index  id                                              title  \\\n",
       "0      0   0  house dem aide  we didn t even see comey s let...   \n",
       "1      1   1  flynn  hillary clinton  big woman on campus   ...   \n",
       "2      2   2                  why the truth might get you fired   \n",
       "3      3   3     civilians killed in single us airstrike hav...   \n",
       "4      4   4  iranian woman jailed for fictional unpublished...   \n",
       "\n",
       "               author                                               text  \\\n",
       "0       Darrell Lucus  house dem aide  we didn t even see comey s let...   \n",
       "1     Daniel J. Flynn  ever get the feeling your life circles the rou...   \n",
       "2  Consortiumnews.com  why the truth might get you fired october     ...   \n",
       "3     Jessica Purkiss  videos    civilians killed in single us airstr...   \n",
       "4      Howard Portnoy  print  an iranian woman has been sentenced to ...   \n",
       "\n",
       "   label                                          stem_text  \\\n",
       "0      1  [hous, dem, aid, even, see, comey, letter, jas...   \n",
       "1      0  [ever, get, feel, life, circl, roundabout, rat...   \n",
       "2      1  [truth, might, get, fire, octob, tension, inte...   \n",
       "3      1  [video, civilian, kill, singl, us, airstrik, i...   \n",
       "4      1  [print, iranian, woman, sentenc, six, year, pr...   \n",
       "\n",
       "                                          stem_title  \n",
       "0  [hous, dem, aid, even, see, comey, letter, jas...  \n",
       "1  [flynn, hillari, clinton, big, woman, campu, b...  \n",
       "2                          [truth, might, get, fire]  \n",
       "3    [civilian, kill, singl, us, airstrik, identifi]  \n",
       "4  [iranian, woman, jail, fiction, unpublish, sto...  "
      ]
     },
     "execution_count": 20,
     "metadata": {},
     "output_type": "execute_result"
    }
   ],
   "source": [
    "news_data.head()"
   ]
  },
  {
   "cell_type": "code",
   "execution_count": 21,
   "metadata": {},
   "outputs": [],
   "source": [
    "# Join the words\n",
    "news_data['stem_text'] = news_data['stem_text'].apply(lambda x: ' '.join(x))"
   ]
  },
  {
   "cell_type": "code",
   "execution_count": 22,
   "metadata": {},
   "outputs": [
    {
     "data": {
      "text/html": [
       "<div>\n",
       "<style scoped>\n",
       "    .dataframe tbody tr th:only-of-type {\n",
       "        vertical-align: middle;\n",
       "    }\n",
       "\n",
       "    .dataframe tbody tr th {\n",
       "        vertical-align: top;\n",
       "    }\n",
       "\n",
       "    .dataframe thead th {\n",
       "        text-align: right;\n",
       "    }\n",
       "</style>\n",
       "<table border=\"1\" class=\"dataframe\">\n",
       "  <thead>\n",
       "    <tr style=\"text-align: right;\">\n",
       "      <th></th>\n",
       "      <th>index</th>\n",
       "      <th>id</th>\n",
       "      <th>title</th>\n",
       "      <th>author</th>\n",
       "      <th>text</th>\n",
       "      <th>label</th>\n",
       "      <th>stem_text</th>\n",
       "      <th>stem_title</th>\n",
       "    </tr>\n",
       "  </thead>\n",
       "  <tbody>\n",
       "    <tr>\n",
       "      <th>0</th>\n",
       "      <td>0</td>\n",
       "      <td>0</td>\n",
       "      <td>house dem aide  we didn t even see comey s let...</td>\n",
       "      <td>Darrell Lucus</td>\n",
       "      <td>house dem aide  we didn t even see comey s let...</td>\n",
       "      <td>1</td>\n",
       "      <td>hous dem aid even see comey letter jason chaff...</td>\n",
       "      <td>[hous, dem, aid, even, see, comey, letter, jas...</td>\n",
       "    </tr>\n",
       "    <tr>\n",
       "      <th>1</th>\n",
       "      <td>1</td>\n",
       "      <td>1</td>\n",
       "      <td>flynn  hillary clinton  big woman on campus   ...</td>\n",
       "      <td>Daniel J. Flynn</td>\n",
       "      <td>ever get the feeling your life circles the rou...</td>\n",
       "      <td>0</td>\n",
       "      <td>ever get feel life circl roundabout rather hea...</td>\n",
       "      <td>[flynn, hillari, clinton, big, woman, campu, b...</td>\n",
       "    </tr>\n",
       "    <tr>\n",
       "      <th>2</th>\n",
       "      <td>2</td>\n",
       "      <td>2</td>\n",
       "      <td>why the truth might get you fired</td>\n",
       "      <td>Consortiumnews.com</td>\n",
       "      <td>why the truth might get you fired october     ...</td>\n",
       "      <td>1</td>\n",
       "      <td>truth might get fire octob tension intellig an...</td>\n",
       "      <td>[truth, might, get, fire]</td>\n",
       "    </tr>\n",
       "    <tr>\n",
       "      <th>3</th>\n",
       "      <td>3</td>\n",
       "      <td>3</td>\n",
       "      <td>civilians killed in single us airstrike hav...</td>\n",
       "      <td>Jessica Purkiss</td>\n",
       "      <td>videos    civilians killed in single us airstr...</td>\n",
       "      <td>1</td>\n",
       "      <td>video civilian kill singl us airstrik identifi...</td>\n",
       "      <td>[civilian, kill, singl, us, airstrik, identifi]</td>\n",
       "    </tr>\n",
       "    <tr>\n",
       "      <th>4</th>\n",
       "      <td>4</td>\n",
       "      <td>4</td>\n",
       "      <td>iranian woman jailed for fictional unpublished...</td>\n",
       "      <td>Howard Portnoy</td>\n",
       "      <td>print  an iranian woman has been sentenced to ...</td>\n",
       "      <td>1</td>\n",
       "      <td>print iranian woman sentenc six year prison ir...</td>\n",
       "      <td>[iranian, woman, jail, fiction, unpublish, sto...</td>\n",
       "    </tr>\n",
       "  </tbody>\n",
       "</table>\n",
       "</div>"
      ],
      "text/plain": [
       "   index  id                                              title  \\\n",
       "0      0   0  house dem aide  we didn t even see comey s let...   \n",
       "1      1   1  flynn  hillary clinton  big woman on campus   ...   \n",
       "2      2   2                  why the truth might get you fired   \n",
       "3      3   3     civilians killed in single us airstrike hav...   \n",
       "4      4   4  iranian woman jailed for fictional unpublished...   \n",
       "\n",
       "               author                                               text  \\\n",
       "0       Darrell Lucus  house dem aide  we didn t even see comey s let...   \n",
       "1     Daniel J. Flynn  ever get the feeling your life circles the rou...   \n",
       "2  Consortiumnews.com  why the truth might get you fired october     ...   \n",
       "3     Jessica Purkiss  videos    civilians killed in single us airstr...   \n",
       "4      Howard Portnoy  print  an iranian woman has been sentenced to ...   \n",
       "\n",
       "   label                                          stem_text  \\\n",
       "0      1  hous dem aid even see comey letter jason chaff...   \n",
       "1      0  ever get feel life circl roundabout rather hea...   \n",
       "2      1  truth might get fire octob tension intellig an...   \n",
       "3      1  video civilian kill singl us airstrik identifi...   \n",
       "4      1  print iranian woman sentenc six year prison ir...   \n",
       "\n",
       "                                          stem_title  \n",
       "0  [hous, dem, aid, even, see, comey, letter, jas...  \n",
       "1  [flynn, hillari, clinton, big, woman, campu, b...  \n",
       "2                          [truth, might, get, fire]  \n",
       "3    [civilian, kill, singl, us, airstrik, identifi]  \n",
       "4  [iranian, woman, jail, fiction, unpublish, sto...  "
      ]
     },
     "execution_count": 22,
     "metadata": {},
     "output_type": "execute_result"
    }
   ],
   "source": [
    "news_data.head()"
   ]
  },
  {
   "cell_type": "code",
   "execution_count": 23,
   "metadata": {},
   "outputs": [],
   "source": [
    "X = news_data['stem_text']\n",
    "y = news_data['label']"
   ]
  },
  {
   "cell_type": "code",
   "execution_count": 24,
   "metadata": {},
   "outputs": [
    {
     "data": {
      "text/plain": [
       "(18285,)"
      ]
     },
     "execution_count": 24,
     "metadata": {},
     "output_type": "execute_result"
    }
   ],
   "source": [
    "X.shape"
   ]
  },
  {
   "cell_type": "code",
   "execution_count": 25,
   "metadata": {},
   "outputs": [
    {
     "data": {
      "text/plain": [
       "(18285,)"
      ]
     },
     "execution_count": 25,
     "metadata": {},
     "output_type": "execute_result"
    }
   ],
   "source": [
    "y.shape"
   ]
  },
  {
   "cell_type": "code",
   "execution_count": 26,
   "metadata": {},
   "outputs": [],
   "source": [
    "# Its time to convert the text so that our machine understands \n",
    "# apply vectorizer\n",
    "from sklearn.feature_extraction.text import CountVectorizer"
   ]
  },
  {
   "cell_type": "code",
   "execution_count": 27,
   "metadata": {},
   "outputs": [],
   "source": [
    "cv = CountVectorizer(max_features=5000,ngram_range=(1,3))\n",
    "# default hparams gives a lot of features, take first 5000 of it"
   ]
  },
  {
   "cell_type": "code",
   "execution_count": 28,
   "metadata": {},
   "outputs": [],
   "source": [
    "X = cv.fit_transform(X).toarray()"
   ]
  },
  {
   "cell_type": "code",
   "execution_count": 29,
   "metadata": {},
   "outputs": [
    {
     "data": {
      "text/plain": [
       "(18285, 5000)"
      ]
     },
     "execution_count": 29,
     "metadata": {},
     "output_type": "execute_result"
    }
   ],
   "source": [
    "X.shape"
   ]
  },
  {
   "cell_type": "code",
   "execution_count": 30,
   "metadata": {
    "scrolled": true
   },
   "outputs": [
    {
     "data": {
      "text/plain": [
       "['aaron',\n",
       " 'abandon',\n",
       " 'abc',\n",
       " 'abe',\n",
       " 'abedin',\n",
       " 'abil',\n",
       " 'abl',\n",
       " 'abort',\n",
       " 'abroad',\n",
       " 'absenc',\n",
       " 'absolut',\n",
       " 'absorb',\n",
       " 'absurd',\n",
       " 'abu',\n",
       " 'abus']"
      ]
     },
     "execution_count": 30,
     "metadata": {},
     "output_type": "execute_result"
    }
   ],
   "source": [
    "cv.get_feature_names()[:15]"
   ]
  },
  {
   "cell_type": "code",
   "execution_count": 31,
   "metadata": {},
   "outputs": [
    {
     "data": {
      "text/plain": [
       "{'analyzer': 'word',\n",
       " 'binary': False,\n",
       " 'decode_error': 'strict',\n",
       " 'dtype': numpy.int64,\n",
       " 'encoding': 'utf-8',\n",
       " 'input': 'content',\n",
       " 'lowercase': True,\n",
       " 'max_df': 1.0,\n",
       " 'max_features': 5000,\n",
       " 'min_df': 1,\n",
       " 'ngram_range': (1, 3),\n",
       " 'preprocessor': None,\n",
       " 'stop_words': None,\n",
       " 'strip_accents': None,\n",
       " 'token_pattern': '(?u)\\\\b\\\\w\\\\w+\\\\b',\n",
       " 'tokenizer': None,\n",
       " 'vocabulary': None}"
      ]
     },
     "execution_count": 31,
     "metadata": {},
     "output_type": "execute_result"
    }
   ],
   "source": [
    "cv.get_params()"
   ]
  },
  {
   "cell_type": "code",
   "execution_count": 32,
   "metadata": {},
   "outputs": [],
   "source": [
    "# Split the data\n",
    "from sklearn.model_selection import train_test_split"
   ]
  },
  {
   "cell_type": "code",
   "execution_count": 33,
   "metadata": {},
   "outputs": [],
   "source": [
    "X_train, X_test, y_train, y_test = train_test_split(X, y, test_size=0.33, random_state=42)"
   ]
  },
  {
   "cell_type": "code",
   "execution_count": 34,
   "metadata": {},
   "outputs": [
    {
     "data": {
      "text/plain": [
       "(12250, 5000)"
      ]
     },
     "execution_count": 34,
     "metadata": {},
     "output_type": "execute_result"
    }
   ],
   "source": [
    "X_train.shape"
   ]
  },
  {
   "cell_type": "code",
   "execution_count": 35,
   "metadata": {},
   "outputs": [
    {
     "data": {
      "text/plain": [
       "(6035, 5000)"
      ]
     },
     "execution_count": 35,
     "metadata": {},
     "output_type": "execute_result"
    }
   ],
   "source": [
    "X_test.shape"
   ]
  },
  {
   "cell_type": "code",
   "execution_count": 36,
   "metadata": {},
   "outputs": [],
   "source": [
    "count_df = pd.DataFrame(X_train,columns=cv.get_feature_names())"
   ]
  },
  {
   "cell_type": "code",
   "execution_count": 37,
   "metadata": {},
   "outputs": [
    {
     "data": {
      "text/plain": [
       "aaron      204\n",
       "abandon    579\n",
       "abc        482\n",
       "abe        167\n",
       "abedin     632\n",
       "          ... \n",
       "zero       589\n",
       "zika       613\n",
       "zionist    279\n",
       "zone       881\n",
       "zu         222\n",
       "Length: 5000, dtype: int64"
      ]
     },
     "execution_count": 37,
     "metadata": {},
     "output_type": "execute_result"
    }
   ],
   "source": [
    "count_df.sum()"
   ]
  },
  {
   "cell_type": "code",
   "execution_count": 38,
   "metadata": {},
   "outputs": [],
   "source": [
    "# import the classifier\n",
    "from sklearn.naive_bayes import MultinomialNB\n",
    "clf = MultinomialNB()"
   ]
  },
  {
   "cell_type": "code",
   "execution_count": 39,
   "metadata": {},
   "outputs": [
    {
     "data": {
      "text/plain": [
       "MultinomialNB()"
      ]
     },
     "execution_count": 39,
     "metadata": {},
     "output_type": "execute_result"
    }
   ],
   "source": [
    "# fit on training data\n",
    "clf.fit(X_train,y_train)"
   ]
  },
  {
   "cell_type": "code",
   "execution_count": 40,
   "metadata": {},
   "outputs": [],
   "source": [
    "# predict on test set\n",
    "predictions = clf.predict(X_test)"
   ]
  },
  {
   "cell_type": "code",
   "execution_count": 41,
   "metadata": {},
   "outputs": [
    {
     "data": {
      "text/plain": [
       "0.8994200497100249"
      ]
     },
     "execution_count": 41,
     "metadata": {},
     "output_type": "execute_result"
    }
   ],
   "source": [
    "clf.score(X_test,y_test)"
   ]
  },
  {
   "cell_type": "code",
   "execution_count": 42,
   "metadata": {},
   "outputs": [],
   "source": [
    "# Checking the performance , import the metrics\n",
    "from sklearn.metrics import confusion_matrix,accuracy_score,classification_report"
   ]
  },
  {
   "cell_type": "code",
   "execution_count": 43,
   "metadata": {},
   "outputs": [],
   "source": [
    "score = accuracy_score(y_test,predictions)\n",
    "cm = confusion_matrix(y_test,predictions)"
   ]
  },
  {
   "cell_type": "code",
   "execution_count": 44,
   "metadata": {},
   "outputs": [],
   "source": [
    "import matplotlib.pyplot as plt\n",
    "import itertools"
   ]
  },
  {
   "cell_type": "code",
   "execution_count": 45,
   "metadata": {},
   "outputs": [],
   "source": [
    "def plot_confusion_matrix(cm, classes,\n",
    "                          normalize=False,\n",
    "                          title='Confusion matrix',\n",
    "                          cmap=plt.cm.Blues):\n",
    "    \"\"\"\n",
    "    See full source and example: \n",
    "    http://scikit-learn.org/stable/auto_examples/model_selection/plot_confusion_matrix.html\n",
    "    \n",
    "    This function prints and plots the confusion matrix.\n",
    "    Normalization can be applied by setting `normalize=True`.\n",
    "    \"\"\"\n",
    "    plt.imshow(cm, interpolation='nearest', cmap=cmap)\n",
    "    plt.title(title)\n",
    "    plt.colorbar()\n",
    "    tick_marks = np.arange(len(classes))\n",
    "    plt.xticks(tick_marks, classes, rotation=45)\n",
    "    plt.yticks(tick_marks, classes)\n",
    "\n",
    "    if normalize:\n",
    "        cm = cm.astype('float') / cm.sum(axis=1)[:, np.newaxis]\n",
    "        print(\"Normalized confusion matrix\")\n",
    "    else:\n",
    "        print('Confusion matrix, without normalization')\n",
    "\n",
    "    thresh = cm.max() / 2.\n",
    "    for i, j in itertools.product(range(cm.shape[0]), range(cm.shape[1])):\n",
    "        plt.text(j, i, cm[i, j],\n",
    "                 horizontalalignment=\"center\",\n",
    "                 color=\"white\" if cm[i, j] > thresh else \"black\")\n",
    "\n",
    "    plt.tight_layout()\n",
    "    plt.ylabel('True label')\n",
    "    plt.xlabel('Predicted label')"
   ]
  },
  {
   "cell_type": "code",
   "execution_count": 46,
   "metadata": {},
   "outputs": [
    {
     "name": "stdout",
     "output_type": "stream",
     "text": [
      "0.8994200497100249\n",
      "Confusion matrix, without normalization\n"
     ]
    },
    {
     "data": {
      "image/png": "[encoded data removed]",
      "text/plain": [
       "<Figure size 432x288 with 2 Axes>"
      ]
     },
     "metadata": {
      "needs_background": "light"
     },
     "output_type": "display_data"
    }
   ],
   "source": [
    "print(score)\n",
    "plot_confusion_matrix(cm, classes=['Fake','Real'])"
   ]
  },
  {
   "cell_type": "code",
   "execution_count": 47,
   "metadata": {},
   "outputs": [],
   "source": [
    "# This below classifier that works good on text data\n",
    "from sklearn.linear_model import PassiveAggressiveClassifier"
   ]
  },
  {
   "cell_type": "code",
   "execution_count": 48,
   "metadata": {},
   "outputs": [],
   "source": [
    "linear_clf = PassiveAggressiveClassifier(max_iter=50)"
   ]
  },
  {
   "cell_type": "code",
   "execution_count": 49,
   "metadata": {},
   "outputs": [
    {
     "name": "stdout",
     "output_type": "stream",
     "text": [
      "accuracy:   0.941\n",
      "Confusion matrix, without normalization\n"
     ]
    },
    {
     "data": {
      "image/png": "[encoded data removed]",
      "text/plain": [
       "<Figure size 432x288 with 2 Axes>"
      ]
     },
     "metadata": {
      "needs_background": "light"
     },
     "output_type": "display_data"
    }
   ],
   "source": [
    "linear_clf.fit(X_train, y_train)\n",
    "pred = linear_clf.predict(X_test)\n",
    "score = accuracy_score(y_test, pred)\n",
    "print(\"accuracy:   %0.3f\" % score)\n",
    "cm = confusion_matrix(y_test, pred)\n",
    "plot_confusion_matrix(cm, classes=['FAKE Data', 'REAL Data'])"
   ]
  },
  {
   "cell_type": "code",
   "execution_count": 50,
   "metadata": {},
   "outputs": [
    {
     "name": "stderr",
     "output_type": "stream",
     "text": [
      "C:\\Users\\prati\\anaconda3\\lib\\site-packages\\sklearn\\naive_bayes.py:511: UserWarning: alpha too small will result in numeric errors, setting alpha = 1.0e-10\n",
      "  warnings.warn('alpha too small will result in numeric errors, '\n"
     ]
    },
    {
     "name": "stdout",
     "output_type": "stream",
     "text": [
      "Alpha: 0.0, Score : 0.9010770505385253\n",
      "Alpha: 0.1, Score : 0.9000828500414251\n",
      "Alpha: 0.2, Score : 0.899917149958575\n",
      "Alpha: 0.30000000000000004, Score : 0.899917149958575\n",
      "Alpha: 0.4, Score : 0.899917149958575\n",
      "Alpha: 0.5, Score : 0.899751449875725\n",
      "Alpha: 0.6000000000000001, Score : 0.899751449875725\n",
      "Alpha: 0.7000000000000001, Score : 0.899751449875725\n",
      "Alpha: 0.8, Score : 0.899751449875725\n",
      "Alpha: 0.9, Score : 0.8994200497100249\n"
     ]
    }
   ],
   "source": [
    "previous_score=0\n",
    "for alpha in np.arange(0,1,0.1):\n",
    "    sub_classifier=MultinomialNB(alpha=alpha)\n",
    "    sub_classifier.fit(X_train,y_train)\n",
    "    y_pred=sub_classifier.predict(X_test)\n",
    "    score = accuracy_score(y_test, y_pred)\n",
    "    if score>previous_score:\n",
    "        classifier=sub_classifier\n",
    "    print(\"Alpha: {}, Score : {}\".format(alpha,score))"
   ]
  },
  {
   "cell_type": "code",
   "execution_count": 51,
   "metadata": {},
   "outputs": [],
   "source": [
    "feature_names = cv.get_feature_names()"
   ]
  },
  {
   "cell_type": "code",
   "execution_count": 52,
   "metadata": {},
   "outputs": [
    {
     "data": {
      "text/plain": [
       "array([-10.68418389,  -9.13528319,  -9.27884134, ...,  -8.93407232,\n",
       "        -8.22864764,  -9.04082889])"
      ]
     },
     "execution_count": 52,
     "metadata": {},
     "output_type": "execute_result"
    }
   ],
   "source": [
    "classifier.coef_[0]"
   ]
  },
  {
   "cell_type": "code",
   "execution_count": 53,
   "metadata": {},
   "outputs": [
    {
     "data": {
      "text/plain": [
       "[(-5.076660766219632, 'trump'),\n",
       " (-5.08335612767174, 'clinton'),\n",
       " (-5.27427719824313, 'one'),\n",
       " (-5.28181105760693, 'peopl'),\n",
       " (-5.299079533414011, 'state'),\n",
       " (-5.412332563582744, 'us'),\n",
       " (-5.420865858957265, 'would'),\n",
       " (-5.502177743471869, 'hillari'),\n",
       " (-5.525356361134659, 'like'),\n",
       " (-5.530865350666565, 'time'),\n",
       " (-5.633207838844511, 'year'),\n",
       " (-5.639947014318752, 'elect'),\n",
       " (-5.690806215544992, 'american'),\n",
       " (-5.691280643867772, 'said'),\n",
       " (-5.782472392197622, 'new'),\n",
       " (-5.804547957104047, 'use'),\n",
       " (-5.813266253020423, 'also'),\n",
       " (-5.8220612266090725, 'go'),\n",
       " (-5.830206952628716, 'govern'),\n",
       " (-5.83057052950196, 'presid')]"
      ]
     },
     "execution_count": 53,
     "metadata": {},
     "output_type": "execute_result"
    }
   ],
   "source": [
    "### Most real\n",
    "sorted(zip(classifier.coef_[0], feature_names), reverse=True)[:20]"
   ]
  },
  {
   "cell_type": "code",
   "execution_count": 54,
   "metadata": {},
   "outputs": [
    {
     "data": {
      "text/plain": [
       "[(-14.548416234396877, 'brief post'),\n",
       " (-14.548416234396877, 'day mr'),\n",
       " (-14.548416234396877, 'devo'),\n",
       " (-14.548416234396877, 'follow pam'),\n",
       " (-14.548416234396877, 'follow pam key'),\n",
       " (-14.548416234396877, 'gorsuch'),\n",
       " (-14.548416234396877, 'judg gorsuch'),\n",
       " (-14.548416234396877, 'key twitter'),\n",
       " (-14.548416234396877, 'key twitter pamkeynen'),\n",
       " (-14.548416234396877, 'morn brief'),\n",
       " (-14.548416234396877, 'mr bannon'),\n",
       " (-14.548416234396877, 'mr castro'),\n",
       " (-14.548416234396877, 'mr christi'),\n",
       " (-14.548416234396877, 'mr cruz'),\n",
       " (-14.548416234396877, 'mr kushner'),\n",
       " (-14.548416234396877, 'mr roof'),\n",
       " (-14.548416234396877, 'mr sander'),\n",
       " (-14.548416234396877, 'mr scott'),\n",
       " (-14.548416234396877, 'mr session'),\n",
       " (-14.548416234396877, 'mr spicer'),\n",
       " (-14.548416234396877, 'mr xi'),\n",
       " (-14.548416234396877, 'ms trump'),\n",
       " (-14.548416234396877, 'pam key'),\n",
       " (-14.548416234396877, 'pam key twitter'),\n",
       " (-14.548416234396877, 'pamkeynen'),\n",
       " (-14.548416234396877, 'said ms'),\n",
       " (-14.548416234396877, 'sean spicer'),\n",
       " (-14.548416234396877, 'spicer'),\n",
       " (-14.548416234396877, 'tillerson'),\n",
       " (-14.548416234396877, 'twitter pamkeynen'),\n",
       " (-14.548416234396877, 'weekday eastern'),\n",
       " (-13.801201832566655, 'critic mr'),\n",
       " (-13.801201832566655, 'gold medal'),\n",
       " (-13.801201832566655, 'meet mr'),\n",
       " (-13.801201832566655, 'month mr'),\n",
       " (-13.801201832566655, 'mr ail'),\n",
       " (-13.801201832566655, 'mr flynn'),\n",
       " (-13.801201832566655, 'mr ryan'),\n",
       " (-13.801201832566655, 'mr trump campaign'),\n",
       " (-13.378344981746622, 'even mr'),\n",
       " (-13.378344981746622, 'like mr'),\n",
       " (-13.378344981746622, 'mr obama said'),\n",
       " (-13.378344981746622, 'mr penc'),\n",
       " (-13.378344981746622, 'phelp'),\n",
       " (-13.378344981746622, 'presid mr'),\n",
       " (-13.378344981746622, 'pruitt'),\n",
       " (-13.378344981746622, 'support mr trump'),\n",
       " (-13.378344981746622, 'weekday'),\n",
       " (-13.08207916560345, 'breitbart news daili'),\n",
       " (-13.08207916560345, 'bronx'),\n",
       " (-13.08207916560345, 'marlow'),\n",
       " (-13.08207916560345, 'matti'),\n",
       " (-13.08207916560345, 'mr kerri'),\n",
       " (-13.08207916560345, 'said mr trump'),\n",
       " (-13.08207916560345, 'work mr'),\n",
       " (-13.08207916560345, 'yiannopoulo'),\n",
       " (-12.85382051362247, 'haley'),\n",
       " (-12.85382051362247, 'interview mr'),\n",
       " (-12.85382051362247, 'jare kushner'),\n",
       " (-12.85382051362247, 'kushner'),\n",
       " (-12.85382051362247, 'mr trump said'),\n",
       " (-12.85382051362247, 'news daili'),\n",
       " (-12.85382051362247, 'twitter post'),\n",
       " (-12.85382051362247, 'year mr'),\n",
       " (-12.668103367827376, 'ask mr'),\n",
       " (-12.668103367827376, 'espn'),\n",
       " (-12.668103367827376, 'freedom caucu'),\n",
       " (-12.668103367827376, 'mr assad'),\n",
       " (-12.668103367827376, 'mr trump mr'),\n",
       " (-12.668103367827376, 'one mr'),\n",
       " (-12.668103367827376, 'playoff'),\n",
       " (-12.668103367827376, 'report breitbart'),\n",
       " (-12.668103367827376, 'siriusxm'),\n",
       " (-12.668103367827376, 'soccer'),\n",
       " (-12.668103367827376, 'state mr'),\n",
       " (-12.668103367827376, 'tenni'),\n",
       " (-12.668103367827376, 'time mr'),\n",
       " (-12.668103367827376, 'volkswagen'),\n",
       " (-12.668103367827376, 'vote mr'),\n",
       " (-12.511534307135836, 'appeal court'),\n",
       " (-12.511534307135836, 'campaign mr'),\n",
       " (-12.511534307135836, 'filibust'),\n",
       " (-12.511534307135836, 'mr bush'),\n",
       " (-12.511534307135836, 'nune'),\n",
       " (-12.511534307135836, 'whether mr'),\n",
       " (-12.376192959266074, 'mr de'),\n",
       " (-12.376192959266074, 'mr erdogan'),\n",
       " (-12.376192959266074, 'question mr'),\n",
       " (-12.376192959266074, 'said dr'),\n",
       " (-12.376192959266074, 'said news'),\n",
       " (-12.376192959266074, 'said still'),\n",
       " (-12.376192959266074, 'show mr'),\n",
       " (-12.376192959266074, 'stephen bannon'),\n",
       " (-12.376192959266074, 'support mr'),\n",
       " (-12.376192959266074, 'told breitbart'),\n",
       " (-12.376192959266074, 'tournament'),\n",
       " (-12.257004442000955, 'american offici'),\n",
       " (-12.257004442000955, 'blasio'),\n",
       " (-12.257004442000955, 'breitbart com'),\n",
       " (-12.257004442000955, 'broadway'),\n",
       " (-12.257004442000955, 'de blasio'),\n",
       " (-12.257004442000955, 'fisher'),\n",
       " (-12.257004442000955, 'major leader'),\n",
       " (-12.150520961598506, 'calif'),\n",
       " (-12.150520961598506, 'call mr'),\n",
       " (-12.150520961598506, 'compani said'),\n",
       " (-12.150520961598506, 'jeff session'),\n",
       " (-12.054292929503951, 'declin comment'),\n",
       " (-12.054292929503951, 'milo'),\n",
       " (-12.054292929503951, 'quarterback'),\n",
       " (-12.054292929503951, 'th street'),\n",
       " (-12.054292929503951, 'week mr'),\n",
       " (-11.966517318621566, 'breitbart texa'),\n",
       " (-11.966517318621566, 'cuomo'),\n",
       " (-11.966517318621566, 'elect mr'),\n",
       " (-11.966517318621566, 'hous press'),\n",
       " (-11.966517318621566, 'said hope'),\n",
       " (-11.966517318621566, 'said presid'),\n",
       " (-11.966517318621566, 'said refer'),\n",
       " (-11.966517318621566, 'said thursday'),\n",
       " (-11.966517318621566, 'trump inaugur'),\n",
       " (-11.966517318621566, 'trump mr'),\n",
       " (-11.966517318621566, 'white hous press'),\n",
       " (-11.966517318621566, 'wrote twitter'),\n",
       " (-11.885828407371424, 'championship'),\n",
       " (-11.885828407371424, 'dope'),\n",
       " (-11.885828407371424, 'mr netanyahu'),\n",
       " (-11.811166878602403, 'chef'),\n",
       " (-11.811166878602403, 'galleri'),\n",
       " (-11.811166878602403, 'hous offici'),\n",
       " (-11.811166878602403, 'juan'),\n",
       " (-11.811166878602403, 'priebu'),\n",
       " (-11.811166878602403, 'super bowl'),\n",
       " (-11.811166878602403, 'white hous offici'),\n",
       " (-11.741694505787637, 'border wall'),\n",
       " (-11.741694505787637, 'bradi'),\n",
       " (-11.741694505787637, 'detaine'),\n",
       " (-11.741694505787637, 'monday night'),\n",
       " (-11.741694505787637, 'nation secur council'),\n",
       " (-11.741694505787637, 'opera'),\n",
       " (-11.741694505787637, 'said even'),\n",
       " (-11.741694505787637, 'sidewalk'),\n",
       " (-11.741694505787637, 'spokesman said'),\n",
       " (-11.741694505787637, 'year said'),\n",
       " (-11.676736609512863, 'airbnb'),\n",
       " (-11.676736609512863, 'pam'),\n",
       " (-11.676736609512863, 'repeal replac'),\n",
       " (-11.676736609512863, 'say mr'),\n",
       " (-11.676736609512863, 'state attorney'),\n",
       " (-11.615742096810022, 'baker'),\n",
       " (-11.615742096810022, 'basketbal'),\n",
       " (-11.615742096810022, 'counterterror'),\n",
       " (-11.615742096810022, 'linger'),\n",
       " (-11.615742096810022, 'mcconnel'),\n",
       " (-11.615742096810022, 'said monday'),\n",
       " (-11.615742096810022, 'speaker paul'),\n",
       " (-11.615742096810022, 'speaker paul ryan'),\n",
       " (-11.615742096810022, 'thursday night'),\n",
       " (-11.615742096810022, 'two men'),\n",
       " (-11.558255005892342, 'ahmad'),\n",
       " (-11.558255005892342, 'hbo'),\n",
       " (-11.558255005892342, 'hudson'),\n",
       " (-11.558255005892342, 'nytim com'),\n",
       " (-11.558255005892342, 'said recent'),\n",
       " (-11.503893796673452, 'cafe'),\n",
       " (-11.503893796673452, 'intellig committe'),\n",
       " (-11.503893796673452, 'nytim'),\n",
       " (-11.503893796673452, 'presid said'),\n",
       " (-11.503893796673452, 'samsung'),\n",
       " (-11.503893796673452, 'staff member'),\n",
       " (-11.452335987008603, 'hawkin'),\n",
       " (-11.452335987008603, 'istanbul'),\n",
       " (-11.452335987008603, 'overhaul'),\n",
       " (-11.452335987008603, 'said email'),\n",
       " (-11.452335987008603, 'said wednesday'),\n",
       " (-11.452335987008603, 'taiwan'),\n",
       " (-11.403306559768286, 'cellphon'),\n",
       " (-11.403306559768286, 'christi'),\n",
       " (-11.403306559768286, 'debut'),\n",
       " (-11.403306559768286, 'gunman'),\n",
       " (-11.403306559768286, 'metropolitan'),\n",
       " (-11.403306559768286, 'said believ'),\n",
       " (-11.403306559768286, 'subway'),\n",
       " (-11.356569081916595, 'abe'),\n",
       " (-11.356569081916595, 'condit anonym'),\n",
       " (-11.356569081916595, 'fla'),\n",
       " (-11.356569081916595, 'pittsburgh'),\n",
       " (-11.356569081916595, 'portrait'),\n",
       " (-11.356569081916595, 'said never'),\n",
       " (-11.356569081916595, 'trump first'),\n",
       " (-11.356569081916595, 'trump transit'),\n",
       " (-11.356569081916595, 'undocu immigr'),\n",
       " (-11.311918808178856, 'beyonc'),\n",
       " (-11.311918808178856, 'cardin'),\n",
       " (-11.311918808178856, 'depart said'),\n",
       " (-11.311918808178856, 'expert say'),\n",
       " (-11.311918808178856, 'recent week'),\n",
       " (-11.311918808178856, 'said also'),\n",
       " (-11.311918808178856, 'smartphon'),\n",
       " (-11.311918808178856, 'south korean'),\n",
       " (-11.269177259801584, 'assail'),\n",
       " (-11.269177259801584, 'immigr law'),\n",
       " (-11.269177259801584, 'microsoft'),\n",
       " (-11.269177259801584, 'presumpt'),\n",
       " (-11.269177259801584, 'rio'),\n",
       " (-11.269177259801584, 'said friday'),\n",
       " (-11.269177259801584, 'tax return'),\n",
       " (-11.228187915268387, 'capitol hill'),\n",
       " (-11.228187915268387, 'franchis'),\n",
       " (-11.228187915268387, 'last summer'),\n",
       " (-11.228187915268387, 'manchest'),\n",
       " (-11.228187915268387, 'mr putin'),\n",
       " (-11.228187915268387, 'polic said'),\n",
       " (-11.228187915268387, 'said said'),\n",
       " (-11.228187915268387, 'saturday night'),\n",
       " (-11.228187915268387, 'stadium'),\n",
       " (-11.228187915268387, 'time said'),\n",
       " (-11.188812750033557, 'bench'),\n",
       " (-11.188812750033557, 'blunt'),\n",
       " (-11.188812750033557, 'district court'),\n",
       " (-11.188812750033557, 'downtown'),\n",
       " (-11.188812750033557, 'griffin'),\n",
       " (-11.188812750033557, 'mr comey'),\n",
       " (-11.188812750033557, 'new administr'),\n",
       " (-11.188812750033557, 'recent day'),\n",
       " (-11.188812750033557, 'said last'),\n",
       " (-11.188812750033557, 'said mani'),\n",
       " (-11.188812750033557, 'said mr'),\n",
       " (-11.188812750033557, 'said tuesday'),\n",
       " (-11.188812750033557, 'wore'),\n",
       " (-11.150929432131257, 'andi'),\n",
       " (-11.150929432131257, 'broadli'),\n",
       " (-11.150929432131257, 'cameron'),\n",
       " (-11.150929432131257, 'comedi'),\n",
       " (-11.150929432131257, 'defer'),\n",
       " (-11.150929432131257, 'felt like'),\n",
       " (-11.150929432131257, 'jare'),\n",
       " (-11.150929432131257, 'maher'),\n",
       " (-11.150929432131257, 'mr johnson'),\n",
       " (-11.150929432131257, 'new year'),\n",
       " (-11.150929432131257, 'news confer'),\n",
       " (-11.150929432131257, 'plead guilti'),\n",
       " (-11.150929432131257, 'recept'),\n",
       " (-11.150929432131257, 'san diego'),\n",
       " (-11.150929432131257, 'state senat'),\n",
       " (-11.150929432131257, 'todd'),\n",
       " (-11.150929432131257, 'white voter'),\n",
       " (-11.150929432131257, 'wilson'),\n",
       " (-11.150929432131257, 'xi'),\n",
       " (-11.11442902991173, 'border patrol'),\n",
       " (-11.11442902991173, 'charlott'),\n",
       " (-11.11442902991173, 'fare'),\n",
       " (-11.11442902991173, 'lane'),\n",
       " (-11.11442902991173, 'mall'),\n",
       " (-11.11442902991173, 'memoir'),\n",
       " (-11.11442902991173, 'said time'),\n",
       " (-11.11442902991173, 'state said'),\n",
       " (-11.11442902991173, 'trump tower'),\n",
       " (-11.079214123620662, 'ambiti'),\n",
       " (-11.079214123620662, 'american worker'),\n",
       " (-11.079214123620662, 'auction'),\n",
       " (-11.079214123620662, 'chat'),\n",
       " (-11.079214123620662, 'gray'),\n",
       " (-11.079214123620662, 'murray'),\n",
       " (-11.079214123620662, 'nation secur advis'),\n",
       " (-11.079214123620662, 'pelosi'),\n",
       " (-11.079214123620662, 'rhode'),\n",
       " (-11.079214123620662, 'uber'),\n",
       " (-11.045197238342409, 'angela'),\n",
       " (-11.045197238342409, 'comedian'),\n",
       " (-11.045197238342409, 'hous speaker'),\n",
       " (-11.045197238342409, 'issu statement'),\n",
       " (-11.045197238342409, 'marvel'),\n",
       " (-11.045197238342409, 'presid donald trump'),\n",
       " (-11.045197238342409, 'propel'),\n",
       " (-11.045197238342409, 'run mate'),\n",
       " (-11.045197238342409, 'said like'),\n",
       " (-11.045197238342409, 'schumer'),\n",
       " (-11.045197238342409, 'secur advis'),\n",
       " (-11.045197238342409, 'tourism'),\n",
       " (-11.01229953483535, 'administr offici'),\n",
       " (-11.01229953483535, 'coat'),\n",
       " (-11.01229953483535, 'commut'),\n",
       " (-11.01229953483535, 'dine'),\n",
       " (-11.01229953483535, 'kentucki'),\n",
       " (-11.01229953483535, 'louisiana'),\n",
       " (-11.01229953483535, 'marco'),\n",
       " (-11.01229953483535, 'mississippi'),\n",
       " (-11.01229953483535, 'mnuchin'),\n",
       " (-11.01229953483535, 'passport'),\n",
       " (-11.01229953483535, 'plaintiff'),\n",
       " (-11.01229953483535, 'presid donald'),\n",
       " (-11.01229953483535, 'reilli'),\n",
       " (-11.01229953483535, 'said need'),\n",
       " (-11.01229953483535, 'trump told'),\n",
       " (-11.01229953483535, 'univers california'),\n",
       " (-11.01229953483535, 'well fargo'),\n",
       " (-11.01229953483535, 'west bank'),\n",
       " (-10.980449708948251, 'campaign promis'),\n",
       " (-10.980449708948251, 'contenti'),\n",
       " (-10.980449708948251, 'girlfriend'),\n",
       " (-10.980449708948251, 'lewi'),\n",
       " (-10.980449708948251, 'nod'),\n",
       " (-10.980449708948251, 'predominantli'),\n",
       " (-10.980449708948251, 'republican nation'),\n",
       " (-10.980449708948251, 'said interview'),\n",
       " (-10.980449708948251, 'sharehold'),\n",
       " (-10.980449708948251, 'silicon valley'),\n",
       " (-10.980449708948251, 'two peopl'),\n",
       " (-10.949583060967724, 'campus'),\n",
       " (-10.949583060967724, 'depart homeland'),\n",
       " (-10.949583060967724, 'depart homeland secur'),\n",
       " (-10.949583060967724, 'diego'),\n",
       " (-10.949583060967724, 'inspector'),\n",
       " (-10.949583060967724, 'law firm'),\n",
       " (-10.949583060967724, 'medal'),\n",
       " (-10.949583060967724, 'nightclub'),\n",
       " (-10.949583060967724, 'polic chief'),\n",
       " (-10.949583060967724, 'said peopl'),\n",
       " (-10.949583060967724, 'spotlight'),\n",
       " (-10.949583060967724, 'two hour'),\n",
       " (-10.919640704352645, 'airplan'),\n",
       " (-10.919640704352645, 'ambul'),\n",
       " (-10.919640704352645, 'baton'),\n",
       " (-10.919640704352645, 'breitbart news'),\n",
       " (-10.919640704352645, 'fargo'),\n",
       " (-10.919640704352645, 'homicid'),\n",
       " (-10.919640704352645, 'houston'),\n",
       " (-10.919640704352645, 'hub'),\n",
       " (-10.919640704352645, 'lieuten'),\n",
       " (-10.919640704352645, 'muhammad'),\n",
       " (-10.919640704352645, 'neil'),\n",
       " (-10.919640704352645, 'news organ'),\n",
       " (-10.919640704352645, 'oakland'),\n",
       " (-10.919640704352645, 'perri'),\n",
       " (-10.919640704352645, 'report said'),\n",
       " (-10.919640704352645, 'said could'),\n",
       " (-10.919640704352645, 'toronto'),\n",
       " (-10.919640704352645, 'trump organ'),\n",
       " (-10.919640704352645, 'trump white'),\n",
       " (-10.890568889530668, 'actress'),\n",
       " (-10.890568889530668, 'angel time'),\n",
       " (-10.890568889530668, 'arena'),\n",
       " (-10.890568889530668, 'lo angel time'),\n",
       " (-10.890568889530668, 'loom'),\n",
       " (-10.890568889530668, 'rais question'),\n",
       " (-10.890568889530668, 'scalia'),\n",
       " (-10.890568889530668, 'seven year'),\n",
       " (-10.890568889530668, 'theresa'),\n",
       " (-10.890568889530668, 'twitter account'),\n",
       " (-10.890568889530668, 'underscor'),\n",
       " (-10.890568889530668, 'walter'),\n",
       " (-10.862318423244817, 'ail'),\n",
       " (-10.862318423244817, 'antonio'),\n",
       " (-10.862318423244817, 'circuit'),\n",
       " (-10.862318423244817, 'dec'),\n",
       " (-10.862318423244817, 'express concern'),\n",
       " (-10.862318423244817, 'feder judg'),\n",
       " (-10.862318423244817, 'press secretari'),\n",
       " (-10.862318423244817, 'segreg'),\n",
       " (-10.862318423244817, 'simon'),\n",
       " (-10.862318423244817, 'state univers'),\n",
       " (-10.862318423244817, 'workplac'),\n",
       " (-10.834844167692568, 'album'),\n",
       " (-10.834844167692568, 'brazilian'),\n",
       " (-10.834844167692568, 'castro'),\n",
       " (-10.834844167692568, 'chancellor'),\n",
       " (-10.834844167692568, 'deadlin'),\n",
       " (-10.834844167692568, 'graham'),\n",
       " (-10.834844167692568, 'groceri'),\n",
       " (-10.834844167692568, 'lament'),\n",
       " (-10.834844167692568, 'marathon'),\n",
       " (-10.834844167692568, 'midnight'),\n",
       " (-10.834844167692568, 'nanci'),\n",
       " (-10.834844167692568, 'pant'),\n",
       " (-10.834844167692568, 'toy'),\n",
       " (-10.834844167692568, 'vigor'),\n",
       " (-10.80810460665067, 'checkpoint'),\n",
       " (-10.80810460665067, 'crackdown'),\n",
       " (-10.80810460665067, 'curb'),\n",
       " (-10.80810460665067, 'kitchen'),\n",
       " (-10.80810460665067, 'law school'),\n",
       " (-10.80810460665067, 'motor'),\n",
       " (-10.80810460665067, 'new england'),\n",
       " (-10.80810460665067, 'pink'),\n",
       " (-10.80810460665067, 'push back'),\n",
       " (-10.80810460665067, 'said go'),\n",
       " (-10.80810460665067, 'said think'),\n",
       " (-10.80810460665067, 'stanford'),\n",
       " (-10.80810460665067, 'stewart'),\n",
       " (-10.80810460665067, 'wine'),\n",
       " (-10.78206146811465, 'anthem'),\n",
       " (-10.78206146811465, 'atlanta'),\n",
       " (-10.78206146811465, 'auto'),\n",
       " (-10.78206146811465, 'cousin'),\n",
       " (-10.78206146811465, 'heroin'),\n",
       " (-10.78206146811465, 'hous senat'),\n",
       " (-10.78206146811465, 'ian'),\n",
       " (-10.78206146811465, 'litig'),\n",
       " (-10.78206146811465, 'nation convent'),\n",
       " (-10.78206146811465, 'offici say'),\n",
       " (-10.78206146811465, 'rubio'),\n",
       " (-10.78206146811465, 'sexual harass'),\n",
       " (-10.78206146811465, 'terror attack'),\n",
       " (-10.78206146811465, 'wrestl'),\n",
       " (-10.756679394843232, 'chief execut'),\n",
       " (-10.756679394843232, 'court rule'),\n",
       " (-10.756679394843232, 'modest'),\n",
       " (-10.756679394843232, 'new yorker'),\n",
       " (-10.756679394843232, 'outfit'),\n",
       " (-10.756679394843232, 'said ad'),\n",
       " (-10.756679394843232, 'sharpli'),\n",
       " (-10.756679394843232, 'silicon'),\n",
       " (-10.756679394843232, 'stab'),\n",
       " (-10.756679394843232, 'suspens'),\n",
       " (-10.756679394843232, 'trump republican'),\n",
       " (-10.756679394843232, 'yorker'),\n",
       " (-10.731925655690294, 'collin'),\n",
       " (-10.731925655690294, 'connecticut'),\n",
       " (-10.731925655690294, 'desk'),\n",
       " (-10.731925655690294, 'dive'),\n",
       " (-10.731925655690294, 'flew'),\n",
       " (-10.731925655690294, 'koch'),\n",
       " (-10.731925655690294, 'legislatur'),\n",
       " (-10.731925655690294, 'less like'),\n",
       " (-10.731925655690294, 'look back'),\n",
       " (-10.731925655690294, 'marketplac'),\n",
       " (-10.731925655690294, 'melania'),\n",
       " (-10.731925655690294, 'psychologist'),\n",
       " (-10.731925655690294, 'said want'),\n",
       " (-10.731925655690294, 'skip'),\n",
       " (-10.731925655690294, 'tuesday night'),\n",
       " (-10.731925655690294, 'walker'),\n",
       " (-10.707769891810958, 'architectur'),\n",
       " (-10.707769891810958, 'chuck'),\n",
       " (-10.707769891810958, 'could help'),\n",
       " (-10.707769891810958, 'hedg fund'),\n",
       " (-10.707769891810958, 'iphon'),\n",
       " (-10.707769891810958, 'kaepernick'),\n",
       " (-10.707769891810958, 'obama said'),\n",
       " (-10.707769891810958, 'parker'),\n",
       " (-10.707769891810958, 'peopl kill'),\n",
       " (-10.707769891810958, 'recent month'),\n",
       " (-10.707769891810958, 'resettl'),\n",
       " (-10.684183892805079, 'aaron'),\n",
       " (-10.684183892805079, 'buse'),\n",
       " (-10.684183892805079, 'certif'),\n",
       " (-10.684183892805079, 'conway'),\n",
       " (-10.684183892805079, 'could also'),\n",
       " (-10.684183892805079, 'delight'),\n",
       " (-10.684183892805079, 'disney'),\n",
       " (-10.684183892805079, 'enrol'),\n",
       " (-10.684183892805079, 'news outlet'),\n",
       " (-10.684183892805079, 'shower'),\n",
       " (-10.684183892805079, 'stall'),\n",
       " (-10.684183892805079, 'think go'),\n",
       " (-10.684183892805079, 'veto'),\n",
       " (-10.684183892805079, 'would need'),\n",
       " (-10.661141398657925, 'buyer'),\n",
       " (-10.661141398657925, 'confin'),\n",
       " (-10.661141398657925, 'feder court'),\n",
       " (-10.661141398657925, 'hugh'),\n",
       " (-10.661141398657925, 'let us know'),\n",
       " (-10.661141398657925, 'musician'),\n",
       " (-10.661141398657925, 'peopl come'),\n",
       " (-10.661141398657925, 'pioneer'),\n",
       " (-10.661141398657925, 'spur'),\n",
       " (-10.661141398657925, 'tariff'),\n",
       " (-10.638617923990841, 'alexand'),\n",
       " (-10.638617923990841, 'anniversari'),\n",
       " (-10.638617923990841, 'earnest'),\n",
       " (-10.638617923990841, 'flavor'),\n",
       " (-10.638617923990841, 'hanniti'),\n",
       " (-10.638617923990841, 'includ one'),\n",
       " (-10.638617923990841, 'interrog'),\n",
       " (-10.638617923990841, 'mateen'),\n",
       " (-10.638617923990841, 'museum'),\n",
       " (-10.638617923990841, 'offic said'),\n",
       " (-10.638617923990841, 'parti leader'),\n",
       " (-10.638617923990841, 'pitch'),\n",
       " (-10.638617923990841, 'play role'),\n",
       " (-10.638617923990841, 'presid bashar'),\n",
       " (-10.638617923990841, 'puerto'),\n",
       " (-10.638617923990841, 'reassur'),\n",
       " (-10.638617923990841, 'rebuk'),\n",
       " (-10.638617923990841, 'say would'),\n",
       " (-10.638617923990841, 'six year'),\n",
       " (-10.638617923990841, 'snapchat'),\n",
       " (-10.638617923990841, 'south carolina'),\n",
       " (-10.638617923990841, 'swept'),\n",
       " (-10.638617923990841, 'trauma'),\n",
       " (-10.61659060167255, 'captain'),\n",
       " (-10.61659060167255, 'caucu'),\n",
       " (-10.61659060167255, 'comic'),\n",
       " (-10.61659060167255, 'credit card'),\n",
       " (-10.61659060167255, 'depart offici'),\n",
       " (-10.61659060167255, 'essay'),\n",
       " (-10.61659060167255, 'feb'),\n",
       " (-10.61659060167255, 'lone'),\n",
       " (-10.61659060167255, 'mental health'),\n",
       " (-10.61659060167255, 'percent percent'),\n",
       " (-10.61659060167255, 'ross'),\n",
       " (-10.61659060167255, 'stark'),\n",
       " (-10.61659060167255, 'suburb'),\n",
       " (-10.61659060167255, 'uncertain'),\n",
       " (-10.61659060167255, 'want get'),\n",
       " (-10.61659060167255, 'would help'),\n",
       " (-10.61659060167255, 'yahoo'),\n",
       " (-10.595038043286817, 'briefli'),\n",
       " (-10.595038043286817, 'civic'),\n",
       " (-10.595038043286817, 'clarifi'),\n",
       " (-10.595038043286817, 'could make'),\n",
       " (-10.595038043286817, 'hous republican'),\n",
       " (-10.595038043286817, 'pleasur'),\n",
       " (-10.595038043286817, 'reiter'),\n",
       " (-10.595038043286817, 'seattl'),\n",
       " (-10.595038043286817, 'state offici'),\n",
       " (-10.595038043286817, 'steel'),\n",
       " (-10.595038043286817, 'tide'),\n",
       " (-10.595038043286817, 'time sinc'),\n",
       " (-10.595038043286817, 'would come'),\n",
       " (-10.595038043286817, 'wrongdo'),\n",
       " (-10.57394021432218, 'casino'),\n",
       " (-10.57394021432218, 'decid whether'),\n",
       " (-10.57394021432218, 'decor'),\n",
       " (-10.57394021432218, 'denver'),\n",
       " (-10.57394021432218, 'departur'),\n",
       " (-10.57394021432218, 'laboratori'),\n",
       " (-10.57394021432218, 'loui'),\n",
       " (-10.57394021432218, 'mani way'),\n",
       " (-10.57394021432218, 'oldest'),\n",
       " (-10.57394021432218, 'predecessor'),\n",
       " (-10.57394021432218, 'puls'),\n",
       " (-10.57394021432218, 'said know'),\n",
       " (-10.57394021432218, 'shrink'),\n",
       " (-10.57394021432218, 'therapi'),\n",
       " (-10.57394021432218, 'thick'),\n",
       " (-10.57394021432218, 'vocal'),\n",
       " (-10.553278322258222, 'anderson'),\n",
       " (-10.553278322258222, 'boycott'),\n",
       " (-10.553278322258222, 'chemic weapon'),\n",
       " (-10.553278322258222, 'contemporari'),\n",
       " (-10.553278322258222, 'detent'),\n",
       " (-10.553278322258222, 'dust'),\n",
       " (-10.553278322258222, 'emiss'),\n",
       " (-10.553278322258222, 'exhaust'),\n",
       " (-10.553278322258222, 'jimmi'),\n",
       " (-10.553278322258222, 'ken'),\n",
       " (-10.553278322258222, 'luxuri'),\n",
       " (-10.553278322258222, 'municip'),\n",
       " (-10.553278322258222, 'pend'),\n",
       " (-10.553278322258222, 'peopl said'),\n",
       " (-10.553278322258222, 'south china sea'),\n",
       " (-10.553278322258222, 'sunday night'),\n",
       " (-10.553278322258222, 'switzerland'),\n",
       " (-10.553278322258222, 'tennesse'),\n",
       " (-10.553278322258222, 'twin'),\n",
       " (-10.533034715981577, 'anchor'),\n",
       " (-10.533034715981577, 'baghdad'),\n",
       " (-10.533034715981577, 'breach'),\n",
       " (-10.533034715981577, 'china sea'),\n",
       " (-10.533034715981577, 'cleveland'),\n",
       " (-10.533034715981577, 'dean'),\n",
       " (-10.533034715981577, 'entrepreneur'),\n",
       " (-10.533034715981577, 'fenc'),\n",
       " (-10.533034715981577, 'forg'),\n",
       " (-10.533034715981577, 'franklin'),\n",
       " (-10.533034715981577, 'friendship'),\n",
       " (-10.533034715981577, 'irish'),\n",
       " (-10.533034715981577, 'khan'),\n",
       " (-10.533034715981577, 'longstand'),\n",
       " (-10.533034715981577, 'mate'),\n",
       " (-10.533034715981577, 'rico'),\n",
       " (-10.533034715981577, 'scrambl'),\n",
       " (-10.533034715981577, 'transit team'),\n",
       " (-10.533034715981577, 'trump made'),\n",
       " (-10.533034715981577, 'yell'),\n",
       " (-10.513192795182572, 'capitol'),\n",
       " (-10.513192795182572, 'dh'),\n",
       " (-10.513192795182572, 'go make'),\n",
       " (-10.513192795182572, 'harbor'),\n",
       " (-10.513192795182572, 'harvest'),\n",
       " (-10.513192795182572, 'hawaii'),\n",
       " (-10.513192795182572, 'jerri'),\n",
       " (-10.513192795182572, 'kiss'),\n",
       " (-10.513192795182572, 'last two'),\n",
       " (-10.513192795182572, 'meddl'),\n",
       " (-10.513192795182572, 'month later'),\n",
       " (-10.513192795182572, 'pit'),\n",
       " (-10.513192795182572, 'rough'),\n",
       " (-10.513192795182572, 'shine'),\n",
       " (-10.513192795182572, 'smuggl'),\n",
       " (-10.513192795182572, 'south china'),\n",
       " (-10.513192795182572, 'spokeswoman'),\n",
       " (-10.513192795182572, 'stack'),\n",
       " (-10.513192795182572, 'taylor'),\n",
       " (-10.513192795182572, 'two year ago'),\n",
       " (-10.513192795182572, 'upgrad'),\n",
       " (-10.493736928567207, 'afford care act'),\n",
       " (-10.493736928567207, 'ballist'),\n",
       " (-10.493736928567207, 'baltimor'),\n",
       " (-10.493736928567207, 'boot'),\n",
       " (-10.493736928567207, 'care act'),\n",
       " (-10.493736928567207, 'civil liberti'),\n",
       " (-10.493736928567207, 'compos'),\n",
       " (-10.493736928567207, 'crimin charg'),\n",
       " (-10.493736928567207, 'dealer'),\n",
       " (-10.493736928567207, 'execut director'),\n",
       " (-10.493736928567207, 'first day'),\n",
       " (-10.493736928567207, 'heel'),\n",
       " (-10.493736928567207, 'insur compani'),\n",
       " (-10.493736928567207, 'kansa'),\n",
       " (-10.493736928567207, 'like mani'),\n",
       " (-10.493736928567207, 'lt'),\n",
       " (-10.493736928567207, 'modi'),\n",
       " (-10.493736928567207, 'next month'),\n",
       " (-10.493736928567207, 'place like'),\n",
       " (-10.493736928567207, 'sarah'),\n",
       " (-10.493736928567207, 'shoe'),\n",
       " (-10.493736928567207, 'strict'),\n",
       " (-10.493736928567207, 'swim'),\n",
       " (-10.493736928567207, 'tall'),\n",
       " (-10.493736928567207, 'tourist'),\n",
       " (-10.493736928567207, 'turmoil'),\n",
       " (-10.493736928567207, 'unveil'),\n",
       " (-10.493736928567207, 'year sinc'),\n",
       " (-10.474652379874797, 'abu'),\n",
       " (-10.474652379874797, 'bread'),\n",
       " (-10.474652379874797, 'cheaper'),\n",
       " (-10.474652379874797, 'entranc'),\n",
       " (-10.474652379874797, 'holland'),\n",
       " (-10.474652379874797, 'howard'),\n",
       " (-10.474652379874797, 'icon'),\n",
       " (-10.474652379874797, 'john mccain'),\n",
       " (-10.474652379874797, 'parad'),\n",
       " (-10.474652379874797, 'stare'),\n",
       " (-10.474652379874797, 'swift'),\n",
       " (-10.474652379874797, 'three month'),\n",
       " (-10.474652379874797, 'time year'),\n",
       " (-10.474652379874797, 'unpopular'),\n",
       " (-10.455925240824099, 'afford care'),\n",
       " (-10.455925240824099, 'battlefield'),\n",
       " (-10.455925240824099, 'broker'),\n",
       " (-10.455925240824099, 'businessman'),\n",
       " (-10.455925240824099, 'cake'),\n",
       " (-10.455925240824099, 'concret'),\n",
       " (-10.455925240824099, 'day later'),\n",
       " (-10.455925240824099, 'drama'),\n",
       " (-10.455925240824099, 'elabor'),\n",
       " (-10.455925240824099, 'furiou'),\n",
       " (-10.455925240824099, 'gestur'),\n",
       " (-10.455925240824099, 'illeg alien'),\n",
       " (-10.455925240824099, 'junior'),\n",
       " (-10.455925240824099, 'made public'),\n",
       " (-10.455925240824099, 'marc'),\n",
       " (-10.455925240824099, 'mccarthi'),\n",
       " (-10.455925240824099, 'netflix'),\n",
       " (-10.455925240824099, 'palm'),\n",
       " (-10.455925240824099, 'surgeri'),\n",
       " (-10.437542370223564, 'airlin'),\n",
       " (-10.437542370223564, 'ali'),\n",
       " (-10.437542370223564, 'brooklyn'),\n",
       " (-10.437542370223564, 'dish'),\n",
       " (-10.437542370223564, 'grate'),\n",
       " (-10.437542370223564, 'greg'),\n",
       " (-10.437542370223564, 'guidanc'),\n",
       " (-10.437542370223564, 'intrigu'),\n",
       " (-10.437542370223564, 'kill peopl'),\n",
       " (-10.437542370223564, 'mr obama'),\n",
       " (-10.437542370223564, 'nfl'),\n",
       " (-10.437542370223564, 'one mani'),\n",
       " (-10.437542370223564, 'opioid'),\n",
       " (-10.437542370223564, 'ownership'),\n",
       " (-10.437542370223564, 'presidenti race'),\n",
       " (-10.437542370223564, 'public school'),\n",
       " (-10.437542370223564, 'sanctuari'),\n",
       " (-10.437542370223564, 'say want'),\n",
       " (-10.437542370223564, 'stroke'),\n",
       " (-10.437542370223564, 'terri'),\n",
       " (-10.437542370223564, 'unanim'),\n",
       " (-10.437542370223564, 'want go'),\n",
       " (-10.419491338577997, 'chip'),\n",
       " (-10.419491338577997, 'dawn'),\n",
       " (-10.419491338577997, 'decad ago'),\n",
       " (-10.419491338577997, 'drove'),\n",
       " (-10.419491338577997, 'drown'),\n",
       " (-10.419491338577997, 'golf'),\n",
       " (-10.419491338577997, 'greet'),\n",
       " (-10.419491338577997, 'identif'),\n",
       " (-10.419491338577997, 'look forward'),\n",
       " (-10.419491338577997, 'manhattan'),\n",
       " (-10.419491338577997, 'nose'),\n",
       " (-10.419491338577997, 'one first'),\n",
       " (-10.419491338577997, 'overturn'),\n",
       " (-10.419491338577997, 'pat'),\n",
       " (-10.419491338577997, 'precinct'),\n",
       " (-10.419491338577997, 'priest'),\n",
       " (-10.419491338577997, 'roosevelt'),\n",
       " (-10.419491338577997, 'would give'),\n",
       " (-10.401760377606765, 'advocaci'),\n",
       " (-10.401760377606765, 'bankruptci'),\n",
       " (-10.401760377606765, 'birthday'),\n",
       " (-10.401760377606765, 'cub'),\n",
       " (-10.401760377606765, 'elig'),\n",
       " (-10.401760377606765, 'eve'),\n",
       " (-10.401760377606765, 'first amend'),\n",
       " (-10.401760377606765, 'humor'),\n",
       " (-10.401760377606765, 'inmat'),\n",
       " (-10.401760377606765, 'intim'),\n",
       " (-10.401760377606765, 'know go'),\n",
       " (-10.401760377606765, 'lengthi'),\n",
       " (-10.401760377606765, 'pronounc'),\n",
       " (-10.401760377606765, 'realdonaldtrump'),\n",
       " (-10.401760377606765, 'triumph'),\n",
       " (-10.401760377606765, 'trump call'),\n",
       " (-10.3843383341601, 'also includ'),\n",
       " (-10.3843383341601, 'belt'),\n",
       " (-10.3843383341601, 'chronicl'),\n",
       " (-10.3843383341601, 'could see'),\n",
       " (-10.3843383341601, 'everyon els'),\n",
       " (-10.3843383341601, 'gene'),\n",
       " (-10.3843383341601, 'interior'),\n",
       " (-10.3843383341601, 'leas'),\n",
       " (-10.3843383341601, 'maduro'),\n",
       " (-10.3843383341601, 'merit'),\n",
       " (-10.3843383341601, 'oscar'),\n",
       " (-10.3843383341601, 'parliamentari'),\n",
       " (-10.3843383341601, 'pin'),\n",
       " (-10.3843383341601, 'profess'),\n",
       " (-10.3843383341601, 'reliev'),\n",
       " (-10.3843383341601, 'successor'),\n",
       " (-10.3843383341601, 'tel'),\n",
       " (-10.3843383341601, 'tenur'),\n",
       " (-10.3843383341601, 'tighten'),\n",
       " (-10.36721462808151, 'austin'),\n",
       " (-10.36721462808151, 'avenu'),\n",
       " (-10.36721462808151, 'bleed'),\n",
       " (-10.36721462808151, 'bore'),\n",
       " (-10.36721462808151, 'cognit'),\n",
       " (-10.36721462808151, 'colombia'),\n",
       " (-10.36721462808151, 'econom growth'),\n",
       " (-10.36721462808151, 'enthusiasm'),\n",
       " (-10.36721462808151, 'glad'),\n",
       " (-10.36721462808151, 'hammer'),\n",
       " (-10.36721462808151, 'hunter'),\n",
       " (-10.36721462808151, 'lincoln'),\n",
       " (-10.36721462808151, 'medicaid'),\n",
       " (-10.36721462808151, 'mentor'),\n",
       " (-10.36721462808151, 'musk'),\n",
       " (-10.36721462808151, 'obscur'),\n",
       " (-10.36721462808151, 'plea'),\n",
       " (-10.36721462808151, 'pride'),\n",
       " (-10.36721462808151, 'scan'),\n",
       " (-10.36721462808151, 'secur forc'),\n",
       " (-10.36721462808151, 'slide'),\n",
       " (-10.36721462808151, 'stranger'),\n",
       " (-10.36721462808151, 'told report'),\n",
       " (-10.350379213617646, 'arsen'),\n",
       " (-10.350379213617646, 'aw'),\n",
       " (-10.350379213617646, 'brush'),\n",
       " (-10.350379213617646, 'build wall'),\n",
       " (-10.350379213617646, 'climb'),\n",
       " (-10.350379213617646, 'eager'),\n",
       " (-10.350379213617646, 'explicitli'),\n",
       " (-10.350379213617646, 'get back'),\n",
       " (-10.350379213617646, 'jean'),\n",
       " (-10.350379213617646, 'klein'),\n",
       " (-10.350379213617646, 'knife'),\n",
       " (-10.350379213617646, 'legend'),\n",
       " (-10.350379213617646, 'math'),\n",
       " (-10.350379213617646, 'open door'),\n",
       " (-10.350379213617646, 'optimist'),\n",
       " (-10.350379213617646, 'oust'),\n",
       " (-10.350379213617646, 'reloc'),\n",
       " (-10.350379213617646, 'six month'),\n",
       " (-10.350379213617646, 'tackl'),\n",
       " (-10.350379213617646, 'telephon'),\n",
       " (-10.350379213617646, 'uncomfort'),\n",
       " (-10.350379213617646, 'wallac'),\n",
       " (-10.350379213617646, 'willing'),\n",
       " (-10.3338225440232, 'advisori'),\n",
       " (-10.3338225440232, 'backlash'),\n",
       " (-10.3338225440232, 'bull'),\n",
       " (-10.3338225440232, 'diminish'),\n",
       " (-10.3338225440232, 'funer'),\n",
       " (-10.3338225440232, 'graphic'),\n",
       " (-10.3338225440232, 'hamilton'),\n",
       " (-10.3338225440232, 'judiciari'),\n",
       " (-10.3338225440232, 'la vega'),\n",
       " (-10.3338225440232, 'literatur'),\n",
       " (-10.3338225440232, 'morgan'),\n",
       " (-10.3338225440232, 'nbc news'),\n",
       " (-10.3338225440232, 'partli'),\n",
       " (-10.3338225440232, 'premier'),\n",
       " (-10.3338225440232, 'presid would'),\n",
       " (-10.3338225440232, 'snap'),\n",
       " (-10.3338225440232, 'spend time'),\n",
       " (-10.3338225440232, 'supervis'),\n",
       " (-10.3338225440232, 'thrive'),\n",
       " (-10.3338225440232, 'tissu'),\n",
       " (-10.3338225440232, 'toss'),\n",
       " (-10.3175355390485, 'aspir'),\n",
       " (-10.3175355390485, 'clark'),\n",
       " (-10.3175355390485, 'crown'),\n",
       " (-10.3175355390485, 'cruis'),\n",
       " (-10.3175355390485, 'dispatch'),\n",
       " (-10.3175355390485, 'hail'),\n",
       " (-10.3175355390485, 'ireland'),\n",
       " (-10.3175355390485, 'le pen'),\n",
       " (-10.3175355390485, 'lowest'),\n",
       " (-10.3175355390485, 'north korean'),\n",
       " (-10.3175355390485, 'optim'),\n",
       " (-10.3175355390485, 'overlook'),\n",
       " (-10.3175355390485, 'prescript'),\n",
       " (-10.3175355390485, 'quietli'),\n",
       " (-10.3175355390485, 'reson'),\n",
       " (-10.3175355390485, 'resum'),\n",
       " (-10.3175355390485, 'rick'),\n",
       " (-10.3175355390485, 'slip'),\n",
       " (-10.3175355390485, 'sudan'),\n",
       " (-10.3175355390485, 'thousand peopl'),\n",
       " (-10.3175355390485, 'two decad'),\n",
       " (-10.301509555032656, 'bolster'),\n",
       " (-10.301509555032656, 'brilliant'),\n",
       " (-10.301509555032656, 'cigarett'),\n",
       " (-10.301509555032656, 'hong kong'),\n",
       " (-10.301509555032656, 'incent'),\n",
       " (-10.301509555032656, 'invok'),\n",
       " (-10.301509555032656, 'lion'),\n",
       " (-10.301509555032656, 'may also'),\n",
       " (-10.301509555032656, 'pollster'),\n",
       " (-10.301509555032656, 'recreat'),\n",
       " (-10.301509555032656, 'ronald reagan'),\n",
       " (-10.301509555032656, 'southeast'),\n",
       " (-10.301509555032656, 'steadi'),\n",
       " (-10.301509555032656, 'trump promis'),\n",
       " (-10.301509555032656, 'wider'),\n",
       " (-10.28573635735556, 'bipartisan'),\n",
       " (-10.28573635735556, 'carbon'),\n",
       " (-10.28573635735556, 'christoph'),\n",
       " (-10.28573635735556, 'exceed'),\n",
       " (-10.28573635735556, 'go happen'),\n",
       " (-10.28573635735556, 'hong'),\n",
       " (-10.28573635735556, 'ivanka'),\n",
       " (-10.28573635735556, 'kong'),\n",
       " (-10.28573635735556, 'labour'),\n",
       " (-10.28573635735556, 'littl bit'),\n",
       " (-10.28573635735556, 'make decis'),\n",
       " (-10.28573635735556, 'offshor'),\n",
       " (-10.28573635735556, 'one reason'),\n",
       " (-10.28573635735556, 'plung'),\n",
       " (-10.28573635735556, 'revis'),\n",
       " (-10.28573635735556, 'spare'),\n",
       " (-10.28573635735556, 'supremacist'),\n",
       " (-10.28573635735556, 'ted cruz'),\n",
       " (-10.28573635735556, 'terrorist attack'),\n",
       " (-10.28573635735556, 'unexpect'),\n",
       " (-10.28573635735556, 'uphold'),\n",
       " (-10.28573635735556, 'vacat'),\n",
       " (-10.28573635735556, 'want make'),\n",
       " (-10.28573635735556, 'wield'),\n",
       " (-10.270208095029005, 'absenc'),\n",
       " (-10.270208095029005, 'around countri'),\n",
       " (-10.270208095029005, 'bureaucraci'),\n",
       " (-10.270208095029005, 'burst'),\n",
       " (-10.270208095029005, 'commission'),\n",
       " (-10.270208095029005, 'consolid'),\n",
       " (-10.270208095029005, 'destin'),\n",
       " (-10.270208095029005, 'determin whether'),\n",
       " (-10.270208095029005, 'elizabeth'),\n",
       " (-10.270208095029005, 'foreign govern'),\n",
       " (-10.270208095029005, 'gun control'),\n",
       " (-10.270208095029005, 'inspect'),\n",
       " (-10.270208095029005, 'like see'),\n",
       " (-10.270208095029005, 'midst'),\n",
       " (-10.270208095029005, 'millenni'),\n",
       " (-10.270208095029005, 'netherland'),\n",
       " (-10.270208095029005, 'past week'),\n",
       " (-10.270208095029005, 'peopl get'),\n",
       " (-10.270208095029005, 'plagu'),\n",
       " (-10.270208095029005, 'resent'),\n",
       " (-10.270208095029005, 'rev'),\n",
       " (-10.270208095029005, 'safer'),\n",
       " (-10.270208095029005, 'shi'),\n",
       " (-10.270208095029005, 'shortag'),\n",
       " (-10.270208095029005, 'steer'),\n",
       " (-10.270208095029005, 'strongest'),\n",
       " (-10.270208095029005, 'thompson'),\n",
       " (-10.270208095029005, 'uncertainti'),\n",
       " (-10.270208095029005, 'would probabl'),\n",
       " (-10.25491727723059, 'allegi'),\n",
       " (-10.25491727723059, 'banner'),\n",
       " (-10.25491727723059, 'basebal'),\n",
       " (-10.25491727723059, 'brussel'),\n",
       " (-10.25491727723059, 'could use'),\n",
       " (-10.25491727723059, 'fran'),\n",
       " (-10.25491727723059, 'geograph'),\n",
       " (-10.25491727723059, 'harsh'),\n",
       " (-10.25491727723059, 'hesit'),\n",
       " (-10.25491727723059, 'josh'),\n",
       " (-10.25491727723059, 'jungl'),\n",
       " (-10.25491727723059, 'landscap'),\n",
       " (-10.25491727723059, 'oklahoma'),\n",
       " (-10.25491727723059, 'per cent'),\n",
       " (-10.25491727723059, 'podcast'),\n",
       " (-10.25491727723059, 'propon'),\n",
       " (-10.25491727723059, 'recip'),\n",
       " (-10.25491727723059, 'retreat'),\n",
       " (-10.25491727723059, 'roof'),\n",
       " (-10.25491727723059, 'sam'),\n",
       " (-10.25491727723059, 'scari'),\n",
       " (-10.25491727723059, 'sue'),\n",
       " (-10.25491727723059, 'surprisingli'),\n",
       " (-10.25491727723059, 'three day'),\n",
       " (-10.25491727723059, 'yellow'),\n",
       " (-10.239856751604867, 'berlin'),\n",
       " (-10.239856751604867, 'bin'),\n",
       " (-10.239856751604867, 'boom'),\n",
       " (-10.239856751604867, 'discourag'),\n",
       " (-10.239856751604867, 'drastic'),\n",
       " (-10.239856751604867, 'fierc'),\n",
       " (-10.239856751604867, 'foreign minist'),\n",
       " (-10.239856751604867, 'forest'),\n",
       " (-10.239856751604867, 'huffington'),\n",
       " (-10.239856751604867, 'indiana'),\n",
       " (-10.239856751604867, 'lunch'),\n",
       " (-10.239856751604867, 'maria'),\n",
       " (-10.239856751604867, 'membership'),\n",
       " (-10.239856751604867, 'one person'),\n",
       " (-10.239856751604867, 'paus'),\n",
       " (-10.239856751604867, 'presid georg bush'),\n",
       " (-10.239856751604867, 'registr'),\n",
       " (-10.239856751604867, 'regulatori'),\n",
       " (-10.239856751604867, 'sake'),\n",
       " (-10.239856751604867, 'scrutini'),\n",
       " (-10.239856751604867, 'squad'),\n",
       " (-10.239856751604867, 'susan'),\n",
       " (-10.239856751604867, 'swedish'),\n",
       " (-10.239856751604867, 'task forc'),\n",
       " (-10.239856751604867, 'temporarili'),\n",
       " (-10.239856751604867, 'tendenc'),\n",
       " (-10.239856751604867, 'threw'),\n",
       " (-10.225019684174399, 'acr'),\n",
       " (-10.225019684174399, 'altogeth'),\n",
       " (-10.225019684174399, 'arm forc'),\n",
       " (-10.225019684174399, 'bargain'),\n",
       " (-10.225019684174399, 'devot'),\n",
       " (-10.225019684174399, 'disciplin'),\n",
       " (-10.225019684174399, 'fantast'),\n",
       " (-10.225019684174399, 'giuliani'),\n",
       " (-10.225019684174399, 'gross'),\n",
       " (-10.225019684174399, 'jon'),\n",
       " (-10.225019684174399, 'maneuv'),\n",
       " (-10.225019684174399, 'nerv'),\n",
       " (-10.225019684174399, 'olymp'),\n",
       " (-10.225019684174399, 'overnight'),\n",
       " (-10.225019684174399, 'santa'),\n",
       " (-10.225019684174399, 'scope'),\n",
       " (-10.225019684174399, 'sophist'),\n",
       " (-10.225019684174399, 'suspicion'),\n",
       " (-10.225019684174399, 'swamp'),\n",
       " (-10.225019684174399, 'tesla'),\n",
       " (-10.210399540719436, 'benjamin'),\n",
       " (-10.210399540719436, 'boe'),\n",
       " (-10.210399540719436, 'caution'),\n",
       " (-10.210399540719436, 'columbia'),\n",
       " (-10.210399540719436, 'compli'),\n",
       " (-10.210399540719436, 'gener elect'),\n",
       " (-10.210399540719436, 'hous repres'),\n",
       " (-10.210399540719436, 'instinct'),\n",
       " (-10.210399540719436, 'lab'),\n",
       " (-10.210399540719436, 'made clear'),\n",
       " (-10.210399540719436, 'monument'),\n",
       " (-10.210399540719436, 'new jersey'),\n",
       " (-10.210399540719436, 'overse'),\n",
       " (-10.210399540719436, 'peopl think'),\n",
       " (-10.210399540719436, 'said one'),\n",
       " (-10.210399540719436, 'second amend'),\n",
       " (-10.210399540719436, 'state govern'),\n",
       " (-10.210399540719436, 'would allow'),\n",
       " (-10.195990069499285, 'allen'),\n",
       " (-10.195990069499285, 'assumpt'),\n",
       " (-10.195990069499285, 'athlet'),\n",
       " (-10.195990069499285, 'compil'),\n",
       " (-10.195990069499285, 'could get'),\n",
       " (-10.195990069499285, 'cuban'),\n",
       " (-10.195990069499285, 'dalla'),\n",
       " (-10.195990069499285, 'endang'),\n",
       " (-10.195990069499285, 'erupt'),\n",
       " (-10.195990069499285, 'exempt'),\n",
       " (-10.195990069499285, 'find way'),\n",
       " (-10.195990069499285, 'incarcer'),\n",
       " (-10.195990069499285, 'joel'),\n",
       " (-10.195990069499285, 'kevin'),\n",
       " (-10.195990069499285, 'maryland'),\n",
       " (-10.195990069499285, 'new presid'),\n",
       " (-10.195990069499285, 'one point'),\n",
       " (-10.195990069499285, 'polar'),\n",
       " (-10.195990069499285, 'provoc'),\n",
       " (-10.195990069499285, 'reviv'),\n",
       " ...]"
      ]
     },
     "execution_count": 54,
     "metadata": {},
     "output_type": "execute_result"
    }
   ],
   "source": [
    "sorted(zip(classifier.coef_[0], feature_names))[:5000]"
   ]
  },
  {
   "cell_type": "code",
   "execution_count": 55,
   "metadata": {},
   "outputs": [],
   "source": [
    "# Lets try tfidf vectorizer\n",
    "from sklearn.feature_extraction.text import TfidfVectorizer"
   ]
  },
  {
   "cell_type": "code",
   "execution_count": 56,
   "metadata": {},
   "outputs": [],
   "source": [
    "X = news_data['stem_text']\n",
    "y = news_data['label']"
   ]
  },
  {
   "cell_type": "code",
   "execution_count": 57,
   "metadata": {},
   "outputs": [],
   "source": [
    "tfidf = TfidfVectorizer(max_features=5000, ngram_range=(1,3))"
   ]
  },
  {
   "cell_type": "code",
   "execution_count": 58,
   "metadata": {},
   "outputs": [],
   "source": [
    "X = tfidf.fit_transform(X).toarray()"
   ]
  },
  {
   "cell_type": "code",
   "execution_count": 59,
   "metadata": {},
   "outputs": [
    {
     "data": {
      "text/plain": [
       "(18285, 5000)"
      ]
     },
     "execution_count": 59,
     "metadata": {},
     "output_type": "execute_result"
    }
   ],
   "source": [
    "X.shape"
   ]
  },
  {
   "cell_type": "code",
   "execution_count": 60,
   "metadata": {},
   "outputs": [],
   "source": [
    "X_train, X_test, y_train, y_test = train_test_split(X, y, test_size=0.33, random_state=42)"
   ]
  },
  {
   "cell_type": "code",
   "execution_count": 61,
   "metadata": {},
   "outputs": [
    {
     "data": {
      "text/plain": [
       "['aaron',\n",
       " 'abandon',\n",
       " 'abc',\n",
       " 'abe',\n",
       " 'abedin',\n",
       " 'abil',\n",
       " 'abl',\n",
       " 'abort',\n",
       " 'abroad',\n",
       " 'absenc',\n",
       " 'absolut',\n",
       " 'absorb',\n",
       " 'absurd',\n",
       " 'abu',\n",
       " 'abus']"
      ]
     },
     "execution_count": 61,
     "metadata": {},
     "output_type": "execute_result"
    }
   ],
   "source": [
    "tfidf.get_feature_names()[:15]"
   ]
  },
  {
   "cell_type": "code",
   "execution_count": 62,
   "metadata": {},
   "outputs": [
    {
     "data": {
      "text/plain": [
       "{'analyzer': 'word',\n",
       " 'binary': False,\n",
       " 'decode_error': 'strict',\n",
       " 'dtype': numpy.float64,\n",
       " 'encoding': 'utf-8',\n",
       " 'input': 'content',\n",
       " 'lowercase': True,\n",
       " 'max_df': 1.0,\n",
       " 'max_features': 5000,\n",
       " 'min_df': 1,\n",
       " 'ngram_range': (1, 3),\n",
       " 'norm': 'l2',\n",
       " 'preprocessor': None,\n",
       " 'smooth_idf': True,\n",
       " 'stop_words': None,\n",
       " 'strip_accents': None,\n",
       " 'sublinear_tf': False,\n",
       " 'token_pattern': '(?u)\\\\b\\\\w\\\\w+\\\\b',\n",
       " 'tokenizer': None,\n",
       " 'use_idf': True,\n",
       " 'vocabulary': None}"
      ]
     },
     "execution_count": 62,
     "metadata": {},
     "output_type": "execute_result"
    }
   ],
   "source": [
    "tfidf.get_params()"
   ]
  },
  {
   "cell_type": "code",
   "execution_count": 63,
   "metadata": {},
   "outputs": [],
   "source": [
    "count_df = pd.DataFrame(X_train, columns=tfidf.get_feature_names())"
   ]
  },
  {
   "cell_type": "code",
   "execution_count": 64,
   "metadata": {},
   "outputs": [
    {
     "data": {
      "text/html": [
       "<div>\n",
       "<style scoped>\n",
       "    .dataframe tbody tr th:only-of-type {\n",
       "        vertical-align: middle;\n",
       "    }\n",
       "\n",
       "    .dataframe tbody tr th {\n",
       "        vertical-align: top;\n",
       "    }\n",
       "\n",
       "    .dataframe thead th {\n",
       "        text-align: right;\n",
       "    }\n",
       "</style>\n",
       "<table border=\"1\" class=\"dataframe\">\n",
       "  <thead>\n",
       "    <tr style=\"text-align: right;\">\n",
       "      <th></th>\n",
       "      <th>aaron</th>\n",
       "      <th>abandon</th>\n",
       "      <th>abc</th>\n",
       "      <th>abe</th>\n",
       "      <th>abedin</th>\n",
       "      <th>abil</th>\n",
       "      <th>abl</th>\n",
       "      <th>abort</th>\n",
       "      <th>abroad</th>\n",
       "      <th>absenc</th>\n",
       "      <th>...</th>\n",
       "      <th>young</th>\n",
       "      <th>young peopl</th>\n",
       "      <th>younger</th>\n",
       "      <th>youth</th>\n",
       "      <th>youtub</th>\n",
       "      <th>zero</th>\n",
       "      <th>zika</th>\n",
       "      <th>zionist</th>\n",
       "      <th>zone</th>\n",
       "      <th>zu</th>\n",
       "    </tr>\n",
       "  </thead>\n",
       "  <tbody>\n",
       "    <tr>\n",
       "      <th>0</th>\n",
       "      <td>0.0</td>\n",
       "      <td>0.0</td>\n",
       "      <td>0.0</td>\n",
       "      <td>0.0</td>\n",
       "      <td>0.0</td>\n",
       "      <td>0.0</td>\n",
       "      <td>0.062188</td>\n",
       "      <td>0.0</td>\n",
       "      <td>0.0</td>\n",
       "      <td>0.0</td>\n",
       "      <td>...</td>\n",
       "      <td>0.0</td>\n",
       "      <td>0.0</td>\n",
       "      <td>0.0</td>\n",
       "      <td>0.0</td>\n",
       "      <td>0.0</td>\n",
       "      <td>0.046317</td>\n",
       "      <td>0.0</td>\n",
       "      <td>0.0</td>\n",
       "      <td>0.0</td>\n",
       "      <td>0.0</td>\n",
       "    </tr>\n",
       "    <tr>\n",
       "      <th>1</th>\n",
       "      <td>0.0</td>\n",
       "      <td>0.0</td>\n",
       "      <td>0.0</td>\n",
       "      <td>0.0</td>\n",
       "      <td>0.0</td>\n",
       "      <td>0.0</td>\n",
       "      <td>0.000000</td>\n",
       "      <td>0.0</td>\n",
       "      <td>0.0</td>\n",
       "      <td>0.0</td>\n",
       "      <td>...</td>\n",
       "      <td>0.0</td>\n",
       "      <td>0.0</td>\n",
       "      <td>0.0</td>\n",
       "      <td>0.0</td>\n",
       "      <td>0.0</td>\n",
       "      <td>0.021997</td>\n",
       "      <td>0.0</td>\n",
       "      <td>0.0</td>\n",
       "      <td>0.0</td>\n",
       "      <td>0.0</td>\n",
       "    </tr>\n",
       "    <tr>\n",
       "      <th>2</th>\n",
       "      <td>0.0</td>\n",
       "      <td>0.0</td>\n",
       "      <td>0.0</td>\n",
       "      <td>0.0</td>\n",
       "      <td>0.0</td>\n",
       "      <td>0.0</td>\n",
       "      <td>0.000000</td>\n",
       "      <td>0.0</td>\n",
       "      <td>0.0</td>\n",
       "      <td>0.0</td>\n",
       "      <td>...</td>\n",
       "      <td>0.0</td>\n",
       "      <td>0.0</td>\n",
       "      <td>0.0</td>\n",
       "      <td>0.0</td>\n",
       "      <td>0.0</td>\n",
       "      <td>0.000000</td>\n",
       "      <td>0.0</td>\n",
       "      <td>0.0</td>\n",
       "      <td>0.0</td>\n",
       "      <td>0.0</td>\n",
       "    </tr>\n",
       "    <tr>\n",
       "      <th>3</th>\n",
       "      <td>0.0</td>\n",
       "      <td>0.0</td>\n",
       "      <td>0.0</td>\n",
       "      <td>0.0</td>\n",
       "      <td>0.0</td>\n",
       "      <td>0.0</td>\n",
       "      <td>0.000000</td>\n",
       "      <td>0.0</td>\n",
       "      <td>0.0</td>\n",
       "      <td>0.0</td>\n",
       "      <td>...</td>\n",
       "      <td>0.0</td>\n",
       "      <td>0.0</td>\n",
       "      <td>0.0</td>\n",
       "      <td>0.0</td>\n",
       "      <td>0.0</td>\n",
       "      <td>0.000000</td>\n",
       "      <td>0.0</td>\n",
       "      <td>0.0</td>\n",
       "      <td>0.0</td>\n",
       "      <td>0.0</td>\n",
       "    </tr>\n",
       "    <tr>\n",
       "      <th>4</th>\n",
       "      <td>0.0</td>\n",
       "      <td>0.0</td>\n",
       "      <td>0.0</td>\n",
       "      <td>0.0</td>\n",
       "      <td>0.0</td>\n",
       "      <td>0.0</td>\n",
       "      <td>0.000000</td>\n",
       "      <td>0.0</td>\n",
       "      <td>0.0</td>\n",
       "      <td>0.0</td>\n",
       "      <td>...</td>\n",
       "      <td>0.0</td>\n",
       "      <td>0.0</td>\n",
       "      <td>0.0</td>\n",
       "      <td>0.0</td>\n",
       "      <td>0.0</td>\n",
       "      <td>0.000000</td>\n",
       "      <td>0.0</td>\n",
       "      <td>0.0</td>\n",
       "      <td>0.0</td>\n",
       "      <td>0.0</td>\n",
       "    </tr>\n",
       "  </tbody>\n",
       "</table>\n",
       "<p>5 rows × 5000 columns</p>\n",
       "</div>"
      ],
      "text/plain": [
       "   aaron  abandon  abc  abe  abedin  abil       abl  abort  abroad  absenc  \\\n",
       "0    0.0      0.0  0.0  0.0     0.0   0.0  0.062188    0.0     0.0     0.0   \n",
       "1    0.0      0.0  0.0  0.0     0.0   0.0  0.000000    0.0     0.0     0.0   \n",
       "2    0.0      0.0  0.0  0.0     0.0   0.0  0.000000    0.0     0.0     0.0   \n",
       "3    0.0      0.0  0.0  0.0     0.0   0.0  0.000000    0.0     0.0     0.0   \n",
       "4    0.0      0.0  0.0  0.0     0.0   0.0  0.000000    0.0     0.0     0.0   \n",
       "\n",
       "   ...  young  young peopl  younger  youth  youtub      zero  zika  zionist  \\\n",
       "0  ...    0.0          0.0      0.0    0.0     0.0  0.046317   0.0      0.0   \n",
       "1  ...    0.0          0.0      0.0    0.0     0.0  0.021997   0.0      0.0   \n",
       "2  ...    0.0          0.0      0.0    0.0     0.0  0.000000   0.0      0.0   \n",
       "3  ...    0.0          0.0      0.0    0.0     0.0  0.000000   0.0      0.0   \n",
       "4  ...    0.0          0.0      0.0    0.0     0.0  0.000000   0.0      0.0   \n",
       "\n",
       "   zone   zu  \n",
       "0   0.0  0.0  \n",
       "1   0.0  0.0  \n",
       "2   0.0  0.0  \n",
       "3   0.0  0.0  \n",
       "4   0.0  0.0  \n",
       "\n",
       "[5 rows x 5000 columns]"
      ]
     },
     "execution_count": 64,
     "metadata": {},
     "output_type": "execute_result"
    }
   ],
   "source": [
    "count_df.head()"
   ]
  },
  {
   "cell_type": "code",
   "execution_count": 65,
   "metadata": {},
   "outputs": [],
   "source": [
    "classifier=MultinomialNB()"
   ]
  },
  {
   "cell_type": "code",
   "execution_count": 66,
   "metadata": {},
   "outputs": [
    {
     "name": "stdout",
     "output_type": "stream",
     "text": [
      "accuracy:   0.899\n",
      "Confusion matrix, without normalization\n"
     ]
    },
    {
     "data": {
      "image/png": "[encoded data removed]",
      "text/plain": [
       "<Figure size 432x288 with 2 Axes>"
      ]
     },
     "metadata": {
      "needs_background": "light"
     },
     "output_type": "display_data"
    }
   ],
   "source": [
    "classifier.fit(X_train, y_train)\n",
    "pred = classifier.predict(X_test)\n",
    "score = accuracy_score(y_test, pred)\n",
    "print(\"accuracy:   %0.3f\" % score)\n",
    "cm = confusion_matrix(y_test, pred)\n",
    "plot_confusion_matrix(cm, classes=['FAKE', 'REAL'])"
   ]
  },
  {
   "cell_type": "code",
   "execution_count": 67,
   "metadata": {},
   "outputs": [
    {
     "data": {
      "text/plain": [
       "0.8992543496271748"
      ]
     },
     "execution_count": 67,
     "metadata": {},
     "output_type": "execute_result"
    }
   ],
   "source": [
    "classifier.fit(X_train, y_train)\n",
    "pred = classifier.predict(X_test)\n",
    "score = accuracy_score(y_test, pred)\n",
    "score"
   ]
  },
  {
   "cell_type": "code",
   "execution_count": 68,
   "metadata": {},
   "outputs": [
    {
     "name": "stderr",
     "output_type": "stream",
     "text": [
      "C:\\Users\\prati\\anaconda3\\lib\\site-packages\\sklearn\\naive_bayes.py:511: UserWarning: alpha too small will result in numeric errors, setting alpha = 1.0e-10\n",
      "  warnings.warn('alpha too small will result in numeric errors, '\n"
     ]
    },
    {
     "name": "stdout",
     "output_type": "stream",
     "text": [
      "Alpha: 0.0, Score : 0.9030654515327258\n",
      "Alpha: 0.1, Score : 0.9017398508699255\n",
      "Alpha: 0.2, Score : 0.9012427506213753\n",
      "Alpha: 0.30000000000000004, Score : 0.9009113504556753\n",
      "Alpha: 0.4, Score : 0.9009113504556753\n",
      "Alpha: 0.5, Score : 0.9007456503728252\n",
      "Alpha: 0.6000000000000001, Score : 0.9004142502071251\n",
      "Alpha: 0.7000000000000001, Score : 0.899751449875725\n",
      "Alpha: 0.8, Score : 0.8994200497100249\n",
      "Alpha: 0.9, Score : 0.8995857497928749\n"
     ]
    }
   ],
   "source": [
    "previous_score=0\n",
    "for alpha in np.arange(0,1,0.1):\n",
    "    sub_classifier=MultinomialNB(alpha=alpha)\n",
    "    sub_classifier.fit(X_train,y_train)\n",
    "    y_pred=sub_classifier.predict(X_test)\n",
    "    score = accuracy_score(y_test, y_pred)\n",
    "    if score>previous_score:\n",
    "        classifier=sub_classifier\n",
    "    print(\"Alpha: {}, Score : {}\".format(alpha,score))"
   ]
  },
  {
   "cell_type": "code",
   "execution_count": 69,
   "metadata": {},
   "outputs": [],
   "source": [
    "## Get Features names\n",
    "feature_names = cv.get_feature_names()"
   ]
  },
  {
   "cell_type": "code",
   "execution_count": 70,
   "metadata": {},
   "outputs": [
    {
     "data": {
      "text/plain": [
       "array([-9.62635269, -8.95025764, -8.72300467, ..., -8.98828017,\n",
       "       -8.21011972, -8.47087948])"
      ]
     },
     "execution_count": 70,
     "metadata": {},
     "output_type": "execute_result"
    }
   ],
   "source": [
    "classifier.coef_[0]"
   ]
  },
  {
   "cell_type": "code",
   "execution_count": null,
   "metadata": {},
   "outputs": [],
   "source": []
  },
  {
   "cell_type": "code",
   "execution_count": 71,
   "metadata": {},
   "outputs": [],
   "source": [
    "# This is yet another vectorizer known to work nicely on text\n",
    "from sklearn.feature_extraction.text import HashingVectorizer"
   ]
  },
  {
   "cell_type": "code",
   "execution_count": 72,
   "metadata": {},
   "outputs": [],
   "source": [
    "hs_vectorizer = HashingVectorizer(n_features=5000, alternate_sign=False)"
   ]
  },
  {
   "cell_type": "code",
   "execution_count": 73,
   "metadata": {},
   "outputs": [],
   "source": [
    "X = hs_vectorizer.fit_transform(news_data['stem_text']).toarray()"
   ]
  },
  {
   "cell_type": "code",
   "execution_count": 74,
   "metadata": {},
   "outputs": [
    {
     "data": {
      "text/plain": [
       "(18285, 5000)"
      ]
     },
     "execution_count": 74,
     "metadata": {},
     "output_type": "execute_result"
    }
   ],
   "source": [
    "X.shape"
   ]
  },
  {
   "cell_type": "code",
   "execution_count": 75,
   "metadata": {},
   "outputs": [
    {
     "data": {
      "text/plain": [
       "array([[0.        , 0.15922347, 0.        , ..., 0.        , 0.        ,\n",
       "        0.        ],\n",
       "       [0.        , 0.03785056, 0.        , ..., 0.        , 0.        ,\n",
       "        0.        ],\n",
       "       [0.        , 0.02285155, 0.        , ..., 0.        , 0.        ,\n",
       "        0.        ],\n",
       "       ...,\n",
       "       [0.        , 0.        , 0.        , ..., 0.        , 0.        ,\n",
       "        0.        ],\n",
       "       [0.        , 0.        , 0.        , ..., 0.        , 0.        ,\n",
       "        0.        ],\n",
       "       [0.        , 0.06880662, 0.        , ..., 0.        , 0.        ,\n",
       "        0.        ]])"
      ]
     },
     "execution_count": 75,
     "metadata": {},
     "output_type": "execute_result"
    }
   ],
   "source": [
    "X"
   ]
  },
  {
   "cell_type": "code",
   "execution_count": 76,
   "metadata": {},
   "outputs": [],
   "source": [
    "X_train, X_test, y_train, y_test = train_test_split(X, y, test_size=0.33, random_state=42)"
   ]
  },
  {
   "cell_type": "code",
   "execution_count": 77,
   "metadata": {},
   "outputs": [
    {
     "name": "stdout",
     "output_type": "stream",
     "text": [
      "accuracy:   0.883\n",
      "Confusion matrix, without normalization\n"
     ]
    },
    {
     "data": {
      "image/png": "[encoded data removed]",
      "text/plain": [
       "<Figure size 432x288 with 2 Axes>"
      ]
     },
     "metadata": {
      "needs_background": "light"
     },
     "output_type": "display_data"
    }
   ],
   "source": [
    "classifier=MultinomialNB()\n",
    "classifier.fit(X_train, y_train)\n",
    "pred = classifier.predict(X_test)\n",
    "score = accuracy_score(y_test, pred)\n",
    "print(\"accuracy:   %0.3f\" % score)\n",
    "cm = confusion_matrix(y_test, pred)\n",
    "plot_confusion_matrix(cm, classes=['FAKE', 'REAL'])"
   ]
  },
  {
   "cell_type": "code",
   "execution_count": null,
   "metadata": {},
   "outputs": [],
   "source": []
  }
 ],
 "metadata": {
  "kernelspec": {
   "display_name": "Python 3",
   "language": "python",
   "name": "python3"
  },
  "language_info": {
   "codemirror_mode": {
    "name": "ipython",
    "version": 3
   },
   "file_extension": ".py",
   "mimetype": "text/x-python",
   "name": "python",
   "nbconvert_exporter": "python",
   "pygments_lexer": "ipython3",
   "version": "3.8.3"
  }
 },
 "nbformat": 4,
 "nbformat_minor": 4
}
