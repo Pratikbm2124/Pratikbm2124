{
 "cells": [
  {
   "cell_type": "markdown",
   "metadata": {
    "id": "RKGm6393TlwY"
   },
   "source": [
    "## Name : Pratik Balaji Mahavarkar  ,  pratikmahavarkar@gmail.com\n",
    "### Data Science Intern  ,  ML Project(ML-MAJOR-MAY)"
   ]
  },
  {
   "cell_type": "markdown",
   "metadata": {
    "id": "fHD7FgQhegnE"
   },
   "source": [
    "##### !!! Some of the take a lot of time to run so in the final run of this file I have executed only the cells that dont take a lot of time. Time taken is mentioned in the cells and maybe the outputs show it too. After creating the final model I saved it using pickle library in a file and loaded it in the final run to show the result. "
   ]
  },
  {
   "cell_type": "markdown",
   "metadata": {
    "id": "EaeKV0mkTljz"
   },
   "source": [
    "### Problem : Create a SVM model to classify images of digits from given digits dataset."
   ]
  },
  {
   "cell_type": "markdown",
   "metadata": {
    "id": "HFwK7SBoTk-h"
   },
   "source": [
    "### This is supervised learning problem with multi-class classification task.\n",
    "Lets import required libraries and take a look at the dataset.\n"
   ]
  },
  {
   "cell_type": "code",
   "execution_count": 163,
   "metadata": {
    "id": "j6Z2T6oCNKEN"
   },
   "outputs": [],
   "source": [
    "import numpy as np\n",
    "import pandas as pd\n",
    "import matplotlib.pyplot as plt"
   ]
  },
  {
   "cell_type": "code",
   "execution_count": null,
   "metadata": {
    "colab": {
     "base_uri": "https://localhost:8080/"
    },
    "id": "8UoivgrFNkG6",
    "outputId": "3b8655d1-e64b-40f9-b36f-d22c5affd4db"
   },
   "outputs": [
    {
     "name": "stdout",
     "output_type": "stream",
     "text": [
      "Mounted at /content/drive\n"
     ]
    }
   ],
   "source": [
    "from google.colab import drive\n",
    "drive.mount('/content/drive')"
   ]
  },
  {
   "cell_type": "code",
   "execution_count": null,
   "metadata": {
    "id": "kd1tUgArNKEN"
   },
   "outputs": [],
   "source": [
    "digit_data = pd.read_csv('/content/drive/MyDrive/Colab Notebooks/digit_svm.csv')"
   ]
  },
  {
   "cell_type": "code",
   "execution_count": null,
   "metadata": {
    "colab": {
     "base_uri": "https://localhost:8080/",
     "height": 252
    },
    "id": "vISrwx3GNKEN",
    "outputId": "cf06ff3a-2528-4625-b11b-5e43f96f3c57",
    "scrolled": true
   },
   "outputs": [
    {
     "data": {
      "text/html": [
       "<div>\n",
       "<style scoped>\n",
       "    .dataframe tbody tr th:only-of-type {\n",
       "        vertical-align: middle;\n",
       "    }\n",
       "\n",
       "    .dataframe tbody tr th {\n",
       "        vertical-align: top;\n",
       "    }\n",
       "\n",
       "    .dataframe thead th {\n",
       "        text-align: right;\n",
       "    }\n",
       "</style>\n",
       "<table border=\"1\" class=\"dataframe\">\n",
       "  <thead>\n",
       "    <tr style=\"text-align: right;\">\n",
       "      <th></th>\n",
       "      <th>label</th>\n",
       "      <th>pixel0</th>\n",
       "      <th>pixel1</th>\n",
       "      <th>pixel2</th>\n",
       "      <th>pixel3</th>\n",
       "      <th>pixel4</th>\n",
       "      <th>pixel5</th>\n",
       "      <th>pixel6</th>\n",
       "      <th>pixel7</th>\n",
       "      <th>pixel8</th>\n",
       "      <th>pixel9</th>\n",
       "      <th>pixel10</th>\n",
       "      <th>pixel11</th>\n",
       "      <th>pixel12</th>\n",
       "      <th>pixel13</th>\n",
       "      <th>pixel14</th>\n",
       "      <th>pixel15</th>\n",
       "      <th>pixel16</th>\n",
       "      <th>pixel17</th>\n",
       "      <th>pixel18</th>\n",
       "      <th>pixel19</th>\n",
       "      <th>pixel20</th>\n",
       "      <th>pixel21</th>\n",
       "      <th>pixel22</th>\n",
       "      <th>pixel23</th>\n",
       "      <th>pixel24</th>\n",
       "      <th>pixel25</th>\n",
       "      <th>pixel26</th>\n",
       "      <th>pixel27</th>\n",
       "      <th>pixel28</th>\n",
       "      <th>pixel29</th>\n",
       "      <th>pixel30</th>\n",
       "      <th>pixel31</th>\n",
       "      <th>pixel32</th>\n",
       "      <th>pixel33</th>\n",
       "      <th>pixel34</th>\n",
       "      <th>pixel35</th>\n",
       "      <th>pixel36</th>\n",
       "      <th>pixel37</th>\n",
       "      <th>pixel38</th>\n",
       "      <th>...</th>\n",
       "      <th>pixel744</th>\n",
       "      <th>pixel745</th>\n",
       "      <th>pixel746</th>\n",
       "      <th>pixel747</th>\n",
       "      <th>pixel748</th>\n",
       "      <th>pixel749</th>\n",
       "      <th>pixel750</th>\n",
       "      <th>pixel751</th>\n",
       "      <th>pixel752</th>\n",
       "      <th>pixel753</th>\n",
       "      <th>pixel754</th>\n",
       "      <th>pixel755</th>\n",
       "      <th>pixel756</th>\n",
       "      <th>pixel757</th>\n",
       "      <th>pixel758</th>\n",
       "      <th>pixel759</th>\n",
       "      <th>pixel760</th>\n",
       "      <th>pixel761</th>\n",
       "      <th>pixel762</th>\n",
       "      <th>pixel763</th>\n",
       "      <th>pixel764</th>\n",
       "      <th>pixel765</th>\n",
       "      <th>pixel766</th>\n",
       "      <th>pixel767</th>\n",
       "      <th>pixel768</th>\n",
       "      <th>pixel769</th>\n",
       "      <th>pixel770</th>\n",
       "      <th>pixel771</th>\n",
       "      <th>pixel772</th>\n",
       "      <th>pixel773</th>\n",
       "      <th>pixel774</th>\n",
       "      <th>pixel775</th>\n",
       "      <th>pixel776</th>\n",
       "      <th>pixel777</th>\n",
       "      <th>pixel778</th>\n",
       "      <th>pixel779</th>\n",
       "      <th>pixel780</th>\n",
       "      <th>pixel781</th>\n",
       "      <th>pixel782</th>\n",
       "      <th>pixel783</th>\n",
       "    </tr>\n",
       "  </thead>\n",
       "  <tbody>\n",
       "    <tr>\n",
       "      <th>0</th>\n",
       "      <td>1</td>\n",
       "      <td>0</td>\n",
       "      <td>0</td>\n",
       "      <td>0</td>\n",
       "      <td>0</td>\n",
       "      <td>0</td>\n",
       "      <td>0</td>\n",
       "      <td>0</td>\n",
       "      <td>0</td>\n",
       "      <td>0</td>\n",
       "      <td>0</td>\n",
       "      <td>0</td>\n",
       "      <td>0</td>\n",
       "      <td>0</td>\n",
       "      <td>0</td>\n",
       "      <td>0</td>\n",
       "      <td>0</td>\n",
       "      <td>0</td>\n",
       "      <td>0</td>\n",
       "      <td>0</td>\n",
       "      <td>0</td>\n",
       "      <td>0</td>\n",
       "      <td>0</td>\n",
       "      <td>0</td>\n",
       "      <td>0</td>\n",
       "      <td>0</td>\n",
       "      <td>0</td>\n",
       "      <td>0</td>\n",
       "      <td>0</td>\n",
       "      <td>0</td>\n",
       "      <td>0</td>\n",
       "      <td>0</td>\n",
       "      <td>0</td>\n",
       "      <td>0</td>\n",
       "      <td>0</td>\n",
       "      <td>0</td>\n",
       "      <td>0</td>\n",
       "      <td>0</td>\n",
       "      <td>0</td>\n",
       "      <td>0</td>\n",
       "      <td>...</td>\n",
       "      <td>0</td>\n",
       "      <td>0</td>\n",
       "      <td>0</td>\n",
       "      <td>0</td>\n",
       "      <td>0</td>\n",
       "      <td>0</td>\n",
       "      <td>0</td>\n",
       "      <td>0</td>\n",
       "      <td>0</td>\n",
       "      <td>0</td>\n",
       "      <td>0</td>\n",
       "      <td>0</td>\n",
       "      <td>0</td>\n",
       "      <td>0</td>\n",
       "      <td>0</td>\n",
       "      <td>0</td>\n",
       "      <td>0</td>\n",
       "      <td>0</td>\n",
       "      <td>0</td>\n",
       "      <td>0</td>\n",
       "      <td>0</td>\n",
       "      <td>0</td>\n",
       "      <td>0</td>\n",
       "      <td>0</td>\n",
       "      <td>0</td>\n",
       "      <td>0</td>\n",
       "      <td>0</td>\n",
       "      <td>0</td>\n",
       "      <td>0</td>\n",
       "      <td>0</td>\n",
       "      <td>0</td>\n",
       "      <td>0</td>\n",
       "      <td>0</td>\n",
       "      <td>0</td>\n",
       "      <td>0</td>\n",
       "      <td>0</td>\n",
       "      <td>0</td>\n",
       "      <td>0</td>\n",
       "      <td>0</td>\n",
       "      <td>0</td>\n",
       "    </tr>\n",
       "    <tr>\n",
       "      <th>1</th>\n",
       "      <td>0</td>\n",
       "      <td>0</td>\n",
       "      <td>0</td>\n",
       "      <td>0</td>\n",
       "      <td>0</td>\n",
       "      <td>0</td>\n",
       "      <td>0</td>\n",
       "      <td>0</td>\n",
       "      <td>0</td>\n",
       "      <td>0</td>\n",
       "      <td>0</td>\n",
       "      <td>0</td>\n",
       "      <td>0</td>\n",
       "      <td>0</td>\n",
       "      <td>0</td>\n",
       "      <td>0</td>\n",
       "      <td>0</td>\n",
       "      <td>0</td>\n",
       "      <td>0</td>\n",
       "      <td>0</td>\n",
       "      <td>0</td>\n",
       "      <td>0</td>\n",
       "      <td>0</td>\n",
       "      <td>0</td>\n",
       "      <td>0</td>\n",
       "      <td>0</td>\n",
       "      <td>0</td>\n",
       "      <td>0</td>\n",
       "      <td>0</td>\n",
       "      <td>0</td>\n",
       "      <td>0</td>\n",
       "      <td>0</td>\n",
       "      <td>0</td>\n",
       "      <td>0</td>\n",
       "      <td>0</td>\n",
       "      <td>0</td>\n",
       "      <td>0</td>\n",
       "      <td>0</td>\n",
       "      <td>0</td>\n",
       "      <td>0</td>\n",
       "      <td>...</td>\n",
       "      <td>0</td>\n",
       "      <td>0</td>\n",
       "      <td>0</td>\n",
       "      <td>0</td>\n",
       "      <td>0</td>\n",
       "      <td>0</td>\n",
       "      <td>0</td>\n",
       "      <td>0</td>\n",
       "      <td>0</td>\n",
       "      <td>0</td>\n",
       "      <td>0</td>\n",
       "      <td>0</td>\n",
       "      <td>0</td>\n",
       "      <td>0</td>\n",
       "      <td>0</td>\n",
       "      <td>0</td>\n",
       "      <td>0</td>\n",
       "      <td>0</td>\n",
       "      <td>0</td>\n",
       "      <td>0</td>\n",
       "      <td>0</td>\n",
       "      <td>0</td>\n",
       "      <td>0</td>\n",
       "      <td>0</td>\n",
       "      <td>0</td>\n",
       "      <td>0</td>\n",
       "      <td>0</td>\n",
       "      <td>0</td>\n",
       "      <td>0</td>\n",
       "      <td>0</td>\n",
       "      <td>0</td>\n",
       "      <td>0</td>\n",
       "      <td>0</td>\n",
       "      <td>0</td>\n",
       "      <td>0</td>\n",
       "      <td>0</td>\n",
       "      <td>0</td>\n",
       "      <td>0</td>\n",
       "      <td>0</td>\n",
       "      <td>0</td>\n",
       "    </tr>\n",
       "    <tr>\n",
       "      <th>2</th>\n",
       "      <td>1</td>\n",
       "      <td>0</td>\n",
       "      <td>0</td>\n",
       "      <td>0</td>\n",
       "      <td>0</td>\n",
       "      <td>0</td>\n",
       "      <td>0</td>\n",
       "      <td>0</td>\n",
       "      <td>0</td>\n",
       "      <td>0</td>\n",
       "      <td>0</td>\n",
       "      <td>0</td>\n",
       "      <td>0</td>\n",
       "      <td>0</td>\n",
       "      <td>0</td>\n",
       "      <td>0</td>\n",
       "      <td>0</td>\n",
       "      <td>0</td>\n",
       "      <td>0</td>\n",
       "      <td>0</td>\n",
       "      <td>0</td>\n",
       "      <td>0</td>\n",
       "      <td>0</td>\n",
       "      <td>0</td>\n",
       "      <td>0</td>\n",
       "      <td>0</td>\n",
       "      <td>0</td>\n",
       "      <td>0</td>\n",
       "      <td>0</td>\n",
       "      <td>0</td>\n",
       "      <td>0</td>\n",
       "      <td>0</td>\n",
       "      <td>0</td>\n",
       "      <td>0</td>\n",
       "      <td>0</td>\n",
       "      <td>0</td>\n",
       "      <td>0</td>\n",
       "      <td>0</td>\n",
       "      <td>0</td>\n",
       "      <td>0</td>\n",
       "      <td>...</td>\n",
       "      <td>0</td>\n",
       "      <td>0</td>\n",
       "      <td>0</td>\n",
       "      <td>0</td>\n",
       "      <td>0</td>\n",
       "      <td>0</td>\n",
       "      <td>0</td>\n",
       "      <td>0</td>\n",
       "      <td>0</td>\n",
       "      <td>0</td>\n",
       "      <td>0</td>\n",
       "      <td>0</td>\n",
       "      <td>0</td>\n",
       "      <td>0</td>\n",
       "      <td>0</td>\n",
       "      <td>0</td>\n",
       "      <td>0</td>\n",
       "      <td>0</td>\n",
       "      <td>0</td>\n",
       "      <td>0</td>\n",
       "      <td>0</td>\n",
       "      <td>0</td>\n",
       "      <td>0</td>\n",
       "      <td>0</td>\n",
       "      <td>0</td>\n",
       "      <td>0</td>\n",
       "      <td>0</td>\n",
       "      <td>0</td>\n",
       "      <td>0</td>\n",
       "      <td>0</td>\n",
       "      <td>0</td>\n",
       "      <td>0</td>\n",
       "      <td>0</td>\n",
       "      <td>0</td>\n",
       "      <td>0</td>\n",
       "      <td>0</td>\n",
       "      <td>0</td>\n",
       "      <td>0</td>\n",
       "      <td>0</td>\n",
       "      <td>0</td>\n",
       "    </tr>\n",
       "    <tr>\n",
       "      <th>3</th>\n",
       "      <td>4</td>\n",
       "      <td>0</td>\n",
       "      <td>0</td>\n",
       "      <td>0</td>\n",
       "      <td>0</td>\n",
       "      <td>0</td>\n",
       "      <td>0</td>\n",
       "      <td>0</td>\n",
       "      <td>0</td>\n",
       "      <td>0</td>\n",
       "      <td>0</td>\n",
       "      <td>0</td>\n",
       "      <td>0</td>\n",
       "      <td>0</td>\n",
       "      <td>0</td>\n",
       "      <td>0</td>\n",
       "      <td>0</td>\n",
       "      <td>0</td>\n",
       "      <td>0</td>\n",
       "      <td>0</td>\n",
       "      <td>0</td>\n",
       "      <td>0</td>\n",
       "      <td>0</td>\n",
       "      <td>0</td>\n",
       "      <td>0</td>\n",
       "      <td>0</td>\n",
       "      <td>0</td>\n",
       "      <td>0</td>\n",
       "      <td>0</td>\n",
       "      <td>0</td>\n",
       "      <td>0</td>\n",
       "      <td>0</td>\n",
       "      <td>0</td>\n",
       "      <td>0</td>\n",
       "      <td>0</td>\n",
       "      <td>0</td>\n",
       "      <td>0</td>\n",
       "      <td>0</td>\n",
       "      <td>0</td>\n",
       "      <td>0</td>\n",
       "      <td>...</td>\n",
       "      <td>0</td>\n",
       "      <td>0</td>\n",
       "      <td>0</td>\n",
       "      <td>0</td>\n",
       "      <td>0</td>\n",
       "      <td>0</td>\n",
       "      <td>0</td>\n",
       "      <td>0</td>\n",
       "      <td>0</td>\n",
       "      <td>0</td>\n",
       "      <td>0</td>\n",
       "      <td>0</td>\n",
       "      <td>0</td>\n",
       "      <td>0</td>\n",
       "      <td>0</td>\n",
       "      <td>0</td>\n",
       "      <td>0</td>\n",
       "      <td>0</td>\n",
       "      <td>0</td>\n",
       "      <td>0</td>\n",
       "      <td>0</td>\n",
       "      <td>0</td>\n",
       "      <td>0</td>\n",
       "      <td>0</td>\n",
       "      <td>0</td>\n",
       "      <td>0</td>\n",
       "      <td>0</td>\n",
       "      <td>0</td>\n",
       "      <td>0</td>\n",
       "      <td>0</td>\n",
       "      <td>0</td>\n",
       "      <td>0</td>\n",
       "      <td>0</td>\n",
       "      <td>0</td>\n",
       "      <td>0</td>\n",
       "      <td>0</td>\n",
       "      <td>0</td>\n",
       "      <td>0</td>\n",
       "      <td>0</td>\n",
       "      <td>0</td>\n",
       "    </tr>\n",
       "    <tr>\n",
       "      <th>4</th>\n",
       "      <td>0</td>\n",
       "      <td>0</td>\n",
       "      <td>0</td>\n",
       "      <td>0</td>\n",
       "      <td>0</td>\n",
       "      <td>0</td>\n",
       "      <td>0</td>\n",
       "      <td>0</td>\n",
       "      <td>0</td>\n",
       "      <td>0</td>\n",
       "      <td>0</td>\n",
       "      <td>0</td>\n",
       "      <td>0</td>\n",
       "      <td>0</td>\n",
       "      <td>0</td>\n",
       "      <td>0</td>\n",
       "      <td>0</td>\n",
       "      <td>0</td>\n",
       "      <td>0</td>\n",
       "      <td>0</td>\n",
       "      <td>0</td>\n",
       "      <td>0</td>\n",
       "      <td>0</td>\n",
       "      <td>0</td>\n",
       "      <td>0</td>\n",
       "      <td>0</td>\n",
       "      <td>0</td>\n",
       "      <td>0</td>\n",
       "      <td>0</td>\n",
       "      <td>0</td>\n",
       "      <td>0</td>\n",
       "      <td>0</td>\n",
       "      <td>0</td>\n",
       "      <td>0</td>\n",
       "      <td>0</td>\n",
       "      <td>0</td>\n",
       "      <td>0</td>\n",
       "      <td>0</td>\n",
       "      <td>0</td>\n",
       "      <td>0</td>\n",
       "      <td>...</td>\n",
       "      <td>0</td>\n",
       "      <td>0</td>\n",
       "      <td>0</td>\n",
       "      <td>0</td>\n",
       "      <td>0</td>\n",
       "      <td>0</td>\n",
       "      <td>0</td>\n",
       "      <td>0</td>\n",
       "      <td>0</td>\n",
       "      <td>0</td>\n",
       "      <td>0</td>\n",
       "      <td>0</td>\n",
       "      <td>0</td>\n",
       "      <td>0</td>\n",
       "      <td>0</td>\n",
       "      <td>0</td>\n",
       "      <td>0</td>\n",
       "      <td>0</td>\n",
       "      <td>0</td>\n",
       "      <td>0</td>\n",
       "      <td>0</td>\n",
       "      <td>0</td>\n",
       "      <td>0</td>\n",
       "      <td>0</td>\n",
       "      <td>0</td>\n",
       "      <td>0</td>\n",
       "      <td>0</td>\n",
       "      <td>0</td>\n",
       "      <td>0</td>\n",
       "      <td>0</td>\n",
       "      <td>0</td>\n",
       "      <td>0</td>\n",
       "      <td>0</td>\n",
       "      <td>0</td>\n",
       "      <td>0</td>\n",
       "      <td>0</td>\n",
       "      <td>0</td>\n",
       "      <td>0</td>\n",
       "      <td>0</td>\n",
       "      <td>0</td>\n",
       "    </tr>\n",
       "  </tbody>\n",
       "</table>\n",
       "<p>5 rows × 785 columns</p>\n",
       "</div>"
      ],
      "text/plain": [
       "   label  pixel0  pixel1  pixel2  ...  pixel780  pixel781  pixel782  pixel783\n",
       "0      1       0       0       0  ...         0         0         0         0\n",
       "1      0       0       0       0  ...         0         0         0         0\n",
       "2      1       0       0       0  ...         0         0         0         0\n",
       "3      4       0       0       0  ...         0         0         0         0\n",
       "4      0       0       0       0  ...         0         0         0         0\n",
       "\n",
       "[5 rows x 785 columns]"
      ]
     },
     "execution_count": 4,
     "metadata": {
      "tags": []
     },
     "output_type": "execute_result"
    }
   ],
   "source": [
    "digit_data.head()"
   ]
  },
  {
   "cell_type": "markdown",
   "metadata": {
    "id": "9QWdVrLyW-Nj"
   },
   "source": [
    "### The first column in our dataset('label') is out target variable. Rest of the columns/feauters are values of pixels of an image."
   ]
  },
  {
   "cell_type": "code",
   "execution_count": null,
   "metadata": {
    "colab": {
     "base_uri": "https://localhost:8080/"
    },
    "id": "W2KqsXsgNKEO",
    "outputId": "5458d18a-d778-411c-9473-279a7259738f"
   },
   "outputs": [
    {
     "data": {
      "text/plain": [
       "pixel0      0\n",
       "pixel1      0\n",
       "pixel2      0\n",
       "pixel3      0\n",
       "pixel4      0\n",
       "           ..\n",
       "pixel779    0\n",
       "pixel780    0\n",
       "pixel781    0\n",
       "pixel782    0\n",
       "pixel783    0\n",
       "Name: 0, Length: 784, dtype: int64"
      ]
     },
     "execution_count": 25,
     "metadata": {
      "tags": []
     },
     "output_type": "execute_result"
    }
   ],
   "source": [
    "digit_data.iloc[0, 1:]"
   ]
  },
  {
   "cell_type": "code",
   "execution_count": null,
   "metadata": {
    "colab": {
     "base_uri": "https://localhost:8080/"
    },
    "id": "0IEYEPsgZvRk",
    "outputId": "2d0d3214-2483-4017-c7dc-9d179648253d"
   },
   "outputs": [
    {
     "data": {
      "text/plain": [
       "array([  0,   3,   5,   6,   7,   8,  10,  11,  18,  19,  23,  24,  25,\n",
       "        26,  30,  31,  33,  35,  36,  44,  50,  58,  61,  62,  64,  67,\n",
       "        72,  74,  78,  82,  83,  84,  91,  96, 103, 115, 116, 119, 123,\n",
       "       124, 128, 133, 135, 141, 143, 150, 154, 156, 158, 160, 163, 164,\n",
       "       165, 174, 178, 179, 189, 193, 194, 195, 197, 198, 200, 202, 203,\n",
       "       204, 209, 211, 212, 214, 219, 221, 222, 228, 230, 235, 236, 238,\n",
       "       239, 241, 242, 243, 244, 248, 249, 252, 254, 255])"
      ]
     },
     "execution_count": 27,
     "metadata": {
      "tags": []
     },
     "output_type": "execute_result"
    }
   ],
   "source": [
    "np.unique(np.asarray(digit_data.iloc[5, 1:]))"
   ]
  },
  {
   "cell_type": "markdown",
   "metadata": {
    "id": "7H4uuc9BYv-q"
   },
   "source": [
    "A black & white image is an array of numbers ranging from 0 - 255. So to take a look at the images we need to first convert the instances into an array, rehsape them to the appropriate shape(here 28x28). Lets look at some examples."
   ]
  },
  {
   "cell_type": "code",
   "execution_count": null,
   "metadata": {
    "colab": {
     "base_uri": "https://localhost:8080/",
     "height": 265
    },
    "id": "uZH4eL56NKEO",
    "outputId": "07804284-471f-49bd-a73b-1d5a9511a93d"
   },
   "outputs": [
    {
     "data": {
      "image/png": "[encoded data removed]",
      "text/plain": [
       "<Figure size 432x288 with 1 Axes>"
      ]
     },
     "metadata": {
      "needs_background": "light",
      "tags": []
     },
     "output_type": "display_data"
    }
   ],
   "source": [
    "plt.imshow(np.asarray(digit_data.iloc[10, 1:]).reshape(28,28), cmap='binary')  # Binary image is an image with pixel values equal to 0(white) or 1(black)\n",
    "plt.show()"
   ]
  },
  {
   "cell_type": "code",
   "execution_count": null,
   "metadata": {
    "colab": {
     "base_uri": "https://localhost:8080/",
     "height": 265
    },
    "id": "I6oVOK0zXNYG",
    "outputId": "e9c47363-435b-4dcb-8ccc-157dbc1b921f"
   },
   "outputs": [
    {
     "data": {
      "image/png": "[encoded data removed]",
      "text/plain": [
       "<Figure size 432x288 with 1 Axes>"
      ]
     },
     "metadata": {
      "needs_background": "light",
      "tags": []
     },
     "output_type": "display_data"
    }
   ],
   "source": [
    "plt.imshow(np.asarray(digit_data.iloc[10, 1:]).reshape(28,28), cmap='gray')      # in Gray images 0 is black and as value increases to 255 it becomes white\n",
    "plt.show()"
   ]
  },
  {
   "cell_type": "code",
   "execution_count": null,
   "metadata": {
    "colab": {
     "base_uri": "https://localhost:8080/",
     "height": 268
    },
    "id": "SyMQFa7ghJ4W",
    "outputId": "e1578a94-3c7b-4bd5-8053-28633d771f44"
   },
   "outputs": [
    {
     "data": {
      "image/png": "[encoded data removed]",
      "text/plain": [
       "<Figure size 432x288 with 9 Axes>"
      ]
     },
     "metadata": {
      "needs_background": "light",
      "tags": []
     },
     "output_type": "display_data"
    }
   ],
   "source": [
    "for i in range(9):\n",
    "    plt.subplot(330 + 1 + i)\n",
    "    plt.imshow(X_arr[i].reshape(28,28), cmap='binary')\n",
    "\n",
    "plt.show()"
   ]
  },
  {
   "cell_type": "code",
   "execution_count": null,
   "metadata": {
    "id": "OVhtyzyKNKEP"
   },
   "outputs": [],
   "source": [
    "X = digit_data.drop(['label'], axis=1)\n",
    "y = digit_data.label"
   ]
  },
  {
   "cell_type": "code",
   "execution_count": null,
   "metadata": {
    "colab": {
     "base_uri": "https://localhost:8080/"
    },
    "id": "XaiKPf3bNKEP",
    "outputId": "ced12dd0-ada8-4d29-a4b5-61ffd2a5f9fc"
   },
   "outputs": [
    {
     "data": {
      "text/plain": [
       "array([1, 0, 4, 7, 3, 5, 8, 9, 2, 6])"
      ]
     },
     "execution_count": 9,
     "metadata": {
      "tags": []
     },
     "output_type": "execute_result"
    }
   ],
   "source": [
    "y.unique()"
   ]
  },
  {
   "cell_type": "markdown",
   "metadata": {
    "id": "UKi6CeSigDIA"
   },
   "source": [
    "There are nine classes: [0,1,2,3,4,5,6,7,8,9]"
   ]
  },
  {
   "cell_type": "code",
   "execution_count": null,
   "metadata": {
    "colab": {
     "base_uri": "https://localhost:8080/"
    },
    "id": "4y8PEbOnOSBd",
    "outputId": "71631414-e423-4ec6-f749-3bb18dd7b70f"
   },
   "outputs": [
    {
     "data": {
      "text/plain": [
       "1    4684\n",
       "7    4401\n",
       "3    4351\n",
       "9    4188\n",
       "2    4177\n",
       "6    4137\n",
       "0    4132\n",
       "4    4072\n",
       "8    4063\n",
       "5    3795\n",
       "Name: label, dtype: int64"
      ]
     },
     "execution_count": 10,
     "metadata": {
      "tags": []
     },
     "output_type": "execute_result"
    }
   ],
   "source": [
    "y.value_counts()"
   ]
  },
  {
   "cell_type": "code",
   "execution_count": null,
   "metadata": {
    "colab": {
     "base_uri": "https://localhost:8080/",
     "height": 312
    },
    "id": "n6M-3BsUgOLk",
    "outputId": "ef1a955b-3a59-4226-996d-e1e35a7e51bd"
   },
   "outputs": [
    {
     "data": {
      "text/plain": [
       "Text(0.5, 1.0, 'Labels in digits dataset')"
      ]
     },
     "execution_count": 39,
     "metadata": {
      "tags": []
     },
     "output_type": "execute_result"
    },
    {
     "data": {
      "image/png": "[encoded data removed]",
      "text/plain": [
       "<Figure size 432x288 with 1 Axes>"
      ]
     },
     "metadata": {
      "needs_background": "light",
      "tags": []
     },
     "output_type": "display_data"
    }
   ],
   "source": [
    "unique, counts = np.unique(y, return_counts=True)\n",
    "plt.bar(unique, counts)\n",
    "plt.xticks(unique)\n",
    "plt.xlabel(\"Label\")\n",
    "plt.ylabel(\"Quantity\")\n",
    "plt.title(\"Labels in digits dataset\")"
   ]
  },
  {
   "cell_type": "markdown",
   "metadata": {
    "id": "XnYBQ8bZjkKK"
   },
   "source": [
    "#### Dataset is not imbalanced. We have ample amount of data points for each class."
   ]
  },
  {
   "cell_type": "code",
   "execution_count": null,
   "metadata": {
    "id": "tyalmwyUNKEQ"
   },
   "outputs": [],
   "source": [
    "X_arr = np.asarray(X)       # We can feed the model with dataframe or array anything is fine but with array it is easier to plot images"
   ]
  },
  {
   "cell_type": "code",
   "execution_count": null,
   "metadata": {
    "colab": {
     "base_uri": "https://localhost:8080/"
    },
    "id": "sstCP12DNKEQ",
    "outputId": "5ecf54e2-78cb-47b5-ab11-ab5c4673b722"
   },
   "outputs": [
    {
     "data": {
      "text/plain": [
       "(42000, 784)"
      ]
     },
     "execution_count": 12,
     "metadata": {
      "tags": []
     },
     "output_type": "execute_result"
    }
   ],
   "source": [
    "X_arr.shape"
   ]
  },
  {
   "cell_type": "code",
   "execution_count": null,
   "metadata": {
    "colab": {
     "base_uri": "https://localhost:8080/",
     "height": 265
    },
    "id": "22pR0Ibyav6h",
    "outputId": "876476d6-e63e-4501-e94c-ffd960a8fc3d"
   },
   "outputs": [
    {
     "data": {
      "image/png": "[encoded data removed]",
      "text/plain": [
       "<Figure size 432x288 with 1 Axes>"
      ]
     },
     "metadata": {
      "needs_background": "light",
      "tags": []
     },
     "output_type": "display_data"
    }
   ],
   "source": [
    "plt.imshow(X_arr[11].reshape(28,28), cmap='binary')\n",
    "plt.show()"
   ]
  },
  {
   "cell_type": "markdown",
   "metadata": {
    "id": "G9YZ69HQbMGm"
   },
   "source": [
    "Split the dataset into 3 parts **'train set'**, **'validation set'** and **'test set'**. We train the model the model using train set, check the performance on validation set then try and improve our model to get a good accuracy on validation set.Our model should not see test set until we finalize our model. Performance of the model on the test set will be the real performance of the model created."
   ]
  },
  {
   "cell_type": "code",
   "execution_count": null,
   "metadata": {
    "colab": {
     "base_uri": "https://localhost:8080/"
    },
    "id": "ZWU_I83zdCCC",
    "outputId": "74d6fdc2-e58c-4038-8785-e4c0e2b6c2a4"
   },
   "outputs": [
    {
     "data": {
      "text/plain": [
       "42000"
      ]
     },
     "execution_count": 29,
     "metadata": {
      "tags": []
     },
     "output_type": "execute_result"
    }
   ],
   "source": [
    "X_arr.shape[0]"
   ]
  },
  {
   "cell_type": "markdown",
   "metadata": {
    "id": "q8BqTCs1c9_j"
   },
   "source": [
    "We have 42000 instances/data_points . Let the Train set be 80%, Validation set 10% and Test set 10% of the whole dataset. 10% of dataset is 4200."
   ]
  },
  {
   "cell_type": "code",
   "execution_count": null,
   "metadata": {
    "id": "GfoI6_EBNKER"
   },
   "outputs": [],
   "source": [
    "from sklearn.model_selection import train_test_split"
   ]
  },
  {
   "cell_type": "code",
   "execution_count": null,
   "metadata": {
    "id": "02unuhSNNKER"
   },
   "outputs": [],
   "source": [
    "X_train, X_test, y_train, y_test = train_test_split(X_arr, y, test_size=4200, random_state=42)"
   ]
  },
  {
   "cell_type": "code",
   "execution_count": null,
   "metadata": {
    "id": "Wj7HU1EbNKER"
   },
   "outputs": [],
   "source": [
    "X_train, X_val, y_train, y_val = train_test_split(X_train, y_train, test_size=4200, random_state=42)"
   ]
  },
  {
   "cell_type": "code",
   "execution_count": null,
   "metadata": {
    "colab": {
     "base_uri": "https://localhost:8080/"
    },
    "id": "o8cNEg5oNKER",
    "outputId": "2b38914b-18a7-4f5f-fa6b-ad31f784ea6b"
   },
   "outputs": [
    {
     "data": {
      "text/plain": [
       "((33600, 784), (4200, 784), (4200, 784))"
      ]
     },
     "execution_count": 16,
     "metadata": {
      "tags": []
     },
     "output_type": "execute_result"
    }
   ],
   "source": [
    "X_train.shape, X_val.shape, X_test.shape"
   ]
  },
  {
   "cell_type": "code",
   "execution_count": null,
   "metadata": {
    "colab": {
     "base_uri": "https://localhost:8080/",
     "height": 312
    },
    "id": "yg-fu0G3i6jx",
    "outputId": "0d414b03-2fba-434c-b7a7-31d3101de243"
   },
   "outputs": [
    {
     "data": {
      "text/plain": [
       "Text(0.5, 1.0, 'Labels in digits train dataset')"
      ]
     },
     "execution_count": 41,
     "metadata": {
      "tags": []
     },
     "output_type": "execute_result"
    },
    {
     "data": {
      "image/png": "[encoded data removed]",
      "text/plain": [
       "<Figure size 432x288 with 1 Axes>"
      ]
     },
     "metadata": {
      "needs_background": "light",
      "tags": []
     },
     "output_type": "display_data"
    }
   ],
   "source": [
    "unique, counts = np.unique(y_train, return_counts=True)\n",
    "plt.bar(unique, counts)\n",
    "plt.xticks(unique)\n",
    "plt.xlabel(\"Label\")\n",
    "plt.ylabel(\"Quantity\")\n",
    "plt.title(\"Labels in digits train dataset\")"
   ]
  },
  {
   "cell_type": "markdown",
   "metadata": {
    "id": "vLMDU38AjTfT"
   },
   "source": [
    "#### Distribution of data in train set is acceptable(Not skewed/imbalanced)."
   ]
  },
  {
   "cell_type": "markdown",
   "metadata": {
    "id": "7nc9azLZj-B-"
   },
   "source": [
    "Lets import the required libraries and models."
   ]
  },
  {
   "cell_type": "code",
   "execution_count": null,
   "metadata": {
    "id": "r9gqwdzwNKES"
   },
   "outputs": [],
   "source": [
    "from sklearn.svm import LinearSVC\n",
    "from sklearn.svm import SVC"
   ]
  },
  {
   "cell_type": "markdown",
   "metadata": {
    "id": "5ilFcXP6kwOR"
   },
   "source": [
    "A support vector machine (SVM) model is a supervised learning algorithm that is used to predict or classify new observations.When the response is categorical, SVM models classify data by optimizing a hyperplane that separates the classes.\n",
    "It has a parameter known as kernel which takes values like 'poly', 'rbf', 'sigmoid'.Kernels helps classify non linear datasets(Our data is definitely non linear)."
   ]
  },
  {
   "cell_type": "code",
   "execution_count": null,
   "metadata": {
    "id": "Lf0l3MIbNKES"
   },
   "outputs": [],
   "source": [
    "lin_svm_clf = LinearSVC(random_state=42, dual = False) # we can use SVC(kernel='linear') but its slower than LinearSVC\n",
    "poly_svm_clf = SVC(kernel='poly')    # Polynomial kernel creates polynomial features out of existing features.\n",
    "rbf_svm_clf = SVC(kernel='rbf')   # rbf is default anyway  # RBF creates similarity features."
   ]
  },
  {
   "cell_type": "code",
   "execution_count": null,
   "metadata": {
    "id": "GdrthH3J-hdg"
   },
   "outputs": [],
   "source": [
    "import time   # to record time required to train/predict."
   ]
  },
  {
   "cell_type": "code",
   "execution_count": null,
   "metadata": {
    "id": "8smJmA3tNKET"
   },
   "outputs": [],
   "source": [
    "# Evaluation\n",
    "from sklearn.metrics import accuracy_score"
   ]
  },
  {
   "cell_type": "markdown",
   "metadata": {
    "id": "xjFg0yb4NKET"
   },
   "source": [
    "#### LinearSVC  - BASE"
   ]
  },
  {
   "cell_type": "code",
   "execution_count": null,
   "metadata": {
    "id": "_kO8uP3FNKES"
   },
   "outputs": [],
   "source": [
    "t0 = time.time()\n",
    "lin_svm_clf.fit(X_train, y_train)\n",
    "t1 = time.time()\n",
    "print(\"Training took {:.2f}s\".format(t1 - t0))           ##  Training took 1089.76s / 18 minutes"
   ]
  },
  {
   "cell_type": "code",
   "execution_count": null,
   "metadata": {
    "id": "Vx5J-xuDNKET",
    "outputId": "06881301-4edf-447e-c497-837b95095237"
   },
   "outputs": [
    {
     "data": {
      "text/plain": [
       "0.936875"
      ]
     },
     "execution_count": 23,
     "metadata": {
      "tags": []
     },
     "output_type": "execute_result"
    }
   ],
   "source": [
    "# evaluating on train set\n",
    "t0 = time.time()\n",
    "y_pred_lin = lin_svm_clf.predict(X_train)\n",
    "t1 = time.time()\n",
    "print(\"Predicting on train set took {:.2f}s\".format(t1 - t0))   ##  Predicting on train set took 0.17s\n",
    "accuracy_score(y_train, y_pred_lin)                             ##  0.936875"
   ]
  },
  {
   "cell_type": "code",
   "execution_count": null,
   "metadata": {
    "id": "Op8mjC-dNKEU",
    "outputId": "7cb198e0-e421-4695-bb21-0ca0af409c3d"
   },
   "outputs": [
    {
     "data": {
      "text/plain": [
       "0.9130952380952381"
      ]
     },
     "execution_count": 24,
     "metadata": {
      "tags": []
     },
     "output_type": "execute_result"
    }
   ],
   "source": [
    "# evaluating on validation set\n",
    "t0 = time.time()\n",
    "y_val_pred_lin = lin_svm_clf.predict(X_val)\n",
    "t1 = time.time()\n",
    "print(\"Predicting on validation set took {:.2f}s\".format(t1 - t0))    ## Predicting on validation set took 0.12s\n",
    "accuracy_score(y_val, y_val_pred_lin)                                 ##  0.9133333333333333"
   ]
  },
  {
   "cell_type": "markdown",
   "metadata": {
    "id": "xMT1cyBsNKEU"
   },
   "source": [
    "#### Poly SVC   -BASE"
   ]
  },
  {
   "cell_type": "code",
   "execution_count": null,
   "metadata": {
    "colab": {
     "base_uri": "https://localhost:8080/"
    },
    "id": "j1UxPJ01NKES",
    "outputId": "b9c1e601-138a-48c9-e344-3aa6dcaa9bb8"
   },
   "outputs": [
    {
     "name": "stdout",
     "output_type": "stream",
     "text": [
      "Training took 234.38s\n"
     ]
    }
   ],
   "source": [
    "t0 = time.time()\n",
    "poly_svm_clf.fit(X_train, y_train)\n",
    "t1 = time.time()\n",
    "print(\"Training took {:.2f}s\".format(t1 - t0))         # Training took 234.38s / 4 minutes"
   ]
  },
  {
   "cell_type": "code",
   "execution_count": null,
   "metadata": {
    "colab": {
     "base_uri": "https://localhost:8080/"
    },
    "id": "QV0v28WnNKEU",
    "outputId": "e79d4bd0-6137-46d1-cf75-09f67593fe1f"
   },
   "outputs": [
    {
     "name": "stdout",
     "output_type": "stream",
     "text": [
      "Predicting on train set took 284.76s\n"
     ]
    }
   ],
   "source": [
    "# evaluating on train set\n",
    "t0 = time.time()\n",
    "y_pred_poly = poly_svm_clf.predict(X_train)\n",
    "t1 = time.time()\n",
    "print(\"Predicting on train set took {:.2f}s\".format(t1 - t0))           # Predicting on train set took 284.76s / 4.7 minutes"
   ]
  },
  {
   "cell_type": "code",
   "execution_count": null,
   "metadata": {
    "colab": {
     "base_uri": "https://localhost:8080/"
    },
    "id": "yC3A4YZuEPIY",
    "outputId": "5e3ea0b8-820d-4081-b9f0-91afe71e55dd"
   },
   "outputs": [
    {
     "data": {
      "text/plain": [
       "0.9907440476190477"
      ]
     },
     "execution_count": 26,
     "metadata": {
      "tags": []
     },
     "output_type": "execute_result"
    }
   ],
   "source": [
    "accuracy_score(y_train, y_pred_poly)"
   ]
  },
  {
   "cell_type": "code",
   "execution_count": null,
   "metadata": {
    "colab": {
     "base_uri": "https://localhost:8080/"
    },
    "id": "rJPyLcWYNKEU",
    "outputId": "c30d0b8c-82ab-476b-e528-4574238a73ba"
   },
   "outputs": [
    {
     "name": "stdout",
     "output_type": "stream",
     "text": [
      "Predicting on validation set took 35.59s\n"
     ]
    },
    {
     "data": {
      "text/plain": [
       "0.9742857142857143"
      ]
     },
     "execution_count": 27,
     "metadata": {
      "tags": []
     },
     "output_type": "execute_result"
    }
   ],
   "source": [
    "# evaluating on validation set\n",
    "t0 = time.time()\n",
    "y_val_pred_poly = poly_svm_clf.predict(X_val)\n",
    "t1 = time.time()\n",
    "print(\"Predicting on validation set took {:.2f}s\".format(t1 - t0))\n",
    "accuracy_score(y_val, y_val_pred_poly)                             # Predicting on validation set took 35.59s"
   ]
  },
  {
   "cell_type": "markdown",
   "metadata": {
    "id": "QcClhxZgNKEU"
   },
   "source": [
    "#### RBF SVC   -BASE"
   ]
  },
  {
   "cell_type": "code",
   "execution_count": null,
   "metadata": {
    "colab": {
     "base_uri": "https://localhost:8080/"
    },
    "id": "ntPmOegANKET",
    "outputId": "c618d716-36a3-41ef-c974-1fdee317e936"
   },
   "outputs": [
    {
     "name": "stdout",
     "output_type": "stream",
     "text": [
      "Training took 224.24s\n"
     ]
    }
   ],
   "source": [
    "t0 = time.time()\n",
    "rbf_svm_clf.fit(X_train, y_train)\n",
    "t1 = time.time()\n",
    "print(\"Training took {:.2f}s\".format(t1 - t0))              # Training took 224.24s / 3.7 minutes"
   ]
  },
  {
   "cell_type": "code",
   "execution_count": null,
   "metadata": {
    "colab": {
     "base_uri": "https://localhost:8080/"
    },
    "id": "hGGRLWZPNKEV",
    "outputId": "31ca8bb7-9606-48f7-bd0b-a098bd7ed629"
   },
   "outputs": [
    {
     "name": "stdout",
     "output_type": "stream",
     "text": [
      "Predicting on train set took 376.05s\n"
     ]
    },
    {
     "data": {
      "text/plain": [
       "0.9883035714285714"
      ]
     },
     "execution_count": 29,
     "metadata": {
      "tags": []
     },
     "output_type": "execute_result"
    }
   ],
   "source": [
    "# evaluating on train set\n",
    "t0 = time.time()\n",
    "y_pred_rbf = rbf_svm_clf.predict(X_train)\n",
    "t1 = time.time()\n",
    "print(\"Predicting on train set took {:.2f}s\".format(t1 - t0))     # Predicting on train set took 376.05s / 6.2 minutes\n",
    "accuracy_score(y_train, y_pred_rbf)"
   ]
  },
  {
   "cell_type": "code",
   "execution_count": null,
   "metadata": {
    "colab": {
     "base_uri": "https://localhost:8080/"
    },
    "id": "WpyxEwioNKEV",
    "outputId": "c487ddd3-cc52-4ed6-b21f-b63cd3234d78"
   },
   "outputs": [
    {
     "name": "stdout",
     "output_type": "stream",
     "text": [
      "Predicting on validation set took 47.03s\n"
     ]
    },
    {
     "data": {
      "text/plain": [
       "0.9769047619047619"
      ]
     },
     "execution_count": 30,
     "metadata": {
      "tags": []
     },
     "output_type": "execute_result"
    }
   ],
   "source": [
    "# evaluating on validation set\n",
    "t0 = time.time()\n",
    "y_val_pred_rbf = rbf_svm_clf.predict(X_val)\n",
    "t1 = time.time()\n",
    "print(\"Predicting on validation set took {:.2f}s\".format(t1 - t0))    # Predicting on validation set took 47.03s\n",
    "accuracy_score(y_val, y_val_pred_rbf)"
   ]
  },
  {
   "cell_type": "markdown",
   "metadata": {
    "id": "WykyDIRuNKEV"
   },
   "source": [
    "##### We can see that the models are slightly overfitting the training set\n",
    "> Performance on validation dataset is slightly worse than training dataset"
   ]
  },
  {
   "cell_type": "markdown",
   "metadata": {
    "id": "Y0AANJ3WNKEV"
   },
   "source": [
    "### SVM works better if the data it is training on is scaled, but this is not guaranteed . The model may perform worse after the data is scaled(might loose some important information). That is why we should try creating a model before scaling."
   ]
  },
  {
   "cell_type": "markdown",
   "metadata": {
    "id": "yZm8CszqRI0x"
   },
   "source": [
    "## Before scaling lets look at the features of the data."
   ]
  },
  {
   "cell_type": "code",
   "execution_count": null,
   "metadata": {
    "colab": {
     "base_uri": "https://localhost:8080/",
     "height": 265
    },
    "id": "_KR-0DHmRLTa",
    "outputId": "0e0434e6-a913-4658-df88-6076991616d8"
   },
   "outputs": [
    {
     "data": {
      "image/png": "[encoded data removed]",
      "text/plain": [
       "<Figure size 432x288 with 1 Axes>"
      ]
     },
     "metadata": {
      "needs_background": "light",
      "tags": []
     },
     "output_type": "display_data"
    }
   ],
   "source": [
    "plt.imshow(X_arr[25].reshape(28,28), cmap='binary')\n",
    "plt.show()"
   ]
  },
  {
   "cell_type": "code",
   "execution_count": null,
   "metadata": {
    "colab": {
     "base_uri": "https://localhost:8080/"
    },
    "id": "VgYzUfnbp7Ci",
    "outputId": "4999d3f1-660e-4af5-ccdf-d5a570ed6973",
    "scrolled": true
   },
   "outputs": [
    {
     "data": {
      "text/plain": [
       "array([  0,   0,   0,   0,   0,   0,   0,   0,   0,   0,   0,   0,   0,\n",
       "         0,   0,   0,   0,   0,   0,   0,   0,   0,   0,   0,   0,   0,\n",
       "         0,   0,   0,   0,   0,   0,   0,   0,   0,   0,   0,   0,   0,\n",
       "         0,   0,   0,   0,   0,   0,   0,   0,   0,   0,   0,   0,   0,\n",
       "         0,   0,   0,   0,   0,   0,   0,   0,   0,   0,   0,   0,   0,\n",
       "         0,   0,   0,   0,   0,   0,   0,   0,   0,   0,   0,   0,   0,\n",
       "         0,   0,   0,   0,   0,   0,   0,   0,   0,   0,   0,   0,   0,\n",
       "         0,   0,   0,   0,   0,   0,   0,   0,   0,   0,   0,   0,   0,\n",
       "         0,   0,   0,   0,   0,   0,   0,   0,   0,   0,   0,   0,   0,\n",
       "         0,   0,   0,   0,   0,   0,   0,   0,   0,   0,   0,   0,   0,\n",
       "         0,   0,   0,   0,   0,   0,   0,   0,   0,   0,   0,   0,   0,\n",
       "         0,   0,   0,   0,   0, 192, 254, 230, 254, 254, 255, 254, 254,\n",
       "       254, 254, 212, 174,  42,   0,   0,   0,   0,   0,   0,   0,   0,\n",
       "         0,   0,   0,   0,   0,   0,   0,  64, 202, 207, 207, 207, 207,\n",
       "       207, 139, 158, 148, 235, 253, 237,  60,   0,   0,   0,   0,   0,\n",
       "         0,   0,   0,   0,   0,   0,   0,   0,   0,   0,   0,   0,   0,\n",
       "         0,   0,   0,   0,   0,  65, 237, 253, 245,  66,   0,   0,   0,\n",
       "         0,   0,   0,   0,   0,   0,   0,   0,   0,   0,   0,   0,   0,\n",
       "         0,   0,   0,   0,   0,  30, 143, 233, 253, 252, 138,   0,   0,\n",
       "         0,   0,   0,   0,   0,   0,   0,   0,   0,   0,   0,   0,   0,\n",
       "         0,   0,   0,   0,  12,  70, 153, 227, 253, 253, 232, 115,   0,\n",
       "         0,   0,   0,   0,   0,   0,   0,   0,   0,   0,   0,   0,   0,\n",
       "         0,   0,   0,   0,   8,  79, 196, 254, 253, 253, 230, 156,  29,\n",
       "         0,   0,   0,   0,   0,   0,   0,   0,   0,   0,   0,   0,   0,\n",
       "         0,   0,   0,   0,   0,   1, 154, 253, 253, 254, 192, 128,  35,\n",
       "         0,   0,   0,   0,   0,   0,   0,   0,   0,   0,   0,   0,   0,\n",
       "         0,   0,   0,   0,   0,   0,   0,   3, 157, 238, 253, 254, 253,\n",
       "       213, 184, 149,  66,  12,   0,   0,   0,   0,   0,   0,   0,   0,\n",
       "         0,   0,   0,   0,   0,   0,   0,   0,   0,   0,   0,  40, 123,\n",
       "       123, 159, 199, 176, 199, 229, 222,  92,   0,   0,   0,   0,   0,\n",
       "         0,   0,   0,   0,   0,   0,   0,   0,   0,   0,   0,   0,   0,\n",
       "         0,   0,   0,   0,   0,   0,   0,  31, 244, 250, 158,   0,   0,\n",
       "         0,   0,   0,   0,   0,   0,   0,   0,   0,   0,   0,   0,   0,\n",
       "         0,   0,   0,   0,   0,   0,   0,   0,   0,   0,  78, 254, 254,\n",
       "        53,   0,   0,   0,   0,   0,   0,   0,   0,   0,   0,   0,   0,\n",
       "         0,   0,   0,   0,   0,   0,   0,   0,   0,   0,   0,   0,  83,\n",
       "       253, 253, 100,   0,   0,   0,   0,   0,   0,   0,   0,   0,   0,\n",
       "         0,   0,   0,   0,   0,   0,   0,   0,   0,   0,   0,   0,   0,\n",
       "         0, 161, 253, 253,  32,   0,   0,   0,   0,   0,   0,   0,   0,\n",
       "         0,   0,   0,   0,   0,   0,   0,   0,   0,   0,   0,   0,   0,\n",
       "         0,   8, 141, 250, 237, 105,   1,   0,   0,   0,   0,   0,   0,\n",
       "         0,   0,   0,   0,   0,   0,   0,   0,   0,   0,   0,   0,   0,\n",
       "         0,  11,  95, 220, 253, 252,  77,   0,   0,   0,   0,   0,   0,\n",
       "         0,   0,   0,   0,   0,   0,   0,   0,   0,   0,   0,   0,   0,\n",
       "         0,  51, 152, 226, 253, 253, 219,  69,   0,   0,   0,   0,   0,\n",
       "         0,   0,   0,   0,   0,   0,   0,   0,   0,   0,   6,   8,  57,\n",
       "        85, 147, 232, 249, 253, 253, 217, 111,  19,   0,   0,   0,   0,\n",
       "         0,   0,   0,   0,   0,   0,   0,   0,   0,   0,  49, 135, 236,\n",
       "       253, 253, 253, 253, 253, 251, 208, 125,   2,   0,   0,   0,   0,\n",
       "         0,   0,   0,   0,   0,   0,   0,   0,   0,   0,  29, 145, 248,\n",
       "       253, 212, 229, 253, 214, 199, 106,  42,   0,   0,   0,   0,   0,\n",
       "         0,   0,   0,   0,   0,   0,   0,   0,   0,   0,   0,   0, 170,\n",
       "       192, 176,  50,   6,  13,  46,   7,   0,   0,   0,   0,   0,   0,\n",
       "         0,   0,   0,   0,   0,   0,   0,   0,   0,   0,   0,   0,   0,\n",
       "         0,   0,   0,   0,   0,   0,   0,   0,   0,   0,   0,   0,   0,\n",
       "         0,   0,   0,   0,   0,   0,   0,   0,   0,   0,   0,   0,   0,\n",
       "         0,   0,   0,   0,   0,   0,   0,   0,   0,   0,   0,   0,   0,\n",
       "         0,   0,   0,   0,   0,   0,   0,   0,   0,   0,   0,   0,   0,\n",
       "         0,   0,   0,   0,   0,   0,   0,   0,   0,   0,   0,   0,   0,\n",
       "         0,   0,   0,   0,   0,   0,   0,   0,   0,   0,   0,   0,   0,\n",
       "         0,   0,   0,   0])"
      ]
     },
     "execution_count": 49,
     "metadata": {
      "tags": []
     },
     "output_type": "execute_result"
    }
   ],
   "source": [
    "X_arr[25]"
   ]
  },
  {
   "cell_type": "markdown",
   "metadata": {
    "id": "xB2ZYQMLRV5I"
   },
   "source": [
    "There are too many features that are not necessary, their values are set to zero i.e. the white part from the images above. We don't need them, so lets keep only those features that are necessary.\n",
    "### Lets perform PCA(Principal Component Analysis) and keep the features that contain 99% of the information/explained_variance of the data. PCA is a dimensionality reduction technique. It uses SVD(Singular Value Decomposition) to compress the data/ to choose the features that explain the most of the variance in the data."
   ]
  },
  {
   "cell_type": "code",
   "execution_count": null,
   "metadata": {
    "id": "Hw1Mh-gHNKEY"
   },
   "outputs": [],
   "source": [
    "from sklearn.decomposition import PCA"
   ]
  },
  {
   "cell_type": "code",
   "execution_count": null,
   "metadata": {
    "id": "WTDaMalIY4Fy"
   },
   "outputs": [],
   "source": [
    "pca = PCA(n_components=0.99)        # retrieve 99% of variance"
   ]
  },
  {
   "cell_type": "code",
   "execution_count": null,
   "metadata": {
    "id": "ESVlmlwuY7F9"
   },
   "outputs": [],
   "source": [
    "X_train_pca = pca.fit_transform(X_train)\n",
    "X_val_pca = pca.transform(X_val)\n",
    "X_test_pca = pca.transform(X_test)"
   ]
  },
  {
   "cell_type": "code",
   "execution_count": null,
   "metadata": {
    "colab": {
     "base_uri": "https://localhost:8080/"
    },
    "id": "V5cyshhuZDNG",
    "outputId": "ed2cea6c-4502-4763-96c3-706582011197"
   },
   "outputs": [
    {
     "data": {
      "text/plain": [
       "((33600, 330), (4200, 330), (4200, 330))"
      ]
     },
     "execution_count": 53,
     "metadata": {
      "tags": []
     },
     "output_type": "execute_result"
    }
   ],
   "source": [
    "X_train_pca.shape, X_val_pca.shape, X_test_pca.shape"
   ]
  },
  {
   "cell_type": "code",
   "execution_count": null,
   "metadata": {
    "colab": {
     "base_uri": "https://localhost:8080/"
    },
    "id": "IbBL47ALskoD",
    "outputId": "90f41476-39c0-47eb-877b-35ee11cc3de9"
   },
   "outputs": [
    {
     "data": {
      "text/plain": [
       "330"
      ]
     },
     "execution_count": 55,
     "metadata": {
      "tags": []
     },
     "output_type": "execute_result"
    }
   ],
   "source": [
    "len(pca.components_)"
   ]
  },
  {
   "cell_type": "markdown",
   "metadata": {
    "id": "-yngdEq5SPbN"
   },
   "source": [
    "### Wow look at that, we reduced number of features to less than half(784 to 330) and still have 99% of the information. This will really help with the computations."
   ]
  },
  {
   "cell_type": "markdown",
   "metadata": {
    "id": "33rS5G5hUmWN"
   },
   "source": [
    "## Poly SVM  -after PCA"
   ]
  },
  {
   "cell_type": "code",
   "execution_count": null,
   "metadata": {
    "colab": {
     "base_uri": "https://localhost:8080/"
    },
    "id": "22zxs1qdTE_d",
    "outputId": "246c0c31-e4f5-441e-85db-e5c9cb6bc0ec"
   },
   "outputs": [
    {
     "name": "stdout",
     "output_type": "stream",
     "text": [
      "Training took 196.08s\n"
     ]
    }
   ],
   "source": [
    "t0 = time.time()\n",
    "poly_svm_clf.fit(X_train_pca, y_train)\n",
    "t1 = time.time()\n",
    "print(\"Training took {:.2f}s\".format(t1 - t0))"
   ]
  },
  {
   "cell_type": "code",
   "execution_count": null,
   "metadata": {
    "colab": {
     "base_uri": "https://localhost:8080/"
    },
    "id": "sPHBsTSrTFPo",
    "outputId": "84ceeee5-d282-4d92-edea-5a87a80cd831"
   },
   "outputs": [
    {
     "name": "stdout",
     "output_type": "stream",
     "text": [
      "Predicting on train set took 182.47s\n"
     ]
    },
    {
     "data": {
      "text/plain": [
       "0.9960119047619047"
      ]
     },
     "execution_count": 37,
     "metadata": {
      "tags": []
     },
     "output_type": "execute_result"
    }
   ],
   "source": [
    "# evaluating on train set\n",
    "t0 = time.time()\n",
    "y_pred_poly = poly_svm_clf.predict(X_train_pca)\n",
    "t1 = time.time()\n",
    "print(\"Predicting on train set took {:.2f}s\".format(t1 - t0))\n",
    "accuracy_score(y_train, y_pred_poly)"
   ]
  },
  {
   "cell_type": "code",
   "execution_count": null,
   "metadata": {
    "colab": {
     "base_uri": "https://localhost:8080/"
    },
    "id": "DQ67ZFvoTE1I",
    "outputId": "a77a921f-ddb4-4223-adbd-2cbb9e4569fc"
   },
   "outputs": [
    {
     "name": "stdout",
     "output_type": "stream",
     "text": [
      "Predicting on validation set took 22.87s\n"
     ]
    },
    {
     "data": {
      "text/plain": [
       "0.9811904761904762"
      ]
     },
     "execution_count": 38,
     "metadata": {
      "tags": []
     },
     "output_type": "execute_result"
    }
   ],
   "source": [
    "# evaluating on validation set\n",
    "t0 = time.time()\n",
    "y_val_pred_poly = poly_svm_clf.predict(X_val_pca)\n",
    "t1 = time.time()\n",
    "print(\"Predicting on validation set took {:.2f}s\".format(t1 - t0))\n",
    "accuracy_score(y_val, y_val_pred_poly)"
   ]
  },
  {
   "cell_type": "markdown",
   "metadata": {
    "id": "Hj02V0nXUv8o"
   },
   "source": [
    "## RBF SVM   -after PCA"
   ]
  },
  {
   "cell_type": "code",
   "execution_count": null,
   "metadata": {
    "colab": {
     "base_uri": "https://localhost:8080/"
    },
    "id": "RMDZuaBoZJ-R",
    "outputId": "cba54e84-9fdf-46e5-927b-a8ed9467f34b"
   },
   "outputs": [
    {
     "name": "stdout",
     "output_type": "stream",
     "text": [
      "Training took 119.82s\n"
     ]
    }
   ],
   "source": [
    "t0 = time.time()\n",
    "rbf_svm_clf.fit(X_train_pca, y_train)\n",
    "t1 = time.time()\n",
    "print(\"Training took {:.2f}s\".format(t1 - t0))"
   ]
  },
  {
   "cell_type": "code",
   "execution_count": null,
   "metadata": {
    "colab": {
     "base_uri": "https://localhost:8080/"
    },
    "id": "4lXMGL4_ZQ6Q",
    "outputId": "c930feac-7d8e-4e0f-815b-1f031e801208"
   },
   "outputs": [
    {
     "name": "stdout",
     "output_type": "stream",
     "text": [
      "Predicting on train set took 172.10s\n"
     ]
    },
    {
     "data": {
      "text/plain": [
       "0.9930059523809524"
      ]
     },
     "execution_count": 40,
     "metadata": {
      "tags": []
     },
     "output_type": "execute_result"
    }
   ],
   "source": [
    "# evaluating on train set\n",
    "t0 = time.time()\n",
    "y_pred_rbf = rbf_svm_clf.predict(X_train_pca)\n",
    "t1 = time.time()\n",
    "print(\"Predicting on train set took {:.2f}s\".format(t1 - t0))\n",
    "accuracy_score(y_train, y_pred_rbf)"
   ]
  },
  {
   "cell_type": "code",
   "execution_count": null,
   "metadata": {
    "colab": {
     "base_uri": "https://localhost:8080/"
    },
    "id": "FNnCkrEfTvk-",
    "outputId": "b20a24cd-3fdc-491e-d4d7-4fd0b6d6a4fa"
   },
   "outputs": [
    {
     "name": "stdout",
     "output_type": "stream",
     "text": [
      "Predicting on validation set took 21.63s\n"
     ]
    },
    {
     "data": {
      "text/plain": [
       "0.9797619047619047"
      ]
     },
     "execution_count": 41,
     "metadata": {
      "tags": []
     },
     "output_type": "execute_result"
    }
   ],
   "source": [
    "# evaluating on validation set\n",
    "t0 = time.time()\n",
    "y_val_pred_rbf = rbf_svm_clf.predict(X_val_pca)\n",
    "t1 = time.time()\n",
    "print(\"Predicting on validation set took {:.2f}s\".format(t1 - t0))\n",
    "accuracy_score(y_val, y_val_pred_rbf)"
   ]
  },
  {
   "cell_type": "markdown",
   "metadata": {
    "id": "1VXu9ooXs-4S"
   },
   "source": [
    "#### We can see that PCA has helped reduce the computation time. Training is faster and so are predictions."
   ]
  },
  {
   "cell_type": "markdown",
   "metadata": {
    "id": "Dp_bH139NKEV"
   },
   "source": [
    "## Now lets see if scaling the dataset helps .Lets use Standard Scaler.\n",
    "!!! Remember this may or may not help"
   ]
  },
  {
   "cell_type": "code",
   "execution_count": null,
   "metadata": {
    "id": "OWNS0hrJNKEV"
   },
   "outputs": [],
   "source": [
    "from sklearn.preprocessing import StandardScaler"
   ]
  },
  {
   "cell_type": "code",
   "execution_count": null,
   "metadata": {
    "id": "W9cP42xeNKEW"
   },
   "outputs": [],
   "source": [
    "scaler1 = StandardScaler()"
   ]
  },
  {
   "cell_type": "code",
   "execution_count": null,
   "metadata": {
    "id": "vkE-533DNKEW"
   },
   "outputs": [],
   "source": [
    "X_train_scaled= scaler1.fit_transform(X_train)\n",
    "X_val_scaled = scaler1.transform(X_val)\n",
    "X_test_scaled = scaler1.transform(X_test)"
   ]
  },
  {
   "cell_type": "code",
   "execution_count": null,
   "metadata": {
    "id": "1w15QO9YVXBC"
   },
   "outputs": [],
   "source": [
    "scaler2 = StandardScaler()\n",
    "\n",
    "X_train_pca_scaled= scaler2.fit_transform(X_train_pca)\n",
    "X_val_pca_scaled = scaler2.transform(X_val_pca)\n",
    "X_test_pca_scaled = scaler2.transform(X_test_pca)"
   ]
  },
  {
   "cell_type": "markdown",
   "metadata": {
    "id": "nN1Wic5kNKEX"
   },
   "source": [
    "#### Poly SVC  -Scaled (without PCA)"
   ]
  },
  {
   "cell_type": "code",
   "execution_count": null,
   "metadata": {
    "colab": {
     "base_uri": "https://localhost:8080/"
    },
    "id": "U5cq8pJ0NKEX",
    "outputId": "5d932f4d-1da8-45d4-a6bb-edc7506d024d"
   },
   "outputs": [
    {
     "name": "stdout",
     "output_type": "stream",
     "text": [
      "Training took 759.60s\n"
     ]
    }
   ],
   "source": [
    "t0 = time.time()\n",
    "poly_svm_clf.fit(X_train_scaled, y_train)\n",
    "t1 = time.time()\n",
    "print(\"Training took {:.2f}s\".format(t1 - t0))         ## Training took 759.60s"
   ]
  },
  {
   "cell_type": "code",
   "execution_count": null,
   "metadata": {
    "colab": {
     "base_uri": "https://localhost:8080/"
    },
    "id": "Ju2GvEgHNKEX",
    "outputId": "a98e0908-7628-460e-a252-9e614df1aa48"
   },
   "outputs": [
    {
     "name": "stdout",
     "output_type": "stream",
     "text": [
      "Predicting on train set took 618.02s\n"
     ]
    },
    {
     "data": {
      "text/plain": [
       "0.9717559523809524"
      ]
     },
     "execution_count": 48,
     "metadata": {
      "tags": []
     },
     "output_type": "execute_result"
    }
   ],
   "source": [
    "# evaluating on train set\n",
    "t0 = time.time()\n",
    "y_pred_poly = poly_svm_clf.predict(X_train_scaled)\n",
    "t1 = time.time()\n",
    "print(\"Predicting on train set took {:.2f}s\".format(t1 - t0))\n",
    "accuracy_score(y_train, y_pred_poly)"
   ]
  },
  {
   "cell_type": "code",
   "execution_count": null,
   "metadata": {
    "colab": {
     "base_uri": "https://localhost:8080/"
    },
    "id": "e2TvneTqNKEX",
    "outputId": "54c175f3-6ddb-418e-be48-9caddb97c5d3"
   },
   "outputs": [
    {
     "name": "stdout",
     "output_type": "stream",
     "text": [
      "Predicting on validation set took 77.18s\n"
     ]
    },
    {
     "data": {
      "text/plain": [
       "0.9507142857142857"
      ]
     },
     "execution_count": 49,
     "metadata": {
      "tags": []
     },
     "output_type": "execute_result"
    }
   ],
   "source": [
    "# evaluating on validation set\n",
    "t0 = time.time()\n",
    "y_val_pred_poly = poly_svm_clf.predict(X_val_scaled)\n",
    "t1 = time.time()\n",
    "print(\"Predicting on validation set took {:.2f}s\".format(t1 - t0))\n",
    "accuracy_score(y_val, y_val_pred_poly)"
   ]
  },
  {
   "cell_type": "markdown",
   "metadata": {
    "id": "ELM7Pj3CqkcV"
   },
   "source": [
    "#### Scaling the data did not help this model(SVC(kernel='poly')) rather it made it worse.It also took a lot longer to train the model.Also took more time to make the predictions. \n",
    "\n",
    " It is unlikely that scaling will help SVM with rbf(Radial Basis Function) kernel. \n",
    " I checked it anyway (when I wasn't recording time) and found that scaling did not hep rbf either.\n",
    "\n",
    "Below is the code to check. **Warning**: It takes lot of time to check/run the cells below depending on the hardware obviously."
   ]
  },
  {
   "cell_type": "markdown",
   "metadata": {
    "id": "82NxQ1Z4NKEX"
   },
   "source": [
    "#### RBF SVC  -Scaled (without PCA)"
   ]
  },
  {
   "cell_type": "code",
   "execution_count": null,
   "metadata": {
    "colab": {
     "base_uri": "https://localhost:8080/"
    },
    "id": "Q6o3dmx3NKEY",
    "outputId": "2c810f99-d5f2-4dd3-f398-0d6f78256730"
   },
   "outputs": [
    {
     "data": {
      "text/plain": [
       "SVC(C=1.0, break_ties=False, cache_size=200, class_weight=None, coef0=0.0,\n",
       "    decision_function_shape='ovr', degree=3, gamma='scale', kernel='rbf',\n",
       "    max_iter=-1, probability=False, random_state=None, shrinking=True,\n",
       "    tol=0.001, verbose=False)"
      ]
     },
     "execution_count": 33,
     "metadata": {
      "tags": []
     },
     "output_type": "execute_result"
    }
   ],
   "source": [
    "t0 = time.time()\n",
    "rbf_svm_clf.fit(X_train_scaled, y_train)\n",
    "t1 = time.time()\n",
    "print(\"Training took {:.2f}s\".format(t1 - t0))"
   ]
  },
  {
   "cell_type": "code",
   "execution_count": null,
   "metadata": {
    "colab": {
     "base_uri": "https://localhost:8080/"
    },
    "id": "Og_rnGG4NKEY",
    "outputId": "026f5ce3-6053-4573-eb3d-ddaf1b0ae3f5"
   },
   "outputs": [
    {
     "data": {
      "text/plain": [
       "0.9849404761904762"
      ]
     },
     "execution_count": 34,
     "metadata": {
      "tags": []
     },
     "output_type": "execute_result"
    }
   ],
   "source": [
    "# evaluating on train set\n",
    "t0 = time.time()\n",
    "y_pred_rbf = rbf_svm_clf.predict(X_train_scaled)\n",
    "t1 = time.time()\n",
    "print(\"Predicting on train set took {:.2f}s\".format(t1 - t0))\n",
    "accuracy_score(y_train, y_pred_rbf)                                  ##  0.9849404761904762"
   ]
  },
  {
   "cell_type": "code",
   "execution_count": null,
   "metadata": {
    "colab": {
     "base_uri": "https://localhost:8080/"
    },
    "id": "1FwDPfIVNKEY",
    "outputId": "aa8e7a38-850a-48dd-ddbb-06f3c8bebb80"
   },
   "outputs": [
    {
     "data": {
      "text/plain": [
       "0.9614285714285714"
      ]
     },
     "execution_count": 35,
     "metadata": {
      "tags": []
     },
     "output_type": "execute_result"
    }
   ],
   "source": [
    "# evaluating on validation set\n",
    "t0 = time.time()\n",
    "y_val_pred_rbf = rbf_svm_clf.predict(X_val_scaled)\n",
    "t1 = time.time()\n",
    "print(\"Predicting on validation set took {:.2f}s\".format(t1 - t0))\n",
    "accuracy_score(y_val, y_val_pred_rbf)                               ##  0.9614285714285714"
   ]
  },
  {
   "cell_type": "markdown",
   "metadata": {
    "id": "E7IA98-QNKEY"
   },
   "source": [
    "##### Scaling the data did not help this model(SVC(kernel='rbf')) rather it made it worse.\n",
    "##### Lets scale the compressed dataset and see if scaling helps this one(compressed dataset)."
   ]
  },
  {
   "cell_type": "markdown",
   "metadata": {
    "id": "C72xWVAKgn10"
   },
   "source": [
    "#### Poly SVC  -Scaled (with/after PCA)"
   ]
  },
  {
   "cell_type": "code",
   "execution_count": null,
   "metadata": {
    "colab": {
     "base_uri": "https://localhost:8080/"
    },
    "id": "OM9G7SyJgpm2",
    "outputId": "370c281f-26da-4d2f-a348-2774bdbb7f55"
   },
   "outputs": [
    {
     "name": "stdout",
     "output_type": "stream",
     "text": [
      "Training took 1194.97s\n"
     ]
    }
   ],
   "source": [
    "t0 = time.time()\n",
    "poly_svm_clf.fit(X_train_pca_scaled, y_train)\n",
    "t1 = time.time()\n",
    "print(\"Training took {:.2f}s\".format(t1 - t0))    ##  Training took 1194.97s"
   ]
  },
  {
   "cell_type": "code",
   "execution_count": null,
   "metadata": {
    "colab": {
     "base_uri": "https://localhost:8080/"
    },
    "id": "R5aEZZVxgpiq",
    "outputId": "2cc54a44-4f8a-4c92-da73-3829e47d675b"
   },
   "outputs": [
    {
     "name": "stdout",
     "output_type": "stream",
     "text": [
      "Predicting on train set took 554.68s\n"
     ]
    },
    {
     "data": {
      "text/plain": [
       "0.9941666666666666"
      ]
     },
     "execution_count": 51,
     "metadata": {
      "tags": []
     },
     "output_type": "execute_result"
    }
   ],
   "source": [
    "# evaluating on train set\n",
    "t0 = time.time()\n",
    "y_pred_poly = poly_svm_clf.predict(X_train_pca_scaled)\n",
    "t1 = time.time()\n",
    "print(\"Predicting on train set took {:.2f}s\".format(t1 - t0))    ##  Predicting on train set took 554.68s\n",
    "accuracy_score(y_train, y_pred_poly)                             ##  0.9941666666666666"
   ]
  },
  {
   "cell_type": "code",
   "execution_count": null,
   "metadata": {
    "colab": {
     "base_uri": "https://localhost:8080/"
    },
    "id": "P81amoHwgpY8",
    "outputId": "fdaea7a0-0631-44f7-a1df-c735bf5c1249"
   },
   "outputs": [
    {
     "name": "stdout",
     "output_type": "stream",
     "text": [
      "Predicting on validation set took 69.28s\n"
     ]
    },
    {
     "data": {
      "text/plain": [
       "0.8926190476190476"
      ]
     },
     "execution_count": 52,
     "metadata": {
      "tags": []
     },
     "output_type": "execute_result"
    }
   ],
   "source": [
    "# evaluating on validation set\n",
    "t0 = time.time()\n",
    "y_val_pred_poly = poly_svm_clf.predict(X_val_pca_scaled)\n",
    "t1 = time.time()\n",
    "print(\"Predicting on validation set took {:.2f}s\".format(t1 - t0))     ##  Predicting on validation set took 69.28s\n",
    "accuracy_score(y_val, y_val_pred_poly)                                 ##  0.8926190476190476"
   ]
  },
  {
   "cell_type": "markdown",
   "metadata": {
    "id": "jkTreaRcuasr"
   },
   "source": [
    "### We have seen this behaviour before. This means scaling will not help rbf kernel model either."
   ]
  },
  {
   "cell_type": "markdown",
   "metadata": {
    "id": "wPHj6OPwuvMD"
   },
   "source": [
    "Warning: Following code takes a long time to run"
   ]
  },
  {
   "cell_type": "markdown",
   "metadata": {
    "id": "WG7OkgRShA-M"
   },
   "source": [
    "#### RBF SVC  -Scaled (with/after PCA)"
   ]
  },
  {
   "cell_type": "code",
   "execution_count": null,
   "metadata": {
    "id": "8ygQj_yGhGs1"
   },
   "outputs": [],
   "source": [
    "t0 = time.time()\n",
    "rbf_svm_clf.fit(X_train_pca_scaled, y_train)\n",
    "t1 = time.time()\n",
    "print(\"Training took {:.2f}s\".format(t1 - t0))"
   ]
  },
  {
   "cell_type": "code",
   "execution_count": null,
   "metadata": {
    "id": "hXLuzYGShOYl"
   },
   "outputs": [],
   "source": [
    "# evaluating on train set\n",
    "t0 = time.time()\n",
    "y_pred_rbf = rbf_svm_clf.predict(X_train_pca_scaled)\n",
    "t1 = time.time()\n",
    "print(\"Predicting on train set took {:.2f}s\".format(t1 - t0))\n",
    "accuracy_score(y_train, y_pred_rbf)"
   ]
  },
  {
   "cell_type": "code",
   "execution_count": null,
   "metadata": {
    "id": "1mzq3Fy4hOVm"
   },
   "outputs": [],
   "source": [
    "# evaluating on validation set\n",
    "t0 = time.time()\n",
    "y_val_pred_rbf = rbf_svm_clf.predict(X_val_pca_scaled)\n",
    "t1 = time.time()\n",
    "print(\"Predicting on validation set took {:.2f}s\".format(t1 - t0))\n",
    "accuracy_score(y_val, y_val_pred_rbf)"
   ]
  },
  {
   "cell_type": "markdown",
   "metadata": {
    "id": "VuAstTRHvF87"
   },
   "source": [
    "#### From the above steps we can draw some conclusions here.\n",
    "1. Scaling does not help here in any way. It reduces the performances of the models and takes longer time to train and predict.\n",
    "2. Linear SVC takes a long time to train but less time to predict. Performance of this model is a lot less than other models(poly,rbf kernels).\n",
    "3. Polynomial kernel SVM and RBF kernel SVM models, both show impressive performances on train set as well as validation set with acceptable amount of time taken to train and predict.\n",
    "4. Poly and RBF base models are good but perform better after dimensionality reduction i.e after applying PCA. Applying PCA also helped reduce time taken for training and predictions."
   ]
  },
  {
   "cell_type": "markdown",
   "metadata": {
    "id": "Q4avdyUjvFsQ"
   },
   "source": [
    "#### Poly model best performance(till now) on val set = 98.12 %\n",
    "#### RBF model best performance(till now) on val set = 97.98 %\n",
    "This may be good but we should try some different parameters for the models we have used to see if they can do better."
   ]
  },
  {
   "cell_type": "markdown",
   "metadata": {
    "id": "4TtYQyVG0DLj"
   },
   "source": [
    "## Hyperparameter Tuning"
   ]
  },
  {
   "cell_type": "markdown",
   "metadata": {
    "id": "aWieGrNE3dKT"
   },
   "source": [
    "### Poly SVM"
   ]
  },
  {
   "cell_type": "markdown",
   "metadata": {
    "id": "7GhynB_ZHC4U"
   },
   "source": [
    "#### We will use RandomSearchCV for this.It is as good as GridSeasrchCV and faster."
   ]
  },
  {
   "cell_type": "code",
   "execution_count": null,
   "metadata": {
    "id": "lmjVKMNM0C1o"
   },
   "outputs": [],
   "source": [
    "from sklearn.model_selection import RandomizedSearchCV"
   ]
  },
  {
   "cell_type": "code",
   "execution_count": null,
   "metadata": {
    "id": "eSMs4HkShXkj"
   },
   "outputs": [],
   "source": [
    "poly_param_grid = {\n",
    "    'degree': [2,3,4,5],\n",
    "    'C': [0.1,1,5,10],\n",
    "    'coef0': [0.5,1,2]            # controls how much the model is influenced by high-degree polynomials\n",
    "}"
   ]
  },
  {
   "cell_type": "code",
   "execution_count": null,
   "metadata": {
    "id": "RzXWvF1rhXoS"
   },
   "outputs": [],
   "source": [
    "poly_random_searchcv = RandomizedSearchCV(poly_svm_clf, poly_param_grid, n_iter=10, scoring='accuracy',cv=3, verbose = 1, n_jobs=-1, random_state=42, return_train_score=True)"
   ]
  },
  {
   "cell_type": "code",
   "execution_count": null,
   "metadata": {
    "colab": {
     "base_uri": "https://localhost:8080/"
    },
    "id": "qHOBg7YIhXeG",
    "outputId": "d16c0f8e-9747-4c44-d3f8-8af14a6cbce8"
   },
   "outputs": [
    {
     "name": "stdout",
     "output_type": "stream",
     "text": [
      "Fitting 3 folds for each of 10 candidates, totalling 30 fits\n"
     ]
    },
    {
     "name": "stderr",
     "output_type": "stream",
     "text": [
      "[Parallel(n_jobs=-1)]: Using backend LokyBackend with 2 concurrent workers.\n",
      "[Parallel(n_jobs=-1)]: Done  30 out of  30 | elapsed: 47.5min finished\n"
     ]
    },
    {
     "name": "stdout",
     "output_type": "stream",
     "text": [
      "Training took 3021.14s\n"
     ]
    }
   ],
   "source": [
    "t0 = time.time()\n",
    "poly_random_searchcv.fit(X_train_pca, y_train)\n",
    "t1 = time.time()\n",
    "print(\"Training took {:.2f}s\".format(t1 - t0))"
   ]
  },
  {
   "cell_type": "code",
   "execution_count": null,
   "metadata": {
    "colab": {
     "base_uri": "https://localhost:8080/"
    },
    "id": "LsF3MKgYKZ-y",
    "outputId": "16fe965f-801f-481c-9bbe-9112e347a76d"
   },
   "outputs": [
    {
     "data": {
      "text/plain": [
       "SVC(C=5, break_ties=False, cache_size=200, class_weight=None, coef0=0.5,\n",
       "    decision_function_shape='ovr', degree=5, gamma='scale', kernel='poly',\n",
       "    max_iter=-1, probability=False, random_state=None, shrinking=True,\n",
       "    tol=0.001, verbose=False)"
      ]
     },
     "execution_count": 62,
     "metadata": {
      "tags": []
     },
     "output_type": "execute_result"
    }
   ],
   "source": [
    "poly_random_searchcv.best_estimator_"
   ]
  },
  {
   "cell_type": "code",
   "execution_count": null,
   "metadata": {
    "colab": {
     "base_uri": "https://localhost:8080/"
    },
    "id": "P9PwUcGJL1cX",
    "outputId": "cd7fad21-7737-486c-91e0-deae47a38dfd"
   },
   "outputs": [
    {
     "data": {
      "text/plain": [
       "0.9789285714285714"
      ]
     },
     "execution_count": 68,
     "metadata": {
      "tags": []
     },
     "output_type": "execute_result"
    }
   ],
   "source": [
    "poly_random_searchcv.best_score_"
   ]
  },
  {
   "cell_type": "code",
   "execution_count": null,
   "metadata": {
    "colab": {
     "base_uri": "https://localhost:8080/"
    },
    "id": "TC7S44YehXbg",
    "outputId": "438cb05e-d771-4049-95ca-0ef72f4dfe86"
   },
   "outputs": [
    {
     "name": "stdout",
     "output_type": "stream",
     "text": [
      "Predicting on train set took 22.97s\n"
     ]
    },
    {
     "data": {
      "text/plain": [
       "0.9828571428571429"
      ]
     },
     "execution_count": 65,
     "metadata": {
      "tags": []
     },
     "output_type": "execute_result"
    }
   ],
   "source": [
    "# evaluating on train set\n",
    "t0 = time.time()\n",
    "y_val_pred_poly = poly_random_searchcv.best_estimator_.predict(X_val_pca)\n",
    "t1 = time.time()\n",
    "print(\"Predicting on train set took {:.2f}s\".format(t1 - t0))\n",
    "accuracy_score(y_val, y_val_pred_poly) "
   ]
  },
  {
   "cell_type": "markdown",
   "metadata": {
    "id": "gUv6BlpA3jcI"
   },
   "source": [
    "### RBF SVM"
   ]
  },
  {
   "cell_type": "markdown",
   "metadata": {
    "id": "rat9ofcm3np9"
   },
   "source": [
    "It takes hours to run the cells below !!!"
   ]
  },
  {
   "cell_type": "code",
   "execution_count": null,
   "metadata": {
    "id": "6ysqPRl67ZbE"
   },
   "outputs": [],
   "source": [
    "rbf_param_grid = {\n",
    "    'gamma': [1, 0.1, 0.01, 0.001],\n",
    "    'C': [0.1, 1, 10, 100]\n",
    "}"
   ]
  },
  {
   "cell_type": "code",
   "execution_count": null,
   "metadata": {
    "id": "jIFKDN7BhXYG"
   },
   "outputs": [],
   "source": [
    "rbf_random_searchcv = RandomizedSearchCV(rbf_svm_clf, rbf_param_grid, n_iter=10, scoring='accuracy',cv=3, verbose = 2, n_jobs=-1, random_state=42, return_train_score=True)"
   ]
  },
  {
   "cell_type": "code",
   "execution_count": null,
   "metadata": {
    "id": "f5vg3o4zhXU3"
   },
   "outputs": [],
   "source": [
    "t0 = time.time()\n",
    "rbf_random_searchcv.fit(X_train_pca, y_train)\n",
    "t1 = time.time()\n",
    "print(\"Training took {:.2f}s\".format(t1 - t0))"
   ]
  },
  {
   "cell_type": "code",
   "execution_count": null,
   "metadata": {
    "id": "STuQWltWhXSC"
   },
   "outputs": [],
   "source": [
    "rbf_random_searchcv.best_estimator_"
   ]
  },
  {
   "cell_type": "code",
   "execution_count": null,
   "metadata": {
    "id": "BPwsCYPwhXNp"
   },
   "outputs": [],
   "source": [
    "# evaluating on train set\n",
    "t0 = time.time()\n",
    "y_val_pred_rbf = rbf_random_searchcv.best_estimator_.predict(X_val_pca)\n",
    "t1 = time.time()\n",
    "print(\"Predicting on train set took {:.2f}s\".format(t1 - t0))\n",
    "accuracy_score(y_val, y_val_pred_rbf) "
   ]
  },
  {
   "cell_type": "markdown",
   "metadata": {
    "id": "bwV7BT3R3zdf"
   },
   "source": [
    "### The RBF SVM hyperparameter tuning takes hours to complete. Anyway POLY SVM has performed a little better than RBF SVM in many of the cases seen above. So we will continue hyperparameter tuning only for POLY SVM."
   ]
  },
  {
   "cell_type": "markdown",
   "metadata": {
    "id": "ZKKaZ5MC5I9A"
   },
   "source": [
    "## Continue Hyperparameter tuning for POLY SVM"
   ]
  },
  {
   "cell_type": "markdown",
   "metadata": {
    "id": "-xENHhOD5kli"
   },
   "source": [
    "Performance has increased with increase in 'degree' parameter i.e polynomial features created from original feautres help. Lets check for higher order polynomials."
   ]
  },
  {
   "cell_type": "code",
   "execution_count": null,
   "metadata": {
    "id": "1ZNriaaD4-dB"
   },
   "outputs": [],
   "source": [
    "poly_param_grid2 = {\n",
    "    'degree': [6,7],\n",
    "    'C': [1,5,10],\n",
    "    'coef0': [0.25,0.5,1]\n",
    "}"
   ]
  },
  {
   "cell_type": "code",
   "execution_count": null,
   "metadata": {
    "id": "FmtF4Jdo8gfG"
   },
   "outputs": [],
   "source": [
    "poly_random_searchcv = RandomizedSearchCV(poly_svm_clf, poly_param_grid2, n_iter=10, scoring='accuracy',cv=3, verbose = 2, n_jobs=-1, random_state=42, return_train_score=True)"
   ]
  },
  {
   "cell_type": "code",
   "execution_count": null,
   "metadata": {
    "colab": {
     "base_uri": "https://localhost:8080/"
    },
    "id": "G-I8971G9XzL",
    "outputId": "592c04f5-0bf9-428b-df15-717a2d3a537a"
   },
   "outputs": [
    {
     "name": "stdout",
     "output_type": "stream",
     "text": [
      "Fitting 3 folds for each of 10 candidates, totalling 30 fits\n"
     ]
    },
    {
     "name": "stderr",
     "output_type": "stream",
     "text": [
      "[Parallel(n_jobs=-1)]: Using backend LokyBackend with 2 concurrent workers.\n",
      "[Parallel(n_jobs=-1)]: Done  30 out of  30 | elapsed: 86.8min finished\n"
     ]
    },
    {
     "name": "stdout",
     "output_type": "stream",
     "text": [
      "Training took 5339.86s\n"
     ]
    }
   ],
   "source": [
    "t0 = time.time()\n",
    "poly_random_searchcv.fit(X_train_pca, y_train)\n",
    "t1 = time.time()\n",
    "print(\"Training took {:.2f}s\".format(t1 - t0))"
   ]
  },
  {
   "cell_type": "code",
   "execution_count": null,
   "metadata": {
    "colab": {
     "base_uri": "https://localhost:8080/"
    },
    "id": "DuQHGUXG9mSu",
    "outputId": "f7c76706-4390-4857-8498-82ea685fafdc"
   },
   "outputs": [
    {
     "data": {
      "text/plain": [
       "SVC(C=10, break_ties=False, cache_size=200, class_weight=None, coef0=1,\n",
       "    decision_function_shape='ovr', degree=6, gamma='scale', kernel='poly',\n",
       "    max_iter=-1, probability=False, random_state=None, shrinking=True,\n",
       "    tol=0.001, verbose=False)"
      ]
     },
     "execution_count": 76,
     "metadata": {
      "tags": []
     },
     "output_type": "execute_result"
    }
   ],
   "source": [
    "poly_random_searchcv.best_estimator_"
   ]
  },
  {
   "cell_type": "code",
   "execution_count": null,
   "metadata": {
    "colab": {
     "base_uri": "https://localhost:8080/"
    },
    "id": "ZlFxRQs-9sUk",
    "outputId": "768e810f-31d4-4030-9bb5-7136e083405d"
   },
   "outputs": [
    {
     "data": {
      "text/plain": [
       "0.9782738095238095"
      ]
     },
     "execution_count": 77,
     "metadata": {
      "tags": []
     },
     "output_type": "execute_result"
    }
   ],
   "source": [
    "poly_random_searchcv.best_score_"
   ]
  },
  {
   "cell_type": "code",
   "execution_count": null,
   "metadata": {
    "colab": {
     "base_uri": "https://localhost:8080/"
    },
    "id": "9taeNbti9u-g",
    "outputId": "0f7fd779-ec40-42ac-eece-65e933490580"
   },
   "outputs": [
    {
     "name": "stdout",
     "output_type": "stream",
     "text": [
      "Predicting on train set took 20.56s\n"
     ]
    },
    {
     "data": {
      "text/plain": [
       "0.9835714285714285"
      ]
     },
     "execution_count": 78,
     "metadata": {
      "tags": []
     },
     "output_type": "execute_result"
    }
   ],
   "source": [
    "# evaluating on train set\n",
    "t0 = time.time()\n",
    "y_val_pred_poly = poly_random_searchcv.best_estimator_.predict(X_val_pca)\n",
    "t1 = time.time()\n",
    "print(\"Predicting on train set took {:.2f}s\".format(t1 - t0))\n",
    "accuracy_score(y_val, y_val_pred_poly) "
   ]
  },
  {
   "cell_type": "markdown",
   "metadata": {
    "id": "sf59VbGHXBdx"
   },
   "source": [
    "The best estimator from above training has 'degree' = 6, 'C' = 10, 'coef0' = 1 as its parameters.Higher values of C and coef0 may help but the computations takes a lot of time. So we will stop here and take this estimator as our final model."
   ]
  },
  {
   "cell_type": "code",
   "execution_count": null,
   "metadata": {
    "id": "sy3HdhCvYDFS"
   },
   "outputs": [],
   "source": [
    "final_model = poly_random_searchcv.best_estimator_"
   ]
  },
  {
   "cell_type": "code",
   "execution_count": null,
   "metadata": {
    "id": "qu_IJ01q9x-2"
   },
   "outputs": [],
   "source": [
    "from sklearn.metrics import confusion_matrix, classification_report"
   ]
  },
  {
   "cell_type": "code",
   "execution_count": null,
   "metadata": {
    "colab": {
     "base_uri": "https://localhost:8080/"
    },
    "id": "uSrTXsQiXrlt",
    "outputId": "088f25f7-2655-458c-ef25-91b8565b49f5"
   },
   "outputs": [
    {
     "data": {
      "text/plain": [
       "array([[433,   0,   0,   0,   0,   0,   0,   0,   1,   1],\n",
       "       [  0, 429,   1,   0,   1,   0,   0,   1,   1,   0],\n",
       "       [  1,   2, 432,   1,   0,   1,   0,   1,   0,   0],\n",
       "       [  0,   0,   2, 396,   0,   6,   0,   1,   1,   2],\n",
       "       [  0,   0,   1,   0, 394,   0,   3,   1,   0,   4],\n",
       "       [  0,   0,   0,   3,   0, 380,   1,   0,   0,   1],\n",
       "       [  2,   0,   0,   0,   2,   0, 442,   0,   0,   0],\n",
       "       [  0,   1,   2,   0,   0,   0,   0, 464,   0,   7],\n",
       "       [  1,   0,   1,   0,   0,   1,   1,   1, 379,   1],\n",
       "       [  2,   1,   0,   0,   2,   1,   0,   4,   1, 382]])"
      ]
     },
     "execution_count": 80,
     "metadata": {
      "tags": []
     },
     "output_type": "execute_result"
    }
   ],
   "source": [
    "confusion_matrix(y_val, y_val_pred_poly)"
   ]
  },
  {
   "cell_type": "code",
   "execution_count": null,
   "metadata": {
    "colab": {
     "base_uri": "https://localhost:8080/"
    },
    "id": "5tCBM3OjX5uR",
    "outputId": "f397105b-5563-426d-c5b2-a7b8c29bbe0d"
   },
   "outputs": [
    {
     "name": "stdout",
     "output_type": "stream",
     "text": [
      "              precision    recall  f1-score   support\n",
      "\n",
      "           0       0.99      1.00      0.99       435\n",
      "           1       0.99      0.99      0.99       433\n",
      "           2       0.98      0.99      0.99       438\n",
      "           3       0.99      0.97      0.98       408\n",
      "           4       0.99      0.98      0.98       403\n",
      "           5       0.98      0.99      0.98       385\n",
      "           6       0.99      0.99      0.99       446\n",
      "           7       0.98      0.98      0.98       474\n",
      "           8       0.99      0.98      0.99       385\n",
      "           9       0.96      0.97      0.97       393\n",
      "\n",
      "    accuracy                           0.98      4200\n",
      "   macro avg       0.98      0.98      0.98      4200\n",
      "weighted avg       0.98      0.98      0.98      4200\n",
      "\n"
     ]
    }
   ],
   "source": [
    "print(classification_report(y_val, y_val_pred_poly))"
   ]
  },
  {
   "cell_type": "code",
   "execution_count": null,
   "metadata": {
    "id": "_Ei_brXAZFra"
   },
   "outputs": [],
   "source": [
    "import joblib\n",
    "import pickle"
   ]
  },
  {
   "cell_type": "code",
   "execution_count": null,
   "metadata": {
    "id": "k8W6-07uZtxN"
   },
   "outputs": [],
   "source": [
    "filename = 'finalized_digits_svm_model.sav'\n",
    "pickle.dump(final_model, open(filename, 'wb'))"
   ]
  },
  {
   "cell_type": "markdown",
   "metadata": {
    "id": "Ug51DRgZF8sn"
   },
   "source": [
    "### We have created our model(final) and saved. Lets load it and check its performance on the test dataset(unseen data)"
   ]
  },
  {
   "cell_type": "code",
   "execution_count": null,
   "metadata": {
    "id": "viXqEefQadu0"
   },
   "outputs": [],
   "source": [
    "filename = 'finalized_digits_svm_model.sav'\n",
    "loaded_model = joblib.load('/content/drive/MyDrive/finalized_digits_svm_model.sav')\n",
    "result = loaded_model.score(X_test_pca, y_test)"
   ]
  },
  {
   "cell_type": "code",
   "execution_count": null,
   "metadata": {
    "colab": {
     "base_uri": "https://localhost:8080/"
    },
    "id": "IRJSlLzpbRWK",
    "outputId": "63df5061-cb9e-4700-e936-3a7616ddd0ff"
   },
   "outputs": [
    {
     "data": {
      "text/plain": [
       "0.9809523809523809"
      ]
     },
     "execution_count": 59,
     "metadata": {
      "tags": []
     },
     "output_type": "execute_result"
    }
   ],
   "source": [
    "result"
   ]
  },
  {
   "cell_type": "code",
   "execution_count": null,
   "metadata": {
    "colab": {
     "base_uri": "https://localhost:8080/"
    },
    "id": "1eZw5oeCbXm3",
    "outputId": "abfcf2e0-b5cf-455d-ea0f-a49f0228183f"
   },
   "outputs": [
    {
     "data": {
      "text/plain": [
       "0.9809523809523809"
      ]
     },
     "execution_count": 60,
     "metadata": {
      "tags": []
     },
     "output_type": "execute_result"
    }
   ],
   "source": [
    "y_test_pred = loaded_model.predict(X_test_pca)\n",
    "accuracy_score(y_test, y_test_pred)"
   ]
  },
  {
   "cell_type": "code",
   "execution_count": null,
   "metadata": {
    "colab": {
     "base_uri": "https://localhost:8080/"
    },
    "id": "W3WnhfTKnbAo",
    "outputId": "e87bad10-3c6c-461d-e33f-d73ab090bb3e"
   },
   "outputs": [
    {
     "data": {
      "text/plain": [
       "array([[404,   0,   0,   1,   1,   0,   1,   0,   1,   0],\n",
       "       [  0, 469,   0,   0,   0,   0,   1,   1,   0,   0],\n",
       "       [  1,   0, 409,   0,   4,   0,   0,   2,   3,   1],\n",
       "       [  0,   0,   2, 493,   0,   5,   0,   2,   2,   2],\n",
       "       [  0,   0,   0,   0, 389,   1,   1,   0,   0,   6],\n",
       "       [  0,   0,   0,   5,   0, 332,   0,   0,   0,   2],\n",
       "       [  1,   0,   0,   0,   0,   1, 397,   0,   3,   0],\n",
       "       [  0,   2,   2,   0,   2,   0,   0, 428,   1,   3],\n",
       "       [  0,   0,   1,   2,   2,   1,   0,   1, 396,   0],\n",
       "       [  0,   0,   1,   3,   3,   0,   0,   5,   1, 403]])"
      ]
     },
     "execution_count": 63,
     "metadata": {
      "tags": []
     },
     "output_type": "execute_result"
    }
   ],
   "source": [
    "conf_mat = confusion_matrix(y_test, y_test_pred)\n",
    "conf_mat"
   ]
  },
  {
   "cell_type": "code",
   "execution_count": null,
   "metadata": {
    "colab": {
     "base_uri": "https://localhost:8080/",
     "height": 292
    },
    "id": "mcLojgd5n4Np",
    "outputId": "669f7264-9a27-43c4-9eff-1482917eee79"
   },
   "outputs": [
    {
     "data": {
      "text/plain": [
       "<Figure size 720x720 with 0 Axes>"
      ]
     },
     "metadata": {
      "tags": []
     },
     "output_type": "display_data"
    },
    {
     "data": {
      "image/png": "[encoded data removed]",
      "text/plain": [
       "<Figure size 288x288 with 1 Axes>"
      ]
     },
     "metadata": {
      "needs_background": "light",
      "tags": []
     },
     "output_type": "display_data"
    }
   ],
   "source": [
    "plt.figure(figsize = (10,10))\n",
    "plt.matshow(conf_mat, cmap = plt.cm.gray)\n",
    "plt.show()"
   ]
  },
  {
   "cell_type": "code",
   "execution_count": null,
   "metadata": {
    "colab": {
     "base_uri": "https://localhost:8080/",
     "height": 281
    },
    "id": "Tml4zk1TIV1x",
    "outputId": "75d48ca6-1dfd-4848-fb6f-51a6f6e81723"
   },
   "outputs": [
    {
     "data": {
      "image/png": "[encoded data removed]",
      "text/plain": [
       "<Figure size 432x288 with 2 Axes>"
      ]
     },
     "metadata": {
      "needs_background": "light",
      "tags": []
     },
     "output_type": "display_data"
    }
   ],
   "source": [
    "import seaborn as sns\n",
    "plt.title('Confusion matrix for our final model on test set')\n",
    "sns.heatmap(conf_mat, annot=True, cmap=\"YlGnBu\")\n",
    "plt.show()"
   ]
  },
  {
   "cell_type": "code",
   "execution_count": null,
   "metadata": {
    "colab": {
     "base_uri": "https://localhost:8080/"
    },
    "id": "p8U4TexsoE3v",
    "outputId": "9cdc9e4d-39bb-4a23-e2f6-aa7cdf9b4f5f"
   },
   "outputs": [
    {
     "name": "stdout",
     "output_type": "stream",
     "text": [
      "              precision    recall  f1-score   support\n",
      "\n",
      "           0       1.00      0.99      0.99       408\n",
      "           1       1.00      1.00      1.00       471\n",
      "           2       0.99      0.97      0.98       420\n",
      "           3       0.98      0.97      0.98       506\n",
      "           4       0.97      0.98      0.97       397\n",
      "           5       0.98      0.98      0.98       339\n",
      "           6       0.99      0.99      0.99       402\n",
      "           7       0.97      0.98      0.98       438\n",
      "           8       0.97      0.98      0.98       403\n",
      "           9       0.97      0.97      0.97       416\n",
      "\n",
      "    accuracy                           0.98      4200\n",
      "   macro avg       0.98      0.98      0.98      4200\n",
      "weighted avg       0.98      0.98      0.98      4200\n",
      "\n"
     ]
    }
   ],
   "source": [
    "print(classification_report(y_test, y_test_pred))"
   ]
  },
  {
   "cell_type": "markdown",
   "metadata": {
    "id": "-6roJMgmEWh4"
   },
   "source": [
    "## So the accuracy of our model on the unseen data is (** 98.1% **). This is actually a good performance by our model.\n",
    "### Precision and Recall scores for all the classes are good resulting in a good F1-score too."
   ]
  },
  {
   "cell_type": "markdown",
   "metadata": {
    "id": "lVo_xEdkFZlV"
   },
   "source": [
    "## Below is pipeline for predicting on the compressed data after loading the model and also another pipeline that will train our model from scratch and be ready for the predictions."
   ]
  },
  {
   "cell_type": "code",
   "execution_count": null,
   "metadata": {
    "id": "GXFzTA731ONV"
   },
   "outputs": [],
   "source": [
    "from sklearn.pipeline import Pipeline"
   ]
  },
  {
   "cell_type": "code",
   "execution_count": null,
   "metadata": {
    "id": "jjXoW30_1hVQ"
   },
   "outputs": [],
   "source": [
    "pipeline1 = Pipeline([\n",
    "                     ('PCA', pca),\n",
    "                     ('model', loaded_model)\n",
    "])                                          ## This pipeline will directly do the predictions as its estimators have already been trained."
   ]
  },
  {
   "cell_type": "code",
   "execution_count": null,
   "metadata": {
    "id": "vTscK6dBBp1D"
   },
   "outputs": [],
   "source": []
  },
  {
   "cell_type": "code",
   "execution_count": null,
   "metadata": {
    "id": "Dmzhkjql3XF2"
   },
   "outputs": [],
   "source": [
    "pipeline2 = Pipeline([\n",
    "                      ('PCA', PCA(n_components=0.99)),\n",
    "                      ('SVC', SVC(kernel='poly', degree=6, C = 10, coef0=1))\n",
    "])                      ## This pipeline will train your data and then be ready for predictions.\n",
    "pipeline2.fit(X_train, y_train)\n",
    "pipeline2.score(X_val, y_val)"
   ]
  },
  {
   "cell_type": "code",
   "execution_count": null,
   "metadata": {
    "id": "Xtd-Ac3D3pL7"
   },
   "outputs": [],
   "source": []
  }
 ],
 "metadata": {
  "colab": {
   "collapsed_sections": [],
   "name": "Copy of ML-MAJOR-MAY.ipynb",
   "provenance": []
  },
  "kernelspec": {
   "display_name": "Python 3",
   "language": "python",
   "name": "python3"
  },
  "language_info": {
   "codemirror_mode": {
    "name": "ipython",
    "version": 3
   },
   "file_extension": ".py",
   "mimetype": "text/x-python",
   "name": "python",
   "nbconvert_exporter": "python",
   "pygments_lexer": "ipython3",
   "version": "3.8.3"
  }
 },
 "nbformat": 4,
 "nbformat_minor": 1
}
