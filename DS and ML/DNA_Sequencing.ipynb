{
 "cells": [
  {
   "cell_type": "code",
   "execution_count": 1,
   "metadata": {},
   "outputs": [],
   "source": [
    "import numpy as np\n",
    "import pandas as pd\n",
    "import matplotlib.pyplot as plt"
   ]
  },
  {
   "cell_type": "code",
   "execution_count": 2,
   "metadata": {
    "scrolled": true
   },
   "outputs": [
    {
     "data": {
      "text/html": [
       "<div>\n",
       "<style scoped>\n",
       "    .dataframe tbody tr th:only-of-type {\n",
       "        vertical-align: middle;\n",
       "    }\n",
       "\n",
       "    .dataframe tbody tr th {\n",
       "        vertical-align: top;\n",
       "    }\n",
       "\n",
       "    .dataframe thead th {\n",
       "        text-align: right;\n",
       "    }\n",
       "</style>\n",
       "<table border=\"1\" class=\"dataframe\">\n",
       "  <thead>\n",
       "    <tr style=\"text-align: right;\">\n",
       "      <th></th>\n",
       "      <th>sequence</th>\n",
       "      <th>class</th>\n",
       "    </tr>\n",
       "  </thead>\n",
       "  <tbody>\n",
       "    <tr>\n",
       "      <th>0</th>\n",
       "      <td>ATGCCCCAACTAAATACTACCGTATGGCCCACCATAATTACCCCCA...</td>\n",
       "      <td>4</td>\n",
       "    </tr>\n",
       "    <tr>\n",
       "      <th>1</th>\n",
       "      <td>ATGAACGAAAATCTGTTCGCTTCATTCATTGCCCCCACAATCCTAG...</td>\n",
       "      <td>4</td>\n",
       "    </tr>\n",
       "    <tr>\n",
       "      <th>2</th>\n",
       "      <td>ATGTGTGGCATTTGGGCGCTGTTTGGCAGTGATGATTGCCTTTCTG...</td>\n",
       "      <td>3</td>\n",
       "    </tr>\n",
       "    <tr>\n",
       "      <th>3</th>\n",
       "      <td>ATGTGTGGCATTTGGGCGCTGTTTGGCAGTGATGATTGCCTTTCTG...</td>\n",
       "      <td>3</td>\n",
       "    </tr>\n",
       "    <tr>\n",
       "      <th>4</th>\n",
       "      <td>ATGCAACAGCATTTTGAATTTGAATACCAGACCAAAGTGGATGGTG...</td>\n",
       "      <td>3</td>\n",
       "    </tr>\n",
       "  </tbody>\n",
       "</table>\n",
       "</div>"
      ],
      "text/plain": [
       "                                            sequence  class\n",
       "0  ATGCCCCAACTAAATACTACCGTATGGCCCACCATAATTACCCCCA...      4\n",
       "1  ATGAACGAAAATCTGTTCGCTTCATTCATTGCCCCCACAATCCTAG...      4\n",
       "2  ATGTGTGGCATTTGGGCGCTGTTTGGCAGTGATGATTGCCTTTCTG...      3\n",
       "3  ATGTGTGGCATTTGGGCGCTGTTTGGCAGTGATGATTGCCTTTCTG...      3\n",
       "4  ATGCAACAGCATTTTGAATTTGAATACCAGACCAAAGTGGATGGTG...      3"
      ]
     },
     "execution_count": 2,
     "metadata": {},
     "output_type": "execute_result"
    }
   ],
   "source": [
    "# load in the data\n",
    "df_human = pd.read_table('human_data.txt')\n",
    "df_human.head()"
   ]
  },
  {
   "cell_type": "code",
   "execution_count": 3,
   "metadata": {},
   "outputs": [
    {
     "data": {
      "text/plain": [
       "(4380, 2)"
      ]
     },
     "execution_count": 3,
     "metadata": {},
     "output_type": "execute_result"
    }
   ],
   "source": [
    "df_human.shape"
   ]
  },
  {
   "cell_type": "code",
   "execution_count": 4,
   "metadata": {},
   "outputs": [
    {
     "data": {
      "text/html": [
       "<div>\n",
       "<style scoped>\n",
       "    .dataframe tbody tr th:only-of-type {\n",
       "        vertical-align: middle;\n",
       "    }\n",
       "\n",
       "    .dataframe tbody tr th {\n",
       "        vertical-align: top;\n",
       "    }\n",
       "\n",
       "    .dataframe thead th {\n",
       "        text-align: right;\n",
       "    }\n",
       "</style>\n",
       "<table border=\"1\" class=\"dataframe\">\n",
       "  <thead>\n",
       "    <tr style=\"text-align: right;\">\n",
       "      <th></th>\n",
       "      <th>sequence</th>\n",
       "      <th>class</th>\n",
       "    </tr>\n",
       "  </thead>\n",
       "  <tbody>\n",
       "    <tr>\n",
       "      <th>0</th>\n",
       "      <td>ATGCCCCAACTAAATACCGCCGTATGACCCACCATAATTACCCCCA...</td>\n",
       "      <td>4</td>\n",
       "    </tr>\n",
       "    <tr>\n",
       "      <th>1</th>\n",
       "      <td>ATGAACGAAAATCTATTCGCTTCATTCGCTGCCCCCACAATCCTAG...</td>\n",
       "      <td>4</td>\n",
       "    </tr>\n",
       "    <tr>\n",
       "      <th>2</th>\n",
       "      <td>ATGGCCTCGCGCTGGTGGCGGTGGCGACGCGGCTGCTCCTGGAGGC...</td>\n",
       "      <td>4</td>\n",
       "    </tr>\n",
       "    <tr>\n",
       "      <th>3</th>\n",
       "      <td>ATGGCCTCGCGCTGGTGGCGGTGGCGACGCGGCTGCTCCTGGAGGC...</td>\n",
       "      <td>4</td>\n",
       "    </tr>\n",
       "    <tr>\n",
       "      <th>4</th>\n",
       "      <td>ATGGGCAGCGCCAGCCCGGGTCTGAGCAGCGTGTCCCCCAGCCACC...</td>\n",
       "      <td>6</td>\n",
       "    </tr>\n",
       "  </tbody>\n",
       "</table>\n",
       "</div>"
      ],
      "text/plain": [
       "                                            sequence  class\n",
       "0  ATGCCCCAACTAAATACCGCCGTATGACCCACCATAATTACCCCCA...      4\n",
       "1  ATGAACGAAAATCTATTCGCTTCATTCGCTGCCCCCACAATCCTAG...      4\n",
       "2  ATGGCCTCGCGCTGGTGGCGGTGGCGACGCGGCTGCTCCTGGAGGC...      4\n",
       "3  ATGGCCTCGCGCTGGTGGCGGTGGCGACGCGGCTGCTCCTGGAGGC...      4\n",
       "4  ATGGGCAGCGCCAGCCCGGGTCTGAGCAGCGTGTCCCCCAGCCACC...      6"
      ]
     },
     "execution_count": 4,
     "metadata": {},
     "output_type": "execute_result"
    }
   ],
   "source": [
    "df_chimp = pd.read_table('chimp_data.txt')\n",
    "df_chimp.head()"
   ]
  },
  {
   "cell_type": "code",
   "execution_count": 5,
   "metadata": {},
   "outputs": [
    {
     "data": {
      "text/plain": [
       "(1682, 2)"
      ]
     },
     "execution_count": 5,
     "metadata": {},
     "output_type": "execute_result"
    }
   ],
   "source": [
    "df_chimp.shape"
   ]
  },
  {
   "cell_type": "code",
   "execution_count": 6,
   "metadata": {},
   "outputs": [
    {
     "data": {
      "text/html": [
       "<div>\n",
       "<style scoped>\n",
       "    .dataframe tbody tr th:only-of-type {\n",
       "        vertical-align: middle;\n",
       "    }\n",
       "\n",
       "    .dataframe tbody tr th {\n",
       "        vertical-align: top;\n",
       "    }\n",
       "\n",
       "    .dataframe thead th {\n",
       "        text-align: right;\n",
       "    }\n",
       "</style>\n",
       "<table border=\"1\" class=\"dataframe\">\n",
       "  <thead>\n",
       "    <tr style=\"text-align: right;\">\n",
       "      <th></th>\n",
       "      <th>sequence</th>\n",
       "      <th>class</th>\n",
       "    </tr>\n",
       "  </thead>\n",
       "  <tbody>\n",
       "    <tr>\n",
       "      <th>0</th>\n",
       "      <td>ATGCCACAGCTAGATACATCCACCTGATTTATTATAATCTTTTCAA...</td>\n",
       "      <td>4</td>\n",
       "    </tr>\n",
       "    <tr>\n",
       "      <th>1</th>\n",
       "      <td>ATGAACGAAAATCTATTCGCTTCTTTCGCTGCCCCCTCAATAATAG...</td>\n",
       "      <td>4</td>\n",
       "    </tr>\n",
       "    <tr>\n",
       "      <th>2</th>\n",
       "      <td>ATGGAAACACCCTTCTACGGCGATGAGGCGCTGAGCGGCCTGGGCG...</td>\n",
       "      <td>6</td>\n",
       "    </tr>\n",
       "    <tr>\n",
       "      <th>3</th>\n",
       "      <td>ATGTGCACTAAAATGGAACAGCCCTTCTACCACGACGACTCATACG...</td>\n",
       "      <td>6</td>\n",
       "    </tr>\n",
       "    <tr>\n",
       "      <th>4</th>\n",
       "      <td>ATGAGCCGGCAGCTAAACAGAAGCCAGAACTGCTCCTTCAGTGACG...</td>\n",
       "      <td>0</td>\n",
       "    </tr>\n",
       "  </tbody>\n",
       "</table>\n",
       "</div>"
      ],
      "text/plain": [
       "                                            sequence  class\n",
       "0  ATGCCACAGCTAGATACATCCACCTGATTTATTATAATCTTTTCAA...      4\n",
       "1  ATGAACGAAAATCTATTCGCTTCTTTCGCTGCCCCCTCAATAATAG...      4\n",
       "2  ATGGAAACACCCTTCTACGGCGATGAGGCGCTGAGCGGCCTGGGCG...      6\n",
       "3  ATGTGCACTAAAATGGAACAGCCCTTCTACCACGACGACTCATACG...      6\n",
       "4  ATGAGCCGGCAGCTAAACAGAAGCCAGAACTGCTCCTTCAGTGACG...      0"
      ]
     },
     "execution_count": 6,
     "metadata": {},
     "output_type": "execute_result"
    }
   ],
   "source": [
    "df_dog = pd.read_table('dog_data.txt')\n",
    "df_dog.head()"
   ]
  },
  {
   "cell_type": "code",
   "execution_count": 7,
   "metadata": {},
   "outputs": [
    {
     "data": {
      "text/plain": [
       "(820, 2)"
      ]
     },
     "execution_count": 7,
     "metadata": {},
     "output_type": "execute_result"
    }
   ],
   "source": [
    "df_dog.shape"
   ]
  },
  {
   "cell_type": "markdown",
   "metadata": {},
   "source": [
    "#### Will be treating DNA sequence as 'language' , using *k-mer counting*"
   ]
  },
  {
   "cell_type": "code",
   "execution_count": 8,
   "metadata": {},
   "outputs": [],
   "source": [
    "# create a function to collect or generate the possible k-mers from the sequence or string\n",
    "def getKemers(sequence, size = 6):     # Lets use 6 as adefault size for k-mers\n",
    "    return [sequence[i:i+size].lower() for i in range(len(sequence)-size+1)]"
   ]
  },
  {
   "cell_type": "code",
   "execution_count": 9,
   "metadata": {},
   "outputs": [],
   "source": [
    "# add the k-mers to the dataframe\n",
    "df_human['words'] = df_human.apply(lambda x: getKemers(x['sequence']), axis=1)"
   ]
  },
  {
   "cell_type": "code",
   "execution_count": 10,
   "metadata": {},
   "outputs": [
    {
     "data": {
      "text/html": [
       "<div>\n",
       "<style scoped>\n",
       "    .dataframe tbody tr th:only-of-type {\n",
       "        vertical-align: middle;\n",
       "    }\n",
       "\n",
       "    .dataframe tbody tr th {\n",
       "        vertical-align: top;\n",
       "    }\n",
       "\n",
       "    .dataframe thead th {\n",
       "        text-align: right;\n",
       "    }\n",
       "</style>\n",
       "<table border=\"1\" class=\"dataframe\">\n",
       "  <thead>\n",
       "    <tr style=\"text-align: right;\">\n",
       "      <th></th>\n",
       "      <th>sequence</th>\n",
       "      <th>class</th>\n",
       "      <th>words</th>\n",
       "    </tr>\n",
       "  </thead>\n",
       "  <tbody>\n",
       "    <tr>\n",
       "      <th>0</th>\n",
       "      <td>ATGCCCCAACTAAATACTACCGTATGGCCCACCATAATTACCCCCA...</td>\n",
       "      <td>4</td>\n",
       "      <td>[atgccc, tgcccc, gcccca, ccccaa, cccaac, ccaac...</td>\n",
       "    </tr>\n",
       "    <tr>\n",
       "      <th>1</th>\n",
       "      <td>ATGAACGAAAATCTGTTCGCTTCATTCATTGCCCCCACAATCCTAG...</td>\n",
       "      <td>4</td>\n",
       "      <td>[atgaac, tgaacg, gaacga, aacgaa, acgaaa, cgaaa...</td>\n",
       "    </tr>\n",
       "    <tr>\n",
       "      <th>2</th>\n",
       "      <td>ATGTGTGGCATTTGGGCGCTGTTTGGCAGTGATGATTGCCTTTCTG...</td>\n",
       "      <td>3</td>\n",
       "      <td>[atgtgt, tgtgtg, gtgtgg, tgtggc, gtggca, tggca...</td>\n",
       "    </tr>\n",
       "    <tr>\n",
       "      <th>3</th>\n",
       "      <td>ATGTGTGGCATTTGGGCGCTGTTTGGCAGTGATGATTGCCTTTCTG...</td>\n",
       "      <td>3</td>\n",
       "      <td>[atgtgt, tgtgtg, gtgtgg, tgtggc, gtggca, tggca...</td>\n",
       "    </tr>\n",
       "    <tr>\n",
       "      <th>4</th>\n",
       "      <td>ATGCAACAGCATTTTGAATTTGAATACCAGACCAAAGTGGATGGTG...</td>\n",
       "      <td>3</td>\n",
       "      <td>[atgcaa, tgcaac, gcaaca, caacag, aacagc, acagc...</td>\n",
       "    </tr>\n",
       "  </tbody>\n",
       "</table>\n",
       "</div>"
      ],
      "text/plain": [
       "                                            sequence  class  \\\n",
       "0  ATGCCCCAACTAAATACTACCGTATGGCCCACCATAATTACCCCCA...      4   \n",
       "1  ATGAACGAAAATCTGTTCGCTTCATTCATTGCCCCCACAATCCTAG...      4   \n",
       "2  ATGTGTGGCATTTGGGCGCTGTTTGGCAGTGATGATTGCCTTTCTG...      3   \n",
       "3  ATGTGTGGCATTTGGGCGCTGTTTGGCAGTGATGATTGCCTTTCTG...      3   \n",
       "4  ATGCAACAGCATTTTGAATTTGAATACCAGACCAAAGTGGATGGTG...      3   \n",
       "\n",
       "                                               words  \n",
       "0  [atgccc, tgcccc, gcccca, ccccaa, cccaac, ccaac...  \n",
       "1  [atgaac, tgaacg, gaacga, aacgaa, acgaaa, cgaaa...  \n",
       "2  [atgtgt, tgtgtg, gtgtgg, tgtggc, gtggca, tggca...  \n",
       "3  [atgtgt, tgtgtg, gtgtgg, tgtggc, gtggca, tggca...  \n",
       "4  [atgcaa, tgcaac, gcaaca, caacag, aacagc, acagc...  "
      ]
     },
     "execution_count": 10,
     "metadata": {},
     "output_type": "execute_result"
    }
   ],
   "source": [
    "df_human.head()"
   ]
  },
  {
   "cell_type": "code",
   "execution_count": 11,
   "metadata": {},
   "outputs": [],
   "source": [
    "df_human.drop('sequence', axis=1,inplace=True)"
   ]
  },
  {
   "cell_type": "code",
   "execution_count": 12,
   "metadata": {},
   "outputs": [
    {
     "data": {
      "text/html": [
       "<div>\n",
       "<style scoped>\n",
       "    .dataframe tbody tr th:only-of-type {\n",
       "        vertical-align: middle;\n",
       "    }\n",
       "\n",
       "    .dataframe tbody tr th {\n",
       "        vertical-align: top;\n",
       "    }\n",
       "\n",
       "    .dataframe thead th {\n",
       "        text-align: right;\n",
       "    }\n",
       "</style>\n",
       "<table border=\"1\" class=\"dataframe\">\n",
       "  <thead>\n",
       "    <tr style=\"text-align: right;\">\n",
       "      <th></th>\n",
       "      <th>class</th>\n",
       "      <th>words</th>\n",
       "    </tr>\n",
       "  </thead>\n",
       "  <tbody>\n",
       "    <tr>\n",
       "      <th>0</th>\n",
       "      <td>4</td>\n",
       "      <td>[atgccc, tgcccc, gcccca, ccccaa, cccaac, ccaac...</td>\n",
       "    </tr>\n",
       "    <tr>\n",
       "      <th>1</th>\n",
       "      <td>4</td>\n",
       "      <td>[atgaac, tgaacg, gaacga, aacgaa, acgaaa, cgaaa...</td>\n",
       "    </tr>\n",
       "    <tr>\n",
       "      <th>2</th>\n",
       "      <td>3</td>\n",
       "      <td>[atgtgt, tgtgtg, gtgtgg, tgtggc, gtggca, tggca...</td>\n",
       "    </tr>\n",
       "    <tr>\n",
       "      <th>3</th>\n",
       "      <td>3</td>\n",
       "      <td>[atgtgt, tgtgtg, gtgtgg, tgtggc, gtggca, tggca...</td>\n",
       "    </tr>\n",
       "    <tr>\n",
       "      <th>4</th>\n",
       "      <td>3</td>\n",
       "      <td>[atgcaa, tgcaac, gcaaca, caacag, aacagc, acagc...</td>\n",
       "    </tr>\n",
       "  </tbody>\n",
       "</table>\n",
       "</div>"
      ],
      "text/plain": [
       "   class                                              words\n",
       "0      4  [atgccc, tgcccc, gcccca, ccccaa, cccaac, ccaac...\n",
       "1      4  [atgaac, tgaacg, gaacga, aacgaa, acgaaa, cgaaa...\n",
       "2      3  [atgtgt, tgtgtg, gtgtgg, tgtggc, gtggca, tggca...\n",
       "3      3  [atgtgt, tgtgtg, gtgtgg, tgtggc, gtggca, tggca...\n",
       "4      3  [atgcaa, tgcaac, gcaaca, caacag, aacagc, acagc..."
      ]
     },
     "execution_count": 12,
     "metadata": {},
     "output_type": "execute_result"
    }
   ],
   "source": [
    "df_human.head()"
   ]
  },
  {
   "cell_type": "code",
   "execution_count": 13,
   "metadata": {},
   "outputs": [],
   "source": [
    "# do the same for chimp and dog data\n",
    "df_chimp['words'] = df_chimp.apply(lambda x: getKemers(x['sequence']), axis=1)\n",
    "df_chimp.drop('sequence', axis=1, inplace=True)\n",
    "\n",
    "df_dog['words'] = df_dog.apply(lambda x: getKemers(x['sequence']), axis=1)\n",
    "df_dog.drop('sequence', axis=1, inplace=True)"
   ]
  },
  {
   "cell_type": "code",
   "execution_count": 14,
   "metadata": {},
   "outputs": [
    {
     "data": {
      "text/html": [
       "<div>\n",
       "<style scoped>\n",
       "    .dataframe tbody tr th:only-of-type {\n",
       "        vertical-align: middle;\n",
       "    }\n",
       "\n",
       "    .dataframe tbody tr th {\n",
       "        vertical-align: top;\n",
       "    }\n",
       "\n",
       "    .dataframe thead th {\n",
       "        text-align: right;\n",
       "    }\n",
       "</style>\n",
       "<table border=\"1\" class=\"dataframe\">\n",
       "  <thead>\n",
       "    <tr style=\"text-align: right;\">\n",
       "      <th></th>\n",
       "      <th>class</th>\n",
       "      <th>words</th>\n",
       "    </tr>\n",
       "  </thead>\n",
       "  <tbody>\n",
       "    <tr>\n",
       "      <th>0</th>\n",
       "      <td>4</td>\n",
       "      <td>[atgccc, tgcccc, gcccca, ccccaa, cccaac, ccaac...</td>\n",
       "    </tr>\n",
       "    <tr>\n",
       "      <th>1</th>\n",
       "      <td>4</td>\n",
       "      <td>[atgaac, tgaacg, gaacga, aacgaa, acgaaa, cgaaa...</td>\n",
       "    </tr>\n",
       "    <tr>\n",
       "      <th>2</th>\n",
       "      <td>4</td>\n",
       "      <td>[atggcc, tggcct, ggcctc, gcctcg, cctcgc, ctcgc...</td>\n",
       "    </tr>\n",
       "    <tr>\n",
       "      <th>3</th>\n",
       "      <td>4</td>\n",
       "      <td>[atggcc, tggcct, ggcctc, gcctcg, cctcgc, ctcgc...</td>\n",
       "    </tr>\n",
       "    <tr>\n",
       "      <th>4</th>\n",
       "      <td>6</td>\n",
       "      <td>[atgggc, tgggca, gggcag, ggcagc, gcagcg, cagcg...</td>\n",
       "    </tr>\n",
       "  </tbody>\n",
       "</table>\n",
       "</div>"
      ],
      "text/plain": [
       "   class                                              words\n",
       "0      4  [atgccc, tgcccc, gcccca, ccccaa, cccaac, ccaac...\n",
       "1      4  [atgaac, tgaacg, gaacga, aacgaa, acgaaa, cgaaa...\n",
       "2      4  [atggcc, tggcct, ggcctc, gcctcg, cctcgc, ctcgc...\n",
       "3      4  [atggcc, tggcct, ggcctc, gcctcg, cctcgc, ctcgc...\n",
       "4      6  [atgggc, tgggca, gggcag, ggcagc, gcagcg, cagcg..."
      ]
     },
     "execution_count": 14,
     "metadata": {},
     "output_type": "execute_result"
    }
   ],
   "source": [
    "df_chimp.head()"
   ]
  },
  {
   "cell_type": "code",
   "execution_count": 15,
   "metadata": {},
   "outputs": [
    {
     "data": {
      "text/html": [
       "<div>\n",
       "<style scoped>\n",
       "    .dataframe tbody tr th:only-of-type {\n",
       "        vertical-align: middle;\n",
       "    }\n",
       "\n",
       "    .dataframe tbody tr th {\n",
       "        vertical-align: top;\n",
       "    }\n",
       "\n",
       "    .dataframe thead th {\n",
       "        text-align: right;\n",
       "    }\n",
       "</style>\n",
       "<table border=\"1\" class=\"dataframe\">\n",
       "  <thead>\n",
       "    <tr style=\"text-align: right;\">\n",
       "      <th></th>\n",
       "      <th>class</th>\n",
       "      <th>words</th>\n",
       "    </tr>\n",
       "  </thead>\n",
       "  <tbody>\n",
       "    <tr>\n",
       "      <th>0</th>\n",
       "      <td>4</td>\n",
       "      <td>[atgcca, tgccac, gccaca, ccacag, cacagc, acagc...</td>\n",
       "    </tr>\n",
       "    <tr>\n",
       "      <th>1</th>\n",
       "      <td>4</td>\n",
       "      <td>[atgaac, tgaacg, gaacga, aacgaa, acgaaa, cgaaa...</td>\n",
       "    </tr>\n",
       "    <tr>\n",
       "      <th>2</th>\n",
       "      <td>6</td>\n",
       "      <td>[atggaa, tggaaa, ggaaac, gaaaca, aaacac, aacac...</td>\n",
       "    </tr>\n",
       "    <tr>\n",
       "      <th>3</th>\n",
       "      <td>6</td>\n",
       "      <td>[atgtgc, tgtgca, gtgcac, tgcact, gcacta, cacta...</td>\n",
       "    </tr>\n",
       "    <tr>\n",
       "      <th>4</th>\n",
       "      <td>0</td>\n",
       "      <td>[atgagc, tgagcc, gagccg, agccgg, gccggc, ccggc...</td>\n",
       "    </tr>\n",
       "  </tbody>\n",
       "</table>\n",
       "</div>"
      ],
      "text/plain": [
       "   class                                              words\n",
       "0      4  [atgcca, tgccac, gccaca, ccacag, cacagc, acagc...\n",
       "1      4  [atgaac, tgaacg, gaacga, aacgaa, acgaaa, cgaaa...\n",
       "2      6  [atggaa, tggaaa, ggaaac, gaaaca, aaacac, aacac...\n",
       "3      6  [atgtgc, tgtgca, gtgcac, tgcact, gcacta, cacta...\n",
       "4      0  [atgagc, tgagcc, gagccg, agccgg, gccggc, ccggc..."
      ]
     },
     "execution_count": 15,
     "metadata": {},
     "output_type": "execute_result"
    }
   ],
   "source": [
    "df_dog.head()"
   ]
  },
  {
   "cell_type": "code",
   "execution_count": 16,
   "metadata": {},
   "outputs": [
    {
     "data": {
      "text/plain": [
       "['atgccc',\n",
       " 'tgcccc',\n",
       " 'gcccca',\n",
       " 'ccccaa',\n",
       " 'cccaac',\n",
       " 'ccaact',\n",
       " 'caacta',\n",
       " 'aactaa',\n",
       " 'actaaa',\n",
       " 'ctaaat',\n",
       " 'taaata',\n",
       " 'aaatac',\n",
       " 'aatact',\n",
       " 'atacta',\n",
       " 'tactac',\n",
       " 'actacc',\n",
       " 'ctaccg',\n",
       " 'taccgt',\n",
       " 'accgta',\n",
       " 'ccgtat',\n",
       " 'cgtatg',\n",
       " 'gtatgg',\n",
       " 'tatggc',\n",
       " 'atggcc',\n",
       " 'tggccc',\n",
       " 'ggccca',\n",
       " 'gcccac',\n",
       " 'cccacc',\n",
       " 'ccacca',\n",
       " 'caccat',\n",
       " 'accata',\n",
       " 'ccataa',\n",
       " 'cataat',\n",
       " 'ataatt',\n",
       " 'taatta',\n",
       " 'aattac',\n",
       " 'attacc',\n",
       " 'ttaccc',\n",
       " 'tacccc',\n",
       " 'accccc',\n",
       " 'ccccca',\n",
       " 'ccccat',\n",
       " 'cccata',\n",
       " 'ccatac',\n",
       " 'catact',\n",
       " 'atactc',\n",
       " 'tactcc',\n",
       " 'actcct',\n",
       " 'ctcctt',\n",
       " 'tcctta',\n",
       " 'ccttac',\n",
       " 'cttaca',\n",
       " 'ttacac',\n",
       " 'tacact',\n",
       " 'acacta',\n",
       " 'cactat',\n",
       " 'actatt',\n",
       " 'ctattc',\n",
       " 'tattcc',\n",
       " 'attcct',\n",
       " 'ttcctc',\n",
       " 'tcctca',\n",
       " 'cctcat',\n",
       " 'ctcatc',\n",
       " 'tcatca',\n",
       " 'catcac',\n",
       " 'atcacc',\n",
       " 'tcaccc',\n",
       " 'caccca',\n",
       " 'acccaa',\n",
       " 'cccaac',\n",
       " 'ccaact',\n",
       " 'caacta',\n",
       " 'aactaa',\n",
       " 'actaaa',\n",
       " 'ctaaaa',\n",
       " 'taaaaa',\n",
       " 'aaaaat',\n",
       " 'aaaata',\n",
       " 'aaatat',\n",
       " 'aatatt',\n",
       " 'atatta',\n",
       " 'tattaa',\n",
       " 'attaaa',\n",
       " 'ttaaac',\n",
       " 'taaaca',\n",
       " 'aaacac',\n",
       " 'aacaca',\n",
       " 'acacaa',\n",
       " 'cacaaa',\n",
       " 'acaaac',\n",
       " 'caaact',\n",
       " 'aaacta',\n",
       " 'aactac',\n",
       " 'actacc',\n",
       " 'ctacca',\n",
       " 'taccac',\n",
       " 'accacc',\n",
       " 'ccacct',\n",
       " 'caccta',\n",
       " 'acctac',\n",
       " 'cctacc',\n",
       " 'ctacct',\n",
       " 'tacctc',\n",
       " 'acctcc',\n",
       " 'cctccc',\n",
       " 'ctccct',\n",
       " 'tccctc',\n",
       " 'ccctca',\n",
       " 'cctcac',\n",
       " 'ctcacc',\n",
       " 'tcacca',\n",
       " 'caccaa',\n",
       " 'accaaa',\n",
       " 'ccaaag',\n",
       " 'caaagc',\n",
       " 'aaagcc',\n",
       " 'aagccc',\n",
       " 'agccca',\n",
       " 'gcccat',\n",
       " 'cccata',\n",
       " 'ccataa',\n",
       " 'cataaa',\n",
       " 'ataaaa',\n",
       " 'taaaaa',\n",
       " 'aaaaat',\n",
       " 'aaaata',\n",
       " 'aaataa',\n",
       " 'aataaa',\n",
       " 'ataaaa',\n",
       " 'taaaaa',\n",
       " 'aaaaaa',\n",
       " 'aaaaat',\n",
       " 'aaaatt',\n",
       " 'aaatta',\n",
       " 'aattat',\n",
       " 'attata',\n",
       " 'ttataa',\n",
       " 'tataac',\n",
       " 'ataaca',\n",
       " 'taacaa',\n",
       " 'aacaaa',\n",
       " 'acaaac',\n",
       " 'caaacc',\n",
       " 'aaaccc',\n",
       " 'aaccct',\n",
       " 'accctg',\n",
       " 'ccctga',\n",
       " 'cctgag',\n",
       " 'ctgaga',\n",
       " 'tgagaa',\n",
       " 'gagaac',\n",
       " 'agaacc',\n",
       " 'gaacca',\n",
       " 'aaccaa',\n",
       " 'accaaa',\n",
       " 'ccaaaa',\n",
       " 'caaaat',\n",
       " 'aaaatg',\n",
       " 'aaatga',\n",
       " 'aatgaa',\n",
       " 'atgaac',\n",
       " 'tgaacg',\n",
       " 'gaacga',\n",
       " 'aacgaa',\n",
       " 'acgaaa',\n",
       " 'cgaaaa',\n",
       " 'gaaaat',\n",
       " 'aaaatc',\n",
       " 'aaatct',\n",
       " 'aatctg',\n",
       " 'atctgt',\n",
       " 'tctgtt',\n",
       " 'ctgttc',\n",
       " 'tgttcg',\n",
       " 'gttcgc',\n",
       " 'ttcgct',\n",
       " 'tcgctt',\n",
       " 'cgcttc',\n",
       " 'gcttca',\n",
       " 'cttcat',\n",
       " 'ttcatt',\n",
       " 'tcattc',\n",
       " 'cattca',\n",
       " 'attcat',\n",
       " 'ttcatt',\n",
       " 'tcattg',\n",
       " 'cattgc',\n",
       " 'attgcc',\n",
       " 'ttgccc',\n",
       " 'tgcccc',\n",
       " 'gccccc',\n",
       " 'ccccca',\n",
       " 'ccccac',\n",
       " 'cccaca',\n",
       " 'ccacaa',\n",
       " 'cacaat',\n",
       " 'acaatc',\n",
       " 'caatcc',\n",
       " 'aatcct',\n",
       " 'atccta',\n",
       " 'tcctag']"
      ]
     },
     "execution_count": 16,
     "metadata": {},
     "output_type": "execute_result"
    }
   ],
   "source": [
    "df_human['words'][0]"
   ]
  },
  {
   "cell_type": "code",
   "execution_count": 17,
   "metadata": {},
   "outputs": [
    {
     "name": "stdout",
     "output_type": "stream",
     "text": [
      "atgccc tgcccc gcccca ccccaa cccaac ccaact caacta aactaa actaaa ctaaat taaata aaatac aatact atacta tactac actacc ctaccg taccgt accgta ccgtat cgtatg gtatgg tatggc atggcc tggccc ggccca gcccac cccacc ccacca caccat accata ccataa cataat ataatt taatta aattac attacc ttaccc tacccc accccc ccccca ccccat cccata ccatac catact atactc tactcc actcct ctcctt tcctta ccttac cttaca ttacac tacact acacta cactat actatt ctattc tattcc attcct ttcctc tcctca cctcat ctcatc tcatca catcac atcacc tcaccc caccca acccaa cccaac ccaact caacta aactaa actaaa ctaaaa taaaaa aaaaat aaaata aaatat aatatt atatta tattaa attaaa ttaaac taaaca aaacac aacaca acacaa cacaaa acaaac caaact aaacta aactac actacc ctacca taccac accacc ccacct caccta acctac cctacc ctacct tacctc acctcc cctccc ctccct tccctc ccctca cctcac ctcacc tcacca caccaa accaaa ccaaag caaagc aaagcc aagccc agccca gcccat cccata ccataa cataaa ataaaa taaaaa aaaaat aaaata aaataa aataaa ataaaa taaaaa aaaaaa aaaaat aaaatt aaatta aattat attata ttataa tataac ataaca taacaa aacaaa acaaac caaacc aaaccc aaccct accctg ccctga cctgag ctgaga tgagaa gagaac agaacc gaacca aaccaa accaaa ccaaaa caaaat aaaatg aaatga aatgaa atgaac tgaacg gaacga aacgaa acgaaa cgaaaa gaaaat aaaatc aaatct aatctg atctgt tctgtt ctgttc tgttcg gttcgc ttcgct tcgctt cgcttc gcttca cttcat ttcatt tcattc cattca attcat ttcatt tcattg cattgc attgcc ttgccc tgcccc gccccc ccccca ccccac cccaca ccacaa cacaat acaatc caatcc aatcct atccta tcctag\n"
     ]
    }
   ],
   "source": [
    "print(' '.join(df_human['words'][0]))"
   ]
  },
  {
   "cell_type": "code",
   "execution_count": 18,
   "metadata": {},
   "outputs": [],
   "source": [
    "# join words - jwords\n",
    "df_human['jwords'] = df_human['words'].apply(lambda x: ' '.join(x))"
   ]
  },
  {
   "cell_type": "code",
   "execution_count": 19,
   "metadata": {},
   "outputs": [
    {
     "data": {
      "text/html": [
       "<div>\n",
       "<style scoped>\n",
       "    .dataframe tbody tr th:only-of-type {\n",
       "        vertical-align: middle;\n",
       "    }\n",
       "\n",
       "    .dataframe tbody tr th {\n",
       "        vertical-align: top;\n",
       "    }\n",
       "\n",
       "    .dataframe thead th {\n",
       "        text-align: right;\n",
       "    }\n",
       "</style>\n",
       "<table border=\"1\" class=\"dataframe\">\n",
       "  <thead>\n",
       "    <tr style=\"text-align: right;\">\n",
       "      <th></th>\n",
       "      <th>class</th>\n",
       "      <th>words</th>\n",
       "      <th>jwords</th>\n",
       "    </tr>\n",
       "  </thead>\n",
       "  <tbody>\n",
       "    <tr>\n",
       "      <th>0</th>\n",
       "      <td>4</td>\n",
       "      <td>[atgccc, tgcccc, gcccca, ccccaa, cccaac, ccaac...</td>\n",
       "      <td>atgccc tgcccc gcccca ccccaa cccaac ccaact caac...</td>\n",
       "    </tr>\n",
       "    <tr>\n",
       "      <th>1</th>\n",
       "      <td>4</td>\n",
       "      <td>[atgaac, tgaacg, gaacga, aacgaa, acgaaa, cgaaa...</td>\n",
       "      <td>atgaac tgaacg gaacga aacgaa acgaaa cgaaaa gaaa...</td>\n",
       "    </tr>\n",
       "    <tr>\n",
       "      <th>2</th>\n",
       "      <td>3</td>\n",
       "      <td>[atgtgt, tgtgtg, gtgtgg, tgtggc, gtggca, tggca...</td>\n",
       "      <td>atgtgt tgtgtg gtgtgg tgtggc gtggca tggcat ggca...</td>\n",
       "    </tr>\n",
       "    <tr>\n",
       "      <th>3</th>\n",
       "      <td>3</td>\n",
       "      <td>[atgtgt, tgtgtg, gtgtgg, tgtggc, gtggca, tggca...</td>\n",
       "      <td>atgtgt tgtgtg gtgtgg tgtggc gtggca tggcat ggca...</td>\n",
       "    </tr>\n",
       "    <tr>\n",
       "      <th>4</th>\n",
       "      <td>3</td>\n",
       "      <td>[atgcaa, tgcaac, gcaaca, caacag, aacagc, acagc...</td>\n",
       "      <td>atgcaa tgcaac gcaaca caacag aacagc acagca cagc...</td>\n",
       "    </tr>\n",
       "  </tbody>\n",
       "</table>\n",
       "</div>"
      ],
      "text/plain": [
       "   class                                              words  \\\n",
       "0      4  [atgccc, tgcccc, gcccca, ccccaa, cccaac, ccaac...   \n",
       "1      4  [atgaac, tgaacg, gaacga, aacgaa, acgaaa, cgaaa...   \n",
       "2      3  [atgtgt, tgtgtg, gtgtgg, tgtggc, gtggca, tggca...   \n",
       "3      3  [atgtgt, tgtgtg, gtgtgg, tgtggc, gtggca, tggca...   \n",
       "4      3  [atgcaa, tgcaac, gcaaca, caacag, aacagc, acagc...   \n",
       "\n",
       "                                              jwords  \n",
       "0  atgccc tgcccc gcccca ccccaa cccaac ccaact caac...  \n",
       "1  atgaac tgaacg gaacga aacgaa acgaaa cgaaaa gaaa...  \n",
       "2  atgtgt tgtgtg gtgtgg tgtggc gtggca tggcat ggca...  \n",
       "3  atgtgt tgtgtg gtgtgg tgtggc gtggca tggcat ggca...  \n",
       "4  atgcaa tgcaac gcaaca caacag aacagc acagca cagc...  "
      ]
     },
     "execution_count": 19,
     "metadata": {},
     "output_type": "execute_result"
    }
   ],
   "source": [
    "df_human.head()"
   ]
  },
  {
   "cell_type": "code",
   "execution_count": 20,
   "metadata": {},
   "outputs": [],
   "source": [
    "# Do the same for dog and chimp dataset\n",
    "df_chimp['jwords'] = df_chimp['words'].apply(lambda x: ' '.join(x))\n",
    "df_dog['jwords'] = df_dog['words'].apply(lambda x: ' '.join(x))"
   ]
  },
  {
   "cell_type": "code",
   "execution_count": 21,
   "metadata": {},
   "outputs": [
    {
     "data": {
      "text/html": [
       "<div>\n",
       "<style scoped>\n",
       "    .dataframe tbody tr th:only-of-type {\n",
       "        vertical-align: middle;\n",
       "    }\n",
       "\n",
       "    .dataframe tbody tr th {\n",
       "        vertical-align: top;\n",
       "    }\n",
       "\n",
       "    .dataframe thead th {\n",
       "        text-align: right;\n",
       "    }\n",
       "</style>\n",
       "<table border=\"1\" class=\"dataframe\">\n",
       "  <thead>\n",
       "    <tr style=\"text-align: right;\">\n",
       "      <th></th>\n",
       "      <th>class</th>\n",
       "      <th>words</th>\n",
       "      <th>jwords</th>\n",
       "    </tr>\n",
       "  </thead>\n",
       "  <tbody>\n",
       "    <tr>\n",
       "      <th>0</th>\n",
       "      <td>4</td>\n",
       "      <td>[atgccc, tgcccc, gcccca, ccccaa, cccaac, ccaac...</td>\n",
       "      <td>atgccc tgcccc gcccca ccccaa cccaac ccaact caac...</td>\n",
       "    </tr>\n",
       "    <tr>\n",
       "      <th>1</th>\n",
       "      <td>4</td>\n",
       "      <td>[atgaac, tgaacg, gaacga, aacgaa, acgaaa, cgaaa...</td>\n",
       "      <td>atgaac tgaacg gaacga aacgaa acgaaa cgaaaa gaaa...</td>\n",
       "    </tr>\n",
       "    <tr>\n",
       "      <th>2</th>\n",
       "      <td>4</td>\n",
       "      <td>[atggcc, tggcct, ggcctc, gcctcg, cctcgc, ctcgc...</td>\n",
       "      <td>atggcc tggcct ggcctc gcctcg cctcgc ctcgcg tcgc...</td>\n",
       "    </tr>\n",
       "    <tr>\n",
       "      <th>3</th>\n",
       "      <td>4</td>\n",
       "      <td>[atggcc, tggcct, ggcctc, gcctcg, cctcgc, ctcgc...</td>\n",
       "      <td>atggcc tggcct ggcctc gcctcg cctcgc ctcgcg tcgc...</td>\n",
       "    </tr>\n",
       "    <tr>\n",
       "      <th>4</th>\n",
       "      <td>6</td>\n",
       "      <td>[atgggc, tgggca, gggcag, ggcagc, gcagcg, cagcg...</td>\n",
       "      <td>atgggc tgggca gggcag ggcagc gcagcg cagcgc agcg...</td>\n",
       "    </tr>\n",
       "  </tbody>\n",
       "</table>\n",
       "</div>"
      ],
      "text/plain": [
       "   class                                              words  \\\n",
       "0      4  [atgccc, tgcccc, gcccca, ccccaa, cccaac, ccaac...   \n",
       "1      4  [atgaac, tgaacg, gaacga, aacgaa, acgaaa, cgaaa...   \n",
       "2      4  [atggcc, tggcct, ggcctc, gcctcg, cctcgc, ctcgc...   \n",
       "3      4  [atggcc, tggcct, ggcctc, gcctcg, cctcgc, ctcgc...   \n",
       "4      6  [atgggc, tgggca, gggcag, ggcagc, gcagcg, cagcg...   \n",
       "\n",
       "                                              jwords  \n",
       "0  atgccc tgcccc gcccca ccccaa cccaac ccaact caac...  \n",
       "1  atgaac tgaacg gaacga aacgaa acgaaa cgaaaa gaaa...  \n",
       "2  atggcc tggcct ggcctc gcctcg cctcgc ctcgcg tcgc...  \n",
       "3  atggcc tggcct ggcctc gcctcg cctcgc ctcgcg tcgc...  \n",
       "4  atgggc tgggca gggcag ggcagc gcagcg cagcgc agcg...  "
      ]
     },
     "execution_count": 21,
     "metadata": {},
     "output_type": "execute_result"
    }
   ],
   "source": [
    "df_chimp.head()"
   ]
  },
  {
   "cell_type": "code",
   "execution_count": 22,
   "metadata": {},
   "outputs": [
    {
     "data": {
      "text/html": [
       "<div>\n",
       "<style scoped>\n",
       "    .dataframe tbody tr th:only-of-type {\n",
       "        vertical-align: middle;\n",
       "    }\n",
       "\n",
       "    .dataframe tbody tr th {\n",
       "        vertical-align: top;\n",
       "    }\n",
       "\n",
       "    .dataframe thead th {\n",
       "        text-align: right;\n",
       "    }\n",
       "</style>\n",
       "<table border=\"1\" class=\"dataframe\">\n",
       "  <thead>\n",
       "    <tr style=\"text-align: right;\">\n",
       "      <th></th>\n",
       "      <th>class</th>\n",
       "      <th>words</th>\n",
       "      <th>jwords</th>\n",
       "    </tr>\n",
       "  </thead>\n",
       "  <tbody>\n",
       "    <tr>\n",
       "      <th>0</th>\n",
       "      <td>4</td>\n",
       "      <td>[atgcca, tgccac, gccaca, ccacag, cacagc, acagc...</td>\n",
       "      <td>atgcca tgccac gccaca ccacag cacagc acagct cagc...</td>\n",
       "    </tr>\n",
       "    <tr>\n",
       "      <th>1</th>\n",
       "      <td>4</td>\n",
       "      <td>[atgaac, tgaacg, gaacga, aacgaa, acgaaa, cgaaa...</td>\n",
       "      <td>atgaac tgaacg gaacga aacgaa acgaaa cgaaaa gaaa...</td>\n",
       "    </tr>\n",
       "    <tr>\n",
       "      <th>2</th>\n",
       "      <td>6</td>\n",
       "      <td>[atggaa, tggaaa, ggaaac, gaaaca, aaacac, aacac...</td>\n",
       "      <td>atggaa tggaaa ggaaac gaaaca aaacac aacacc acac...</td>\n",
       "    </tr>\n",
       "    <tr>\n",
       "      <th>3</th>\n",
       "      <td>6</td>\n",
       "      <td>[atgtgc, tgtgca, gtgcac, tgcact, gcacta, cacta...</td>\n",
       "      <td>atgtgc tgtgca gtgcac tgcact gcacta cactaa acta...</td>\n",
       "    </tr>\n",
       "    <tr>\n",
       "      <th>4</th>\n",
       "      <td>0</td>\n",
       "      <td>[atgagc, tgagcc, gagccg, agccgg, gccggc, ccggc...</td>\n",
       "      <td>atgagc tgagcc gagccg agccgg gccggc ccggca cggc...</td>\n",
       "    </tr>\n",
       "  </tbody>\n",
       "</table>\n",
       "</div>"
      ],
      "text/plain": [
       "   class                                              words  \\\n",
       "0      4  [atgcca, tgccac, gccaca, ccacag, cacagc, acagc...   \n",
       "1      4  [atgaac, tgaacg, gaacga, aacgaa, acgaaa, cgaaa...   \n",
       "2      6  [atggaa, tggaaa, ggaaac, gaaaca, aaacac, aacac...   \n",
       "3      6  [atgtgc, tgtgca, gtgcac, tgcact, gcacta, cacta...   \n",
       "4      0  [atgagc, tgagcc, gagccg, agccgg, gccggc, ccggc...   \n",
       "\n",
       "                                              jwords  \n",
       "0  atgcca tgccac gccaca ccacag cacagc acagct cagc...  \n",
       "1  atgaac tgaacg gaacga aacgaa acgaaa cgaaaa gaaa...  \n",
       "2  atggaa tggaaa ggaaac gaaaca aaacac aacacc acac...  \n",
       "3  atgtgc tgtgca gtgcac tgcact gcacta cactaa acta...  \n",
       "4  atgagc tgagcc gagccg agccgg gccggc ccggca cggc...  "
      ]
     },
     "execution_count": 22,
     "metadata": {},
     "output_type": "execute_result"
    }
   ],
   "source": [
    "df_dog.head()"
   ]
  },
  {
   "cell_type": "code",
   "execution_count": 23,
   "metadata": {},
   "outputs": [
    {
     "name": "stdout",
     "output_type": "stream",
     "text": [
      "atgccc tgcccc gcccca ccccaa cccaac ccaact caacta aactaa actaaa ctaaat taaata aaatac aatact atacta tactac actacc ctaccg taccgt accgta ccgtat cgtatg gtatgg tatggc atggcc tggccc ggccca gcccac cccacc ccacca caccat accata ccataa cataat ataatt taatta aattac attacc ttaccc tacccc accccc ccccca ccccat cccata ccatac catact atactc tactcc actcct ctcctt tcctta ccttac cttaca ttacac tacact acacta cactat actatt ctattc tattcc attcct ttcctc tcctca cctcat ctcatc tcatca catcac atcacc tcaccc caccca acccaa cccaac ccaact caacta aactaa actaaa ctaaaa taaaaa aaaaat aaaata aaatat aatatt atatta tattaa attaaa ttaaac taaaca aaacac aacaca acacaa cacaaa acaaac caaact aaacta aactac actacc ctacca taccac accacc ccacct caccta acctac cctacc ctacct tacctc acctcc cctccc ctccct tccctc ccctca cctcac ctcacc tcacca caccaa accaaa ccaaag caaagc aaagcc aagccc agccca gcccat cccata ccataa cataaa ataaaa taaaaa aaaaat aaaata aaataa aataaa ataaaa taaaaa aaaaaa aaaaat aaaatt aaatta aattat attata ttataa tataac ataaca taacaa aacaaa acaaac caaacc aaaccc aaccct accctg ccctga cctgag ctgaga tgagaa gagaac agaacc gaacca aaccaa accaaa ccaaaa caaaat aaaatg aaatga aatgaa atgaac tgaacg gaacga aacgaa acgaaa cgaaaa gaaaat aaaatc aaatct aatctg atctgt tctgtt ctgttc tgttcg gttcgc ttcgct tcgctt cgcttc gcttca cttcat ttcatt tcattc cattca attcat ttcatt tcattg cattgc attgcc ttgccc tgcccc gccccc ccccca ccccac cccaca ccacaa cacaat acaatc caatcc aatcct atccta tcctag\n"
     ]
    }
   ],
   "source": [
    "print(df_human['jwords'][0])"
   ]
  },
  {
   "cell_type": "markdown",
   "metadata": {},
   "source": [
    "#### These are just texts, need to convert them into vectors\n",
    "#### Use bag of words method i.e use countvectorizer"
   ]
  },
  {
   "cell_type": "code",
   "execution_count": 24,
   "metadata": {},
   "outputs": [],
   "source": [
    "from sklearn.feature_extraction.text import CountVectorizer"
   ]
  },
  {
   "cell_type": "code",
   "execution_count": 25,
   "metadata": {},
   "outputs": [],
   "source": [
    "cvt = CountVectorizer(ngram_range=(4,4))  # came to this value(of ngram_range) by trying out different values again and again"
   ]
  },
  {
   "cell_type": "code",
   "execution_count": 26,
   "metadata": {},
   "outputs": [],
   "source": [
    "human_data = cvt.fit_transform(df_human['jwords'])"
   ]
  },
  {
   "cell_type": "code",
   "execution_count": 27,
   "metadata": {},
   "outputs": [
    {
     "data": {
      "text/plain": [
       "(4380, 232414)"
      ]
     },
     "execution_count": 27,
     "metadata": {},
     "output_type": "execute_result"
    }
   ],
   "source": [
    "human_data.shape"
   ]
  },
  {
   "cell_type": "code",
   "execution_count": 28,
   "metadata": {},
   "outputs": [],
   "source": [
    "chimp_data = cvt.transform(df_chimp['jwords'])\n",
    "dog_data = cvt.transform(df_dog['jwords'])"
   ]
  },
  {
   "cell_type": "code",
   "execution_count": 29,
   "metadata": {},
   "outputs": [
    {
     "name": "stdout",
     "output_type": "stream",
     "text": [
      "(1682, 232414)\n",
      "(820, 232414)\n"
     ]
    }
   ],
   "source": [
    "print(chimp_data.shape)\n",
    "print(dog_data.shape)"
   ]
  },
  {
   "cell_type": "code",
   "execution_count": 30,
   "metadata": {},
   "outputs": [],
   "source": [
    "# Lets do model building for human_data first"
   ]
  },
  {
   "cell_type": "code",
   "execution_count": 31,
   "metadata": {
    "scrolled": true
   },
   "outputs": [
    {
     "data": {
      "text/plain": [
       "6    1343\n",
       "4     711\n",
       "3     672\n",
       "1     534\n",
       "0     531\n",
       "2     349\n",
       "5     240\n",
       "Name: class, dtype: int64"
      ]
     },
     "execution_count": 31,
     "metadata": {},
     "output_type": "execute_result"
    }
   ],
   "source": [
    "df_human['class'].value_counts()"
   ]
  },
  {
   "cell_type": "code",
   "execution_count": 32,
   "metadata": {
    "scrolled": true
   },
   "outputs": [
    {
     "data": {
      "text/plain": [
       "0     531\n",
       "1     534\n",
       "2     349\n",
       "3     672\n",
       "4     711\n",
       "5     240\n",
       "6    1343\n",
       "Name: class, dtype: int64"
      ]
     },
     "execution_count": 32,
     "metadata": {},
     "output_type": "execute_result"
    }
   ],
   "source": [
    "df_human['class'].value_counts().sort_index()"
   ]
  },
  {
   "cell_type": "code",
   "execution_count": 33,
   "metadata": {
    "scrolled": false
   },
   "outputs": [
    {
     "data": {
      "text/plain": [
       "Text(0, 0.5, 'Count')"
      ]
     },
     "execution_count": 33,
     "metadata": {},
     "output_type": "execute_result"
    },
    {
     "data": {
      "image/png": "[encoded data removed]",
      "text/plain": [
       "<Figure size 432x288 with 1 Axes>"
      ]
     },
     "metadata": {
      "needs_background": "light"
     },
     "output_type": "display_data"
    }
   ],
   "source": [
    "df_human['class'].value_counts().sort_index().plot.bar()\n",
    "plt.title('Human data')\n",
    "plt.xlabel('DNA Class')\n",
    "plt.ylabel('Count')"
   ]
  },
  {
   "cell_type": "markdown",
   "metadata": {},
   "source": [
    "##### The data is almost balanced and this is multiple class classification .\n",
    "##### So multinomial naive bayes classifier should be probable choice"
   ]
  },
  {
   "cell_type": "code",
   "execution_count": 34,
   "metadata": {},
   "outputs": [],
   "source": [
    "# First split the data\n",
    "from sklearn.model_selection import train_test_split"
   ]
  },
  {
   "cell_type": "code",
   "execution_count": 35,
   "metadata": {},
   "outputs": [],
   "source": [
    "X = human_data\n",
    "y = df_human['class']"
   ]
  },
  {
   "cell_type": "code",
   "execution_count": 36,
   "metadata": {},
   "outputs": [],
   "source": [
    "X_train, X_test, y_train, y_test = train_test_split(X, y, test_size=0.2, random_state=42)"
   ]
  },
  {
   "cell_type": "code",
   "execution_count": 37,
   "metadata": {},
   "outputs": [
    {
     "data": {
      "text/plain": [
       "(3504, 232414)"
      ]
     },
     "execution_count": 37,
     "metadata": {},
     "output_type": "execute_result"
    }
   ],
   "source": [
    "X_train.shape"
   ]
  },
  {
   "cell_type": "code",
   "execution_count": 38,
   "metadata": {},
   "outputs": [
    {
     "data": {
      "text/plain": [
       "(876, 232414)"
      ]
     },
     "execution_count": 38,
     "metadata": {},
     "output_type": "execute_result"
    }
   ],
   "source": [
    "X_test.shape"
   ]
  },
  {
   "cell_type": "code",
   "execution_count": 39,
   "metadata": {},
   "outputs": [],
   "source": [
    "# import the classifier\n",
    "from sklearn.naive_bayes import MultinomialNB"
   ]
  },
  {
   "cell_type": "code",
   "execution_count": 40,
   "metadata": {},
   "outputs": [],
   "source": [
    "clf = MultinomialNB()"
   ]
  },
  {
   "cell_type": "code",
   "execution_count": 41,
   "metadata": {},
   "outputs": [
    {
     "data": {
      "text/plain": [
       "MultinomialNB()"
      ]
     },
     "execution_count": 41,
     "metadata": {},
     "output_type": "execute_result"
    }
   ],
   "source": [
    "clf.fit(X_train,y_train)"
   ]
  },
  {
   "cell_type": "code",
   "execution_count": 42,
   "metadata": {},
   "outputs": [],
   "source": [
    "h_predictions1 = clf.predict(X_test)"
   ]
  },
  {
   "cell_type": "code",
   "execution_count": 43,
   "metadata": {
    "scrolled": true
   },
   "outputs": [
    {
     "data": {
      "text/plain": [
       "array([2, 5, 4, 6, 3, 6, 4, 2, 6, 6, 0, 6, 0, 6, 6, 6, 6, 1, 4, 1, 6, 3,\n",
       "       4, 4, 4, 6, 0, 6, 6, 6, 2, 6, 3, 6, 3, 0, 0, 6, 3, 4, 3, 0, 0, 5,\n",
       "       3, 0, 6, 6, 1, 2, 1, 3, 0, 5, 0, 5, 2, 6, 4, 1, 5, 1, 4, 4, 4, 4,\n",
       "       4, 3, 4, 2, 2, 3, 4, 5, 0, 3, 6, 1, 6, 1, 4, 1, 6, 3, 1, 6, 6, 4,\n",
       "       1, 2, 4, 3, 4, 3, 1, 1, 6, 6, 1, 1, 5, 1, 6, 3, 6, 4, 4, 1, 2, 0,\n",
       "       6, 3, 5, 4, 6, 6, 5, 6, 6, 6, 3, 6, 0, 4, 4, 1, 2, 0, 4, 6, 5, 2,\n",
       "       5, 6, 1, 2, 4, 4, 6, 1, 3, 2, 3, 5, 6, 6, 1, 5, 6, 4, 3, 6, 6, 6,\n",
       "       6, 2, 3, 6, 0, 6, 6, 3, 1, 0, 5, 2, 4, 2, 1, 4, 5, 4, 6, 6, 6, 6,\n",
       "       6, 3, 4, 4, 2, 2, 1, 1, 2, 6, 6, 6, 6, 0, 4, 0, 4, 2, 1, 2, 3, 0,\n",
       "       6, 4, 6, 1, 2, 1, 4, 4, 3, 5, 6, 6, 6, 0, 4, 1, 5, 1, 3, 3, 5, 5,\n",
       "       6, 0, 0, 6, 3, 0, 0, 6, 5, 2, 0, 1, 5, 3, 1, 1, 6, 6, 1, 3, 2, 4,\n",
       "       3, 6, 6, 3, 4, 6, 4, 4, 0, 3, 4, 3, 6, 1, 4, 6, 6, 6, 6, 0, 0, 6,\n",
       "       6, 6, 6, 4, 4, 3, 3, 1, 4, 6, 4, 4, 4, 2, 3, 2, 6, 3, 3, 6, 2, 6,\n",
       "       6, 1, 1, 5, 0, 5, 3, 1, 3, 6, 2, 2, 4, 1, 6, 6, 4, 4, 4, 4, 3, 6,\n",
       "       4, 4, 3, 3, 6, 3, 2, 6, 4, 2, 6, 0, 4, 3, 6, 3, 5, 6, 6, 6, 6, 1,\n",
       "       1, 1, 6, 1, 3, 5, 3, 4, 1, 6, 0, 1, 4, 5, 5, 5, 3, 0, 6, 4, 0, 4,\n",
       "       0, 6, 3, 4, 4, 1, 0, 3, 6, 5, 4, 3, 4, 3, 3, 4, 6, 2, 4, 6, 4, 5,\n",
       "       6, 0, 6, 1, 2, 1, 6, 4, 6, 1, 4, 6, 4, 0, 4, 6, 6, 6, 6, 0, 6, 3,\n",
       "       3, 4, 4, 6, 2, 6, 6, 6, 1, 0, 6, 3, 0, 4, 6, 6, 4, 6, 6, 6, 1, 6,\n",
       "       6, 1, 3, 0, 0, 2, 6, 0, 5, 6, 0, 4, 6, 3, 1, 4, 3, 6, 3, 2, 6, 2,\n",
       "       2, 6, 6, 5, 4, 3, 6, 4, 3, 6, 4, 6, 0, 3, 0, 2, 0, 5, 4, 4, 6, 0,\n",
       "       6, 2, 6, 4, 2, 1, 4, 6, 6, 6, 6, 0, 1, 0, 4, 6, 6, 4, 0, 1, 6, 4,\n",
       "       6, 6, 6, 2, 4, 6, 3, 6, 4, 4, 1, 5, 6, 4, 2, 6, 6, 6, 6, 6, 6, 5,\n",
       "       0, 0, 3, 6, 6, 1, 3, 6, 3, 2, 6, 6, 6, 6, 4, 6, 0, 1, 0, 1, 6, 6,\n",
       "       0, 2, 1, 4, 3, 0, 6, 6, 4, 0, 0, 5, 3, 4, 6, 3, 6, 6, 6, 0, 1, 3,\n",
       "       6, 1, 3, 6, 6, 4, 4, 4, 3, 0, 6, 1, 0, 6, 2, 2, 4, 3, 3, 0, 6, 4,\n",
       "       3, 6, 2, 0, 1, 6, 6, 4, 0, 5, 6, 5, 6, 3, 4, 5, 1, 6, 0, 6, 1, 1,\n",
       "       3, 6, 4, 6, 1, 3, 2, 2, 2, 2, 6, 2, 6, 1, 5, 5, 5, 1, 1, 6, 1, 1,\n",
       "       4, 4, 2, 1, 5, 4, 6, 2, 0, 6, 6, 3, 3, 6, 6, 6, 4, 2, 5, 1, 6, 0,\n",
       "       4, 6, 3, 1, 6, 4, 6, 6, 2, 6, 3, 6, 3, 6, 6, 0, 0, 6, 1, 6, 6, 3,\n",
       "       0, 0, 1, 3, 4, 4, 1, 3, 6, 4, 3, 2, 0, 0, 6, 4, 3, 4, 6, 2, 6, 2,\n",
       "       6, 5, 1, 2, 6, 4, 6, 6, 0, 1, 3, 6, 6, 4, 1, 3, 5, 4, 6, 6, 6, 0,\n",
       "       3, 4, 6, 4, 0, 3, 0, 0, 6, 3, 6, 1, 5, 3, 3, 6, 5, 6, 3, 2, 3, 6,\n",
       "       2, 1, 0, 2, 2, 1, 6, 1, 6, 3, 1, 6, 4, 6, 3, 6, 6, 6, 4, 3, 4, 1,\n",
       "       2, 3, 3, 6, 6, 0, 4, 6, 6, 3, 4, 6, 6, 6, 3, 6, 4, 3, 2, 4, 0, 6,\n",
       "       3, 4, 0, 0, 6, 4, 4, 3, 6, 6, 3, 0, 0, 3, 1, 5, 6, 4, 0, 1, 0, 1,\n",
       "       4, 1, 4, 1, 6, 1, 5, 4, 1, 6, 6, 0, 5, 1, 2, 3, 4, 0, 1, 4, 0, 6,\n",
       "       2, 1, 2, 3, 0, 2, 1, 5, 6, 6, 3, 6, 3, 2, 2, 1, 6, 6, 4, 2, 2, 3,\n",
       "       3, 4, 5, 6, 3, 4, 0, 4, 6, 0, 3, 3, 3, 3, 0, 4, 2, 4, 4, 6, 6, 2,\n",
       "       1, 6, 0, 6, 1, 5, 2, 6, 6, 4, 0, 4, 0, 4, 6, 3, 4, 3], dtype=int64)"
      ]
     },
     "execution_count": 43,
     "metadata": {},
     "output_type": "execute_result"
    }
   ],
   "source": [
    "h_predictions1"
   ]
  },
  {
   "cell_type": "code",
   "execution_count": 44,
   "metadata": {},
   "outputs": [],
   "source": [
    "# check the performance\n",
    "from sklearn.metrics import confusion_matrix,classification_report,accuracy_score"
   ]
  },
  {
   "cell_type": "code",
   "execution_count": 45,
   "metadata": {
    "scrolled": false
   },
   "outputs": [
    {
     "name": "stdout",
     "output_type": "stream",
     "text": [
      "Confusion Matrix\n",
      "[[ 98   0   0   0   1   2   1]\n",
      " [  0 104   0   0   0   0   2]\n",
      " [  0   0  78   0   0   0   0]\n",
      " [  0   0   0 124   1   0   0]\n",
      " [  0   0   0   0 146   0   3]\n",
      " [  0   0   0   0   0  51   0]\n",
      " [  0   0   0   1   2   1 261]]\n",
      "---------------------------------\n",
      "Classification Report\n",
      "              precision    recall  f1-score   support\n",
      "\n",
      "           0       1.00      0.96      0.98       102\n",
      "           1       1.00      0.98      0.99       106\n",
      "           2       1.00      1.00      1.00        78\n",
      "           3       0.99      0.99      0.99       125\n",
      "           4       0.97      0.98      0.98       149\n",
      "           5       0.94      1.00      0.97        51\n",
      "           6       0.98      0.98      0.98       265\n",
      "\n",
      "    accuracy                           0.98       876\n",
      "   macro avg       0.98      0.99      0.98       876\n",
      "weighted avg       0.98      0.98      0.98       876\n",
      "\n",
      "---------------------------------\n",
      "Accuracy\n",
      "0.9840182648401826\n"
     ]
    }
   ],
   "source": [
    "print('Confusion Matrix')\n",
    "print(confusion_matrix(y_test,h_predictions1))\n",
    "print('---------------------------------')\n",
    "print('Classification Report')\n",
    "print(classification_report(y_test,h_predictions1))\n",
    "print('---------------------------------')\n",
    "print('Accuracy')\n",
    "print(accuracy_score(y_test,h_predictions1))"
   ]
  },
  {
   "cell_type": "markdown",
   "metadata": {},
   "source": [
    "#### Default parameters give a nice accuracy but lets try hyperparameter tuning using Gridsearch"
   ]
  },
  {
   "cell_type": "code",
   "execution_count": 46,
   "metadata": {},
   "outputs": [],
   "source": [
    "hyper_param = {'alpha':[0.0001,0.001,0.01,0.1,0.5,1,2]}"
   ]
  },
  {
   "cell_type": "code",
   "execution_count": 47,
   "metadata": {},
   "outputs": [],
   "source": [
    "from sklearn.model_selection import GridSearchCV"
   ]
  },
  {
   "cell_type": "code",
   "execution_count": 48,
   "metadata": {},
   "outputs": [],
   "source": [
    "gds = GridSearchCV(estimator=MultinomialNB(), param_grid=hyper_param)"
   ]
  },
  {
   "cell_type": "code",
   "execution_count": 49,
   "metadata": {},
   "outputs": [
    {
     "data": {
      "text/plain": [
       "GridSearchCV(estimator=MultinomialNB(),\n",
       "             param_grid={'alpha': [0.0001, 0.001, 0.01, 0.1, 0.5, 1, 2]})"
      ]
     },
     "execution_count": 49,
     "metadata": {},
     "output_type": "execute_result"
    }
   ],
   "source": [
    "gds.fit(X_train,y_train)"
   ]
  },
  {
   "cell_type": "code",
   "execution_count": 50,
   "metadata": {},
   "outputs": [
    {
     "data": {
      "text/plain": [
       "{'alpha': 0.5}"
      ]
     },
     "execution_count": 50,
     "metadata": {},
     "output_type": "execute_result"
    }
   ],
   "source": [
    "gds.best_params_"
   ]
  },
  {
   "cell_type": "code",
   "execution_count": 51,
   "metadata": {},
   "outputs": [
    {
     "data": {
      "text/plain": [
       "0.9629007540248624"
      ]
     },
     "execution_count": 51,
     "metadata": {},
     "output_type": "execute_result"
    }
   ],
   "source": [
    "gds.best_score_"
   ]
  },
  {
   "cell_type": "code",
   "execution_count": 52,
   "metadata": {
    "scrolled": true
   },
   "outputs": [
    {
     "data": {
      "text/plain": [
       "{'mean_fit_time': array([0.14551454, 0.1439024 , 0.14230957, 0.13911209, 0.14230328,\n",
       "        0.14390874, 0.13751502]),\n",
       " 'std_fit_time': array([7.84292849e-03, 5.05754397e-03, 3.18474895e-03, 3.89760533e-03,\n",
       "        3.19693123e-03, 1.42030252e-05, 9.32810255e-03]),\n",
       " 'mean_score_time': array([0.02879143, 0.03036819, 0.02558694, 0.02558508, 0.02557893,\n",
       "        0.02877631, 0.0245894 ]),\n",
       " 'std_score_time': array([0.0039218 , 0.00319037, 0.00318024, 0.00319557, 0.00320047,\n",
       "        0.00390878, 0.00120635]),\n",
       " 'param_alpha': masked_array(data=[0.0001, 0.001, 0.01, 0.1, 0.5, 1, 2],\n",
       "              mask=[False, False, False, False, False, False, False],\n",
       "        fill_value='?',\n",
       "             dtype=object),\n",
       " 'params': [{'alpha': 0.0001},\n",
       "  {'alpha': 0.001},\n",
       "  {'alpha': 0.01},\n",
       "  {'alpha': 0.1},\n",
       "  {'alpha': 0.5},\n",
       "  {'alpha': 1},\n",
       "  {'alpha': 2}],\n",
       " 'split0_test_score': array([0.95292439, 0.95863053, 0.96291013, 0.97289586, 0.9700428 ,\n",
       "        0.96861626, 0.96718973]),\n",
       " 'split1_test_score': array([0.93152639, 0.93295292, 0.94008559, 0.95007133, 0.95149786,\n",
       "        0.94864479, 0.94721826]),\n",
       " 'split2_test_score': array([0.92154066, 0.92867332, 0.93437946, 0.94436519, 0.96005706,\n",
       "        0.95292439, 0.95149786]),\n",
       " 'split3_test_score': array([0.94436519, 0.95007133, 0.95435093, 0.96433666, 0.9657632 ,\n",
       "        0.96433666, 0.96718973]),\n",
       " 'split4_test_score': array([0.93285714, 0.93857143, 0.94285714, 0.96428571, 0.96714286,\n",
       "        0.96714286, 0.96428571]),\n",
       " 'mean_test_score': array([0.93664276, 0.94177991, 0.94691665, 0.95919095, 0.96290075,\n",
       "        0.96033299, 0.95947626]),\n",
       " 'std_test_score': array([0.0108932 , 0.01106963, 0.01030906, 0.01042334, 0.00656217,\n",
       "        0.00803141, 0.00843848]),\n",
       " 'rank_test_score': array([7, 6, 5, 4, 1, 2, 3])}"
      ]
     },
     "execution_count": 52,
     "metadata": {},
     "output_type": "execute_result"
    }
   ],
   "source": [
    "gds.cv_results_"
   ]
  },
  {
   "cell_type": "code",
   "execution_count": 53,
   "metadata": {},
   "outputs": [
    {
     "data": {
      "text/html": [
       "<div>\n",
       "<style scoped>\n",
       "    .dataframe tbody tr th:only-of-type {\n",
       "        vertical-align: middle;\n",
       "    }\n",
       "\n",
       "    .dataframe tbody tr th {\n",
       "        vertical-align: top;\n",
       "    }\n",
       "\n",
       "    .dataframe thead th {\n",
       "        text-align: right;\n",
       "    }\n",
       "</style>\n",
       "<table border=\"1\" class=\"dataframe\">\n",
       "  <thead>\n",
       "    <tr style=\"text-align: right;\">\n",
       "      <th></th>\n",
       "      <th>mean_fit_time</th>\n",
       "      <th>std_fit_time</th>\n",
       "      <th>mean_score_time</th>\n",
       "      <th>std_score_time</th>\n",
       "      <th>param_alpha</th>\n",
       "      <th>params</th>\n",
       "      <th>split0_test_score</th>\n",
       "      <th>split1_test_score</th>\n",
       "      <th>split2_test_score</th>\n",
       "      <th>split3_test_score</th>\n",
       "      <th>split4_test_score</th>\n",
       "      <th>mean_test_score</th>\n",
       "      <th>std_test_score</th>\n",
       "      <th>rank_test_score</th>\n",
       "    </tr>\n",
       "  </thead>\n",
       "  <tbody>\n",
       "    <tr>\n",
       "      <th>0</th>\n",
       "      <td>0.145515</td>\n",
       "      <td>0.007843</td>\n",
       "      <td>0.028791</td>\n",
       "      <td>0.003922</td>\n",
       "      <td>0.0001</td>\n",
       "      <td>{'alpha': 0.0001}</td>\n",
       "      <td>0.952924</td>\n",
       "      <td>0.931526</td>\n",
       "      <td>0.921541</td>\n",
       "      <td>0.944365</td>\n",
       "      <td>0.932857</td>\n",
       "      <td>0.936643</td>\n",
       "      <td>0.010893</td>\n",
       "      <td>7</td>\n",
       "    </tr>\n",
       "    <tr>\n",
       "      <th>1</th>\n",
       "      <td>0.143902</td>\n",
       "      <td>0.005058</td>\n",
       "      <td>0.030368</td>\n",
       "      <td>0.003190</td>\n",
       "      <td>0.001</td>\n",
       "      <td>{'alpha': 0.001}</td>\n",
       "      <td>0.958631</td>\n",
       "      <td>0.932953</td>\n",
       "      <td>0.928673</td>\n",
       "      <td>0.950071</td>\n",
       "      <td>0.938571</td>\n",
       "      <td>0.941780</td>\n",
       "      <td>0.011070</td>\n",
       "      <td>6</td>\n",
       "    </tr>\n",
       "    <tr>\n",
       "      <th>2</th>\n",
       "      <td>0.142310</td>\n",
       "      <td>0.003185</td>\n",
       "      <td>0.025587</td>\n",
       "      <td>0.003180</td>\n",
       "      <td>0.01</td>\n",
       "      <td>{'alpha': 0.01}</td>\n",
       "      <td>0.962910</td>\n",
       "      <td>0.940086</td>\n",
       "      <td>0.934379</td>\n",
       "      <td>0.954351</td>\n",
       "      <td>0.942857</td>\n",
       "      <td>0.946917</td>\n",
       "      <td>0.010309</td>\n",
       "      <td>5</td>\n",
       "    </tr>\n",
       "    <tr>\n",
       "      <th>3</th>\n",
       "      <td>0.139112</td>\n",
       "      <td>0.003898</td>\n",
       "      <td>0.025585</td>\n",
       "      <td>0.003196</td>\n",
       "      <td>0.1</td>\n",
       "      <td>{'alpha': 0.1}</td>\n",
       "      <td>0.972896</td>\n",
       "      <td>0.950071</td>\n",
       "      <td>0.944365</td>\n",
       "      <td>0.964337</td>\n",
       "      <td>0.964286</td>\n",
       "      <td>0.959191</td>\n",
       "      <td>0.010423</td>\n",
       "      <td>4</td>\n",
       "    </tr>\n",
       "    <tr>\n",
       "      <th>4</th>\n",
       "      <td>0.142303</td>\n",
       "      <td>0.003197</td>\n",
       "      <td>0.025579</td>\n",
       "      <td>0.003200</td>\n",
       "      <td>0.5</td>\n",
       "      <td>{'alpha': 0.5}</td>\n",
       "      <td>0.970043</td>\n",
       "      <td>0.951498</td>\n",
       "      <td>0.960057</td>\n",
       "      <td>0.965763</td>\n",
       "      <td>0.967143</td>\n",
       "      <td>0.962901</td>\n",
       "      <td>0.006562</td>\n",
       "      <td>1</td>\n",
       "    </tr>\n",
       "    <tr>\n",
       "      <th>5</th>\n",
       "      <td>0.143909</td>\n",
       "      <td>0.000014</td>\n",
       "      <td>0.028776</td>\n",
       "      <td>0.003909</td>\n",
       "      <td>1</td>\n",
       "      <td>{'alpha': 1}</td>\n",
       "      <td>0.968616</td>\n",
       "      <td>0.948645</td>\n",
       "      <td>0.952924</td>\n",
       "      <td>0.964337</td>\n",
       "      <td>0.967143</td>\n",
       "      <td>0.960333</td>\n",
       "      <td>0.008031</td>\n",
       "      <td>2</td>\n",
       "    </tr>\n",
       "    <tr>\n",
       "      <th>6</th>\n",
       "      <td>0.137515</td>\n",
       "      <td>0.009328</td>\n",
       "      <td>0.024589</td>\n",
       "      <td>0.001206</td>\n",
       "      <td>2</td>\n",
       "      <td>{'alpha': 2}</td>\n",
       "      <td>0.967190</td>\n",
       "      <td>0.947218</td>\n",
       "      <td>0.951498</td>\n",
       "      <td>0.967190</td>\n",
       "      <td>0.964286</td>\n",
       "      <td>0.959476</td>\n",
       "      <td>0.008438</td>\n",
       "      <td>3</td>\n",
       "    </tr>\n",
       "  </tbody>\n",
       "</table>\n",
       "</div>"
      ],
      "text/plain": [
       "   mean_fit_time  std_fit_time  mean_score_time  std_score_time param_alpha  \\\n",
       "0       0.145515      0.007843         0.028791        0.003922      0.0001   \n",
       "1       0.143902      0.005058         0.030368        0.003190       0.001   \n",
       "2       0.142310      0.003185         0.025587        0.003180        0.01   \n",
       "3       0.139112      0.003898         0.025585        0.003196         0.1   \n",
       "4       0.142303      0.003197         0.025579        0.003200         0.5   \n",
       "5       0.143909      0.000014         0.028776        0.003909           1   \n",
       "6       0.137515      0.009328         0.024589        0.001206           2   \n",
       "\n",
       "              params  split0_test_score  split1_test_score  split2_test_score  \\\n",
       "0  {'alpha': 0.0001}           0.952924           0.931526           0.921541   \n",
       "1   {'alpha': 0.001}           0.958631           0.932953           0.928673   \n",
       "2    {'alpha': 0.01}           0.962910           0.940086           0.934379   \n",
       "3     {'alpha': 0.1}           0.972896           0.950071           0.944365   \n",
       "4     {'alpha': 0.5}           0.970043           0.951498           0.960057   \n",
       "5       {'alpha': 1}           0.968616           0.948645           0.952924   \n",
       "6       {'alpha': 2}           0.967190           0.947218           0.951498   \n",
       "\n",
       "   split3_test_score  split4_test_score  mean_test_score  std_test_score  \\\n",
       "0           0.944365           0.932857         0.936643        0.010893   \n",
       "1           0.950071           0.938571         0.941780        0.011070   \n",
       "2           0.954351           0.942857         0.946917        0.010309   \n",
       "3           0.964337           0.964286         0.959191        0.010423   \n",
       "4           0.965763           0.967143         0.962901        0.006562   \n",
       "5           0.964337           0.967143         0.960333        0.008031   \n",
       "6           0.967190           0.964286         0.959476        0.008438   \n",
       "\n",
       "   rank_test_score  \n",
       "0                7  \n",
       "1                6  \n",
       "2                5  \n",
       "3                4  \n",
       "4                1  \n",
       "5                2  \n",
       "6                3  "
      ]
     },
     "execution_count": 53,
     "metadata": {},
     "output_type": "execute_result"
    }
   ],
   "source": [
    "df = pd.DataFrame(gds.cv_results_)\n",
    "df"
   ]
  },
  {
   "cell_type": "code",
   "execution_count": 54,
   "metadata": {
    "scrolled": true
   },
   "outputs": [],
   "source": [
    "gds_predictions = gds.predict(X_test)"
   ]
  },
  {
   "cell_type": "code",
   "execution_count": 55,
   "metadata": {},
   "outputs": [
    {
     "name": "stdout",
     "output_type": "stream",
     "text": [
      "Confusion Matrix\n",
      "[[100   0   0   0   2   0   0]\n",
      " [  0 104   0   0   0   0   2]\n",
      " [  0   0  78   0   0   0   0]\n",
      " [  0   0   0 124   1   0   0]\n",
      " [  0   0   0   0 146   0   3]\n",
      " [  0   0   0   0   0  51   0]\n",
      " [  1   0   0   1   2   0 261]]\n",
      "---------------------------------\n",
      "Classification Report\n",
      "              precision    recall  f1-score   support\n",
      "\n",
      "           0       0.99      0.98      0.99       102\n",
      "           1       1.00      0.98      0.99       106\n",
      "           2       1.00      1.00      1.00        78\n",
      "           3       0.99      0.99      0.99       125\n",
      "           4       0.97      0.98      0.97       149\n",
      "           5       1.00      1.00      1.00        51\n",
      "           6       0.98      0.98      0.98       265\n",
      "\n",
      "    accuracy                           0.99       876\n",
      "   macro avg       0.99      0.99      0.99       876\n",
      "weighted avg       0.99      0.99      0.99       876\n",
      "\n",
      "---------------------------------\n",
      "Accuracy\n",
      "0.9863013698630136\n"
     ]
    }
   ],
   "source": [
    "print('Confusion Matrix')\n",
    "print(confusion_matrix(y_test,gds_predictions))\n",
    "print('---------------------------------')\n",
    "print('Classification Report')\n",
    "print(classification_report(y_test,gds_predictions))\n",
    "print('---------------------------------')\n",
    "print('Accuracy')\n",
    "print(accuracy_score(y_test,gds_predictions))"
   ]
  },
  {
   "cell_type": "code",
   "execution_count": 56,
   "metadata": {},
   "outputs": [],
   "source": [
    "# Looks like alpha = 0.5 is giving the best results for human data"
   ]
  },
  {
   "cell_type": "code",
   "execution_count": 57,
   "metadata": {
    "scrolled": true
   },
   "outputs": [
    {
     "data": {
      "text/plain": [
       "Text(0, 0.5, 'Count')"
      ]
     },
     "execution_count": 57,
     "metadata": {},
     "output_type": "execute_result"
    },
    {
     "data": {
      "image/png": "[encoded data removed]",
      "text/plain": [
       "<Figure size 432x288 with 1 Axes>"
      ]
     },
     "metadata": {
      "needs_background": "light"
     },
     "output_type": "display_data"
    }
   ],
   "source": [
    "df_chimp['class'].value_counts().sort_index().plot.bar()\n",
    "plt.title('Chimp data')\n",
    "plt.xlabel('DNA Class')\n",
    "plt.ylabel('Count')"
   ]
  },
  {
   "cell_type": "code",
   "execution_count": 58,
   "metadata": {},
   "outputs": [],
   "source": [
    "c_predictions = gds.predict(chimp_data)"
   ]
  },
  {
   "cell_type": "code",
   "execution_count": 59,
   "metadata": {},
   "outputs": [
    {
     "name": "stdout",
     "output_type": "stream",
     "text": [
      "Confusion Matrix\n",
      "[[233   0   0   0   1   0   0]\n",
      " [  0 184   0   0   0   0   1]\n",
      " [  0   0 144   0   0   0   0]\n",
      " [  0   0   0 227   1   0   0]\n",
      " [  0   0   0   0 260   0   1]\n",
      " [  0   0   0   0   0 109   0]\n",
      " [  0   0   0   0   2   0 519]]\n",
      "---------------------------------\n",
      "Classification Report\n",
      "              precision    recall  f1-score   support\n",
      "\n",
      "           0       1.00      1.00      1.00       234\n",
      "           1       1.00      0.99      1.00       185\n",
      "           2       1.00      1.00      1.00       144\n",
      "           3       1.00      1.00      1.00       228\n",
      "           4       0.98      1.00      0.99       261\n",
      "           5       1.00      1.00      1.00       109\n",
      "           6       1.00      1.00      1.00       521\n",
      "\n",
      "    accuracy                           1.00      1682\n",
      "   macro avg       1.00      1.00      1.00      1682\n",
      "weighted avg       1.00      1.00      1.00      1682\n",
      "\n",
      "---------------------------------\n",
      "Accuracy\n",
      "0.9964328180737217\n"
     ]
    }
   ],
   "source": [
    "print('Confusion Matrix')\n",
    "print(confusion_matrix(df_chimp['class'],c_predictions))\n",
    "print('---------------------------------')\n",
    "print('Classification Report')\n",
    "print(classification_report(df_chimp['class'],c_predictions))\n",
    "print('---------------------------------')\n",
    "print('Accuracy')\n",
    "print(accuracy_score(df_chimp['class'],c_predictions))"
   ]
  },
  {
   "cell_type": "code",
   "execution_count": 60,
   "metadata": {},
   "outputs": [],
   "source": [
    "# The model gives very accurate results on chimp data , well chimps and humans are actually related genetically"
   ]
  },
  {
   "cell_type": "code",
   "execution_count": 61,
   "metadata": {},
   "outputs": [
    {
     "data": {
      "text/plain": [
       "Text(0, 0.5, 'Count')"
      ]
     },
     "execution_count": 61,
     "metadata": {},
     "output_type": "execute_result"
    },
    {
     "data": {
      "image/png": "[encoded data removed]",
      "text/plain": [
       "<Figure size 432x288 with 1 Axes>"
      ]
     },
     "metadata": {
      "needs_background": "light"
     },
     "output_type": "display_data"
    }
   ],
   "source": [
    "df_dog['class'].value_counts().sort_index().plot.bar()\n",
    "plt.title('Dog data')\n",
    "plt.xlabel('DNA Class')\n",
    "plt.ylabel('Count')"
   ]
  },
  {
   "cell_type": "code",
   "execution_count": 62,
   "metadata": {},
   "outputs": [],
   "source": [
    "d_predictions = gds.predict(dog_data)"
   ]
  },
  {
   "cell_type": "code",
   "execution_count": 63,
   "metadata": {},
   "outputs": [
    {
     "name": "stdout",
     "output_type": "stream",
     "text": [
      "Confusion Matrix\n",
      "[[127   0   0   0   3   0   1]\n",
      " [  1  62   0   0   4   0   8]\n",
      " [  0   0  58   0   4   0   2]\n",
      " [  0   0   0  85   6   1   3]\n",
      " [  1   0   0   1 131   1   1]\n",
      " [  1   0   0   0   1  58   0]\n",
      " [  0   0   0   1   2   0 257]]\n",
      "---------------------------------\n",
      "Classification Report\n",
      "              precision    recall  f1-score   support\n",
      "\n",
      "           0       0.98      0.97      0.97       131\n",
      "           1       1.00      0.83      0.91        75\n",
      "           2       1.00      0.91      0.95        64\n",
      "           3       0.98      0.89      0.93        95\n",
      "           4       0.87      0.97      0.92       135\n",
      "           5       0.97      0.97      0.97        60\n",
      "           6       0.94      0.99      0.97       260\n",
      "\n",
      "    accuracy                           0.95       820\n",
      "   macro avg       0.96      0.93      0.94       820\n",
      "weighted avg       0.95      0.95      0.95       820\n",
      "\n",
      "---------------------------------\n",
      "Accuracy\n",
      "0.948780487804878\n"
     ]
    }
   ],
   "source": [
    "print('Confusion Matrix')\n",
    "print(confusion_matrix(df_dog['class'],d_predictions))\n",
    "print('---------------------------------')\n",
    "print('Classification Report')\n",
    "print(classification_report(df_dog['class'],d_predictions))\n",
    "print('---------------------------------')\n",
    "print('Accuracy')\n",
    "print(accuracy_score(df_dog['class'],d_predictions))"
   ]
  },
  {
   "cell_type": "code",
   "execution_count": 64,
   "metadata": {},
   "outputs": [],
   "source": [
    "# Model did not perform well on dog data , unlike chimps humans are not very related to dogs genetically."
   ]
  }
 ],
 "metadata": {
  "kernelspec": {
   "display_name": "Python 3",
   "language": "python",
   "name": "python3"
  },
  "language_info": {
   "codemirror_mode": {
    "name": "ipython",
    "version": 3
   },
   "file_extension": ".py",
   "mimetype": "text/x-python",
   "name": "python",
   "nbconvert_exporter": "python",
   "pygments_lexer": "ipython3",
   "version": "3.8.3"
  }
 },
 "nbformat": 4,
 "nbformat_minor": 4
}
